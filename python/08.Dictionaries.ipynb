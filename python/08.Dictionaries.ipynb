{
 "cells": [
  {
   "cell_type": "markdown",
   "id": "ae5455fd-daad-4bc6-b2d3-85c961ab93d8",
   "metadata": {},
   "source": [
    "# Dictionaries"
   ]
  },
  {
   "cell_type": "markdown",
   "id": "f5c454a4-da8e-469a-8619-c0500551e88f",
   "metadata": {},
   "source": [
    "## Dictionaries are used to store data values in key:value pairs.s."
   ]
  },
  {
   "cell_type": "markdown",
   "id": "a6d6ac26-4a72-4174-a8a8-159e12699919",
   "metadata": {},
   "source": [
    "# A dictionary is a collection which is ordered*, changeable and do not allow duplicates."
   ]
  },
  {
   "cell_type": "code",
   "execution_count": 1,
   "id": "c7bb70ef-1d50-4b12-8a5a-e43d93d2227a",
   "metadata": {},
   "outputs": [
    {
     "name": "stdout",
     "output_type": "stream",
     "text": [
      "{'name': 'Pritam', 'location': 'Redhill', 'postcode': 'RH11UE', 'hight': 5.8}\n"
     ]
    }
   ],
   "source": [
    "thisdict = {\n",
    "  \"name\": \"Pritam\",\n",
    "  \"location\": \"Redhill\",\n",
    "  \"postcode\": \"RH11UE\",\n",
    "  \"hight\": 5.8\n",
    "}\n",
    "print(thisdict)"
   ]
  },
  {
   "cell_type": "markdown",
   "id": "10b396e4-eba8-4309-9415-c74eae8ef9d9",
   "metadata": {},
   "source": [
    "# Access Dictionary Items"
   ]
  },
  {
   "cell_type": "code",
   "execution_count": 2,
   "id": "c2a3812b-2ea4-4678-8893-a27b4ca35c25",
   "metadata": {},
   "outputs": [
    {
     "name": "stdout",
     "output_type": "stream",
     "text": [
      "RH11UE\n"
     ]
    }
   ],
   "source": [
    "print(thisdict[\"postcode\"])"
   ]
  },
  {
   "cell_type": "markdown",
   "id": "bd7adc6c-ec94-4eb3-b9d9-5182f03b87a1",
   "metadata": {},
   "source": [
    "## Duplicates Not Allowed"
   ]
  },
  {
   "cell_type": "code",
   "execution_count": 3,
   "id": "c28f9e32-d4fd-4953-875c-9b932da3c101",
   "metadata": {},
   "outputs": [
    {
     "name": "stdout",
     "output_type": "stream",
     "text": [
      "{'name': 'Pritam', 'location': 'Redhill', 'postcode': 'RH11UE', 'hight': 5.8}\n"
     ]
    }
   ],
   "source": [
    "thisdict1 = {\n",
    "  \"name\": \"Pritam\",\n",
    "  \"location\": \"Redhill\",\n",
    "  \"postcode\": \"RH11UE\",\n",
    "  \"hight\": 5.8,\n",
    "  \"hight\": 5.8\n",
    "}\n",
    "print(thisdict1)"
   ]
  },
  {
   "cell_type": "markdown",
   "id": "c99f9b13-5b5a-4ca4-85be-b2a15bb062cd",
   "metadata": {},
   "source": [
    "# Dictionary Length"
   ]
  },
  {
   "cell_type": "code",
   "execution_count": 4,
   "id": "d30eee5b-dcf6-4190-ab9b-ccc6a5fd5ceb",
   "metadata": {},
   "outputs": [
    {
     "name": "stdout",
     "output_type": "stream",
     "text": [
      "4\n"
     ]
    }
   ],
   "source": [
    "print(len(thisdict1))"
   ]
  },
  {
   "cell_type": "markdown",
   "id": "ff328b4e-3600-4486-91e7-ce1d02e91eaf",
   "metadata": {},
   "source": [
    "# Dictionary Items - Data Types"
   ]
  },
  {
   "cell_type": "code",
   "execution_count": 6,
   "id": "22b48600-7ae0-4e06-b557-88a9ea2c08b8",
   "metadata": {},
   "outputs": [
    {
     "name": "stdout",
     "output_type": "stream",
     "text": [
      "{'name': 'Pritam', 'location': 'Redhill', 'postcode': 'RH11UE', 'hight': 5.8, 'numbers': [1990, 2014, 2017, 2022, 2013]}\n",
      "<class 'dict'>\n"
     ]
    }
   ],
   "source": [
    "thisdict1 = {\n",
    "  \"name\": \"Pritam\",\n",
    "  \"location\": \"Redhill\",\n",
    "  \"postcode\": \"RH11UE\",\n",
    "  \"hight\": 5.8,\n",
    "  \"numbers\": [1990,2014, 2017,2022,2013]\n",
    "}\n",
    "print(thisdict1)\n",
    "print(type(thisdict1))"
   ]
  },
  {
   "cell_type": "markdown",
   "id": "4c66276e-0732-4374-95c7-9d34e2aa98d3",
   "metadata": {},
   "source": [
    "# Get Keys"
   ]
  },
  {
   "cell_type": "code",
   "execution_count": 8,
   "id": "c1d48c24-e7d9-4cb2-9441-ebed658a4420",
   "metadata": {},
   "outputs": [
    {
     "name": "stdout",
     "output_type": "stream",
     "text": [
      "dict_keys(['name', 'location', 'postcode', 'hight', 'numbers'])\n"
     ]
    }
   ],
   "source": [
    "x = thisdict1.keys()\n",
    "print(x)"
   ]
  },
  {
   "cell_type": "markdown",
   "id": "59d8effc-2176-48c1-8177-021a1d56fd21",
   "metadata": {},
   "source": [
    "# Add Items"
   ]
  },
  {
   "cell_type": "code",
   "execution_count": 11,
   "id": "4111c3bb-8bb1-4914-b9fa-c6a773da940b",
   "metadata": {},
   "outputs": [],
   "source": [
    "thisdict1[\"color\"] = \"white\""
   ]
  },
  {
   "cell_type": "code",
   "execution_count": 12,
   "id": "dfb44b76-a993-4b23-8e76-e6ed386946a4",
   "metadata": {},
   "outputs": [
    {
     "name": "stdout",
     "output_type": "stream",
     "text": [
      "{'name': 'Pritam', 'location': 'Redhill', 'postcode': 'RH11UE', 'hight': 5.8, 'numbers': [1990, 2014, 2017, 2022, 2013], 'color': 'white'}\n"
     ]
    }
   ],
   "source": [
    "print(thisdict1)"
   ]
  },
  {
   "cell_type": "markdown",
   "id": "ca6ac23b-0c0a-4872-acad-fcc893bfd989",
   "metadata": {},
   "source": [
    "# Get Values"
   ]
  },
  {
   "cell_type": "code",
   "execution_count": 13,
   "id": "14ee1a54-d9e4-4373-bac0-0530af0e4a1f",
   "metadata": {},
   "outputs": [
    {
     "name": "stdout",
     "output_type": "stream",
     "text": [
      "dict_values(['Pritam', 'Redhill', 'RH11UE', 5.8, [1990, 2014, 2017, 2022, 2013], 'white'])\n"
     ]
    }
   ],
   "source": [
    "y = thisdict1.values()\n",
    "print(y)"
   ]
  },
  {
   "cell_type": "code",
   "execution_count": 14,
   "id": "3d61e66a-ace8-44b9-aa13-480d9c71f4ec",
   "metadata": {},
   "outputs": [
    {
     "name": "stdout",
     "output_type": "stream",
     "text": [
      "Yes, 'location' is one of the keys in the thisdict1 dictionary\n"
     ]
    }
   ],
   "source": [
    "if \"location\" in thisdict1:\n",
    "  print(\"Yes, 'location' is one of the keys in the thisdict1 dictionary\")"
   ]
  },
  {
   "cell_type": "markdown",
   "id": "d4f2342b-4d47-4a71-993d-2b7f8a3867e8",
   "metadata": {},
   "source": [
    "# Update Dictionary"
   ]
  },
  {
   "cell_type": "code",
   "execution_count": 15,
   "id": "6cf2c222-cc69-453f-aa24-4e9fb0621ec7",
   "metadata": {},
   "outputs": [
    {
     "name": "stdout",
     "output_type": "stream",
     "text": [
      "{'name': 'Pritam', 'location': 'Redhill', 'postcode': 'RH11UE', 'hight': 5.8, 'numbers': [1990, 2014, 2017, 2022, 2013], 'color': 'white', 'married': 'yes'}\n"
     ]
    }
   ],
   "source": [
    "thisdict1.update({\"married\": \"yes\"})\n",
    "print(thisdict1)"
   ]
  },
  {
   "cell_type": "markdown",
   "id": "95156c76-e9e4-4c8d-b420-112fe02994de",
   "metadata": {},
   "source": [
    "## Removing Items"
   ]
  },
  {
   "cell_type": "code",
   "execution_count": 16,
   "id": "962b0a69-b441-4b81-828a-cbdeb65877a2",
   "metadata": {},
   "outputs": [
    {
     "name": "stdout",
     "output_type": "stream",
     "text": [
      "{'name': 'Pritam', 'location': 'Redhill', 'postcode': 'RH11UE', 'numbers': [1990, 2014, 2017, 2022, 2013], 'color': 'white', 'married': 'yes'}\n"
     ]
    }
   ],
   "source": [
    "thisdict1.pop(\"hight\")\n",
    "print(thisdict1)"
   ]
  },
  {
   "cell_type": "markdown",
   "id": "68b2d5ec-8624-43fa-8f68-ad7dd1db1244",
   "metadata": {},
   "source": [
    "## The popitem() method removes the last inserted item if we did not mention the item key"
   ]
  },
  {
   "cell_type": "code",
   "execution_count": 17,
   "id": "1936b7d8-3d80-449e-a56f-0f83b653fcfd",
   "metadata": {},
   "outputs": [
    {
     "name": "stdout",
     "output_type": "stream",
     "text": [
      "{'name': 'Pritam', 'location': 'Redhill', 'postcode': 'RH11UE', 'numbers': [1990, 2014, 2017, 2022, 2013], 'color': 'white'}\n"
     ]
    }
   ],
   "source": [
    "thisdict1.popitem()\n",
    "print(thisdict1)"
   ]
  },
  {
   "cell_type": "markdown",
   "id": "61805145-2d33-4db7-b093-991fd9f5c96b",
   "metadata": {},
   "source": [
    "# Loop Dictionary"
   ]
  },
  {
   "cell_type": "code",
   "execution_count": 18,
   "id": "32c258ec-7529-4539-b305-8a448ec28378",
   "metadata": {},
   "outputs": [
    {
     "name": "stdout",
     "output_type": "stream",
     "text": [
      "name\n",
      "location\n",
      "postcode\n",
      "numbers\n",
      "color\n"
     ]
    }
   ],
   "source": [
    "for x in thisdict1.keys():\n",
    "  print(x)"
   ]
  },
  {
   "cell_type": "code",
   "execution_count": 19,
   "id": "10bd3d31-bcd4-4936-9edf-7585e8dac4c3",
   "metadata": {},
   "outputs": [
    {
     "name": "stdout",
     "output_type": "stream",
     "text": [
      "name Pritam\n",
      "location Redhill\n",
      "postcode RH11UE\n",
      "numbers [1990, 2014, 2017, 2022, 2013]\n",
      "color white\n"
     ]
    }
   ],
   "source": [
    "for x, y in thisdict1.items():\n",
    "  print(x, y)"
   ]
  },
  {
   "cell_type": "markdown",
   "id": "a65f8452-7032-4968-bb5b-2ee15dcffb0e",
   "metadata": {},
   "source": [
    "# Nested Dictionaries"
   ]
  },
  {
   "cell_type": "code",
   "execution_count": 21,
   "id": "608eb7b4-f3de-4327-b413-812c1e901cab",
   "metadata": {},
   "outputs": [
    {
     "name": "stdout",
     "output_type": "stream",
     "text": [
      "{'car1': {'Mercedes': 1960}, 'car2': {'Audi': 1970}, 'car3': {'Ambassador': 1980}}\n"
     ]
    }
   ],
   "source": [
    "car1_model={'Mercedes':1960}\n",
    "car2_model={'Audi':1970}\n",
    "car3_model={'Ambassador':1980}\n",
    "\n",
    "car_type={'car1':car1_model,'car2':car2_model,'car3':car3_model}\n",
    "print(car_type)"
   ]
  },
  {
   "cell_type": "code",
   "execution_count": 23,
   "id": "6492fc9c-2ba2-47c3-b781-b69981da8674",
   "metadata": {},
   "outputs": [
    {
     "name": "stdout",
     "output_type": "stream",
     "text": [
      "{'Ambassador': 1980}\n"
     ]
    }
   ],
   "source": [
    "## Accessing the items in the dictionary\n",
    "\n",
    "print(car_type['car3'])"
   ]
  },
  {
   "cell_type": "code",
   "execution_count": null,
   "id": "8170b4c6-ead9-45ba-8114-a28d2696f1ab",
   "metadata": {},
   "outputs": [],
   "source": []
  }
 ],
 "metadata": {
  "kernelspec": {
   "display_name": "Python 3 (ipykernel)",
   "language": "python",
   "name": "python3"
  },
  "language_info": {
   "codemirror_mode": {
    "name": "ipython",
    "version": 3
   },
   "file_extension": ".py",
   "mimetype": "text/x-python",
   "name": "python",
   "nbconvert_exporter": "python",
   "pygments_lexer": "ipython3",
   "version": "3.10.6"
  }
 },
 "nbformat": 4,
 "nbformat_minor": 5
}
