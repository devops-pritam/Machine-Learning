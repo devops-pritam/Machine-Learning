{
 "cells": [
  {
   "cell_type": "markdown",
   "id": "55ed279e-4962-4c6e-a231-5108b759a9fe",
   "metadata": {},
   "source": [
    "Question 1\r\n",
    "Level 1\r\n",
    "\r\n",
    "Question:\r\n",
    "Write a program which will find all such numbers which are divisible by 7 but are not a multiple of 5,\r\n",
    "between 2000 and 3200 (both included).\r\n",
    "The numbers obtained should be printed in a comma-separated sequence on a single line"
   ]
  },
  {
   "cell_type": "code",
   "execution_count": 8,
   "id": "7279cc97-7039-46ac-8f67-702983e615c9",
   "metadata": {},
   "outputs": [
    {
     "name": "stdout",
     "output_type": "stream",
     "text": [
      "[2002, 2009, 2016, 2023, 2037, 2044, 2051, 2058, 2072, 2079, 2086, 2093, 2107, 2114, 2121, 2128, 2142, 2149, 2156, 2163, 2177, 2184, 2191, 2198, 2212, 2219, 2226, 2233, 2247, 2254, 2261, 2268, 2282, 2289, 2296, 2303, 2317, 2324, 2331, 2338, 2352, 2359, 2366, 2373, 2387, 2394, 2401, 2408, 2422, 2429, 2436, 2443, 2457, 2464, 2471, 2478, 2492, 2499, 2506, 2513, 2527, 2534, 2541, 2548, 2562, 2569, 2576, 2583, 2597, 2604, 2611, 2618, 2632, 2639, 2646, 2653, 2667, 2674, 2681, 2688, 2702, 2709, 2716, 2723, 2737, 2744, 2751, 2758, 2772, 2779, 2786, 2793, 2807, 2814, 2821, 2828, 2842, 2849, 2856, 2863, 2877, 2884, 2891, 2898, 2912, 2919, 2926, 2933, 2947, 2954, 2961, 2968, 2982, 2989, 2996, 3003, 3017, 3024, 3031, 3038, 3052, 3059, 3066, 3073, 3087, 3094, 3101, 3108, 3122, 3129, 3136, 3143, 3157, 3164, 3171, 3178, 3192, 3199]\n"
     ]
    }
   ],
   "source": [
    "my_list = []\n",
    "for i in range(2000,3201):\n",
    "    \n",
    "    if (i%7 == 0 and i%5 !=0):\n",
    "        my_list.append(i)\n",
    "print(my_list)"
   ]
  },
  {
   "cell_type": "markdown",
   "id": "8023a417-b80f-4a1d-8100-27acc2f1ec4c",
   "metadata": {},
   "source": [
    "Question 2\r\n",
    "Level 1\r\n",
    "\r\n",
    "Question:\r\n",
    "Write a program which can compute the factorial of a given numbers.\r\n",
    "The results should be printed in a comma-separated sequence on a single line.\r\n",
    "Suppose the following input is supplied to the program:\r\n",
    "8\r\n",
    "Then, the output should be:\r\n",
    "40320"
   ]
  },
  {
   "cell_type": "code",
   "execution_count": 11,
   "id": "4e727ece-d727-4294-8c55-162a8e01042d",
   "metadata": {},
   "outputs": [
    {
     "name": "stdin",
     "output_type": "stream",
     "text": [
      "Enter the Number : 8\n"
     ]
    },
    {
     "name": "stdout",
     "output_type": "stream",
     "text": [
      "The factorial of 8 is 40320\n"
     ]
    }
   ],
   "source": [
    "import math\n",
    "x = int(input('Enter the Number :'))\n",
    "factorial = math.factorial(x)\n",
    "print(\"The factorial of\", x, \"is\", factorial)"
   ]
  },
  {
   "cell_type": "markdown",
   "id": "91fe1191-1772-4b1c-96aa-b2fea1a4b639",
   "metadata": {},
   "source": [
    "Question 3\r\n",
    "Level 1\r\n",
    "\r\n",
    "Question:\r\n",
    "With a given integral number n, write a program to generate a dictionary that contains (i, i*i) such that is an integral number between 1 and n (both included). and then the program should print the dictionary.\r\n",
    "Suppose the following input is supplied to the program:\r\n",
    "8\r\n",
    "Then, the output should be:\r\n",
    "{1: 1, 2: 4, 3: 9, 4: 16, 5: 25, 6: 36, 7: 49, 8: 64}"
   ]
  },
  {
   "cell_type": "code",
   "execution_count": 15,
   "id": "ce148dba-5528-4659-9546-8b9cef80a172",
   "metadata": {},
   "outputs": [
    {
     "name": "stdin",
     "output_type": "stream",
     "text": [
      "Enter the number :  8\n"
     ]
    },
    {
     "name": "stdout",
     "output_type": "stream",
     "text": [
      "{1: 1, 2: 4, 3: 9, 4: 16, 5: 25, 6: 36, 7: 49, 8: 64}\n"
     ]
    }
   ],
   "source": [
    "my_dict = {}\n",
    "a = int(input('Enter the number : '))\n",
    "for i in range(1,a+1):\n",
    "    my_dict[i] = i*i       \n",
    "       \n",
    "print(my_dict)\n"
   ]
  },
  {
   "cell_type": "markdown",
   "id": "ad146226-e6f7-49b6-9220-92d961e777ae",
   "metadata": {},
   "source": [
    "Question 4\r\n",
    "Level 1\r\n",
    "\r\n",
    "Question:\r\n",
    "Write a program which accepts a sequence of comma-separated numbers from console and generate a list and a tuple which contains every number.\r\n",
    "Suppose the following input is supplied to the program:\r\n",
    "34,67,55,33,12,98\r\n",
    "Then, the output should be:\r\n",
    "['34', '67', '55', '33', '12', '98']\r\n",
    "('34', '67', '55', '33', '12', '98')"
   ]
  },
  {
   "cell_type": "code",
   "execution_count": 21,
   "id": "9cc3e211-84fa-4ca0-bd51-17a1295acc66",
   "metadata": {},
   "outputs": [
    {
     "name": "stdin",
     "output_type": "stream",
     "text": [
      "Enter the numbers with comma seperated:  34,67,55,33,12,98\n"
     ]
    },
    {
     "name": "stdout",
     "output_type": "stream",
     "text": [
      "['34', '67', '55', '33', '12', '98']\n",
      "('34', '67', '55', '33', '12', '98')\n"
     ]
    }
   ],
   "source": [
    "p = input('Enter the numbers with comma seperated: ')\n",
    "a = list()\n",
    "s = p.split(',')\n",
    "for i in range(len(s)):\n",
    "    a.append((s[i]))\n",
    "print(a)\n",
    "print(tuple(a))\n",
    "    "
   ]
  },
  {
   "cell_type": "markdown",
   "id": "8f659fac-0250-4b81-b2f5-e763ddebba40",
   "metadata": {},
   "source": [
    "Question 5\r\n",
    "Level 1\r\n",
    "\r\n",
    "Question:\r\n",
    "Define a class which has at least two methods:\r\n",
    "getString: to get a string from console input\r\n",
    "printString: to print the string in upper case.\r\n",
    "Also please include simple test function to test the class methods."
   ]
  },
  {
   "cell_type": "code",
   "execution_count": 24,
   "id": "bc85fca0-f592-4821-9c10-872c78e89b09",
   "metadata": {},
   "outputs": [
    {
     "name": "stdin",
     "output_type": "stream",
     "text": [
      " 1\n"
     ]
    },
    {
     "name": "stdout",
     "output_type": "stream",
     "text": [
      "1\n"
     ]
    }
   ],
   "source": [
    "class IOString():\n",
    "    def __init__(self):\n",
    "        self.str1 = \"\"\n",
    "\n",
    "    def get_String(self):\n",
    "        self.str1 = input()\n",
    "\n",
    "    def print_String(self):\n",
    "        print(self.str1.upper())\n",
    "\n",
    "str1 = IOString()\n",
    "str1.get_String()\n",
    "str1.print_String()"
   ]
  },
  {
   "cell_type": "markdown",
   "id": "164a291c-f6a0-4f8f-94ef-30e477160dae",
   "metadata": {},
   "source": [
    "Question 6\r\n",
    "Level 2\r\n",
    "\r\n",
    "Question:\r\n",
    "Write a program that calculates and prints the value according to the given formula:\r\n",
    "Q = Square root of [(2 * C * D)/H]\r\n",
    "Following are the fixed values of C and H:\r\n",
    "C is 50. H is 30.\r\n",
    "D is the variable whose values should be input to your program in a comma-separated sequence.\r\n",
    "Example\r\n",
    "Let us assume the following comma separated input sequence is given to the program:\r\n",
    "100,150,180\r\n",
    "The output of the program should be:\r\n",
    "18,22,24"
   ]
  },
  {
   "cell_type": "code",
   "execution_count": 28,
   "id": "c67353aa-45fe-499f-a9b1-da6f61036f3c",
   "metadata": {},
   "outputs": [
    {
     "name": "stdin",
     "output_type": "stream",
     "text": [
      " 100,150,180\n"
     ]
    },
    {
     "name": "stdout",
     "output_type": "stream",
     "text": [
      "18,22,24\n"
     ]
    }
   ],
   "source": [
    "import math\n",
    "c=50\n",
    "h=30\n",
    "value = []\n",
    "items=[x for x in input().split(',')]\n",
    "for d in items:\n",
    "    value.append(str(int(round(math.sqrt(2*c*float(d)/h)))))\n",
    "\n",
    "j = ','.join(value)\n",
    "print(j)"
   ]
  },
  {
   "cell_type": "code",
   "execution_count": null,
   "id": "c5fe0cef-8755-48e7-8891-a57ec8e1f09e",
   "metadata": {},
   "outputs": [],
   "source": []
  }
 ],
 "metadata": {
  "kernelspec": {
   "display_name": "Python 3 (ipykernel)",
   "language": "python",
   "name": "python3"
  },
  "language_info": {
   "codemirror_mode": {
    "name": "ipython",
    "version": 3
   },
   "file_extension": ".py",
   "mimetype": "text/x-python",
   "name": "python",
   "nbconvert_exporter": "python",
   "pygments_lexer": "ipython3",
   "version": "3.10.6"
  }
 },
 "nbformat": 4,
 "nbformat_minor": 5
}
