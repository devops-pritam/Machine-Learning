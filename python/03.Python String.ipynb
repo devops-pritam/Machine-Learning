{
 "cells": [
  {
   "cell_type": "markdown",
   "id": "1749c288-7d2a-46f8-8734-e8692094eded",
   "metadata": {},
   "source": [
    "# Python String"
   ]
  },
  {
   "cell_type": "markdown",
   "id": "c713c471-fbbb-4e4a-826f-7992ef16da47",
   "metadata": {},
   "source": [
    "## Strings in python are surrounded by either single quotation marks 'pritam', or double quotation marks \"pritam\"\n",
    "### We can display a string literal with the print() function:"
   ]
  },
  {
   "cell_type": "code",
   "execution_count": 2,
   "id": "f511aaea-5dcb-485f-8866-699d532cccdb",
   "metadata": {},
   "outputs": [
    {
     "name": "stdout",
     "output_type": "stream",
     "text": [
      "Let's Learn Python\n"
     ]
    }
   ],
   "source": [
    "print(\"Let's Learn Python\")"
   ]
  },
  {
   "cell_type": "markdown",
   "id": "4d2d8d85-1aa9-4618-807f-2d9326881fa6",
   "metadata": {},
   "source": [
    "# Assign String to a Variable"
   ]
  },
  {
   "cell_type": "code",
   "execution_count": 3,
   "id": "b7fc6577-d5f1-4ff8-8048-ca2edcec288f",
   "metadata": {},
   "outputs": [
    {
     "name": "stdout",
     "output_type": "stream",
     "text": [
      "Pritam\n"
     ]
    }
   ],
   "source": [
    "a = \"Pritam\"\n",
    "print(a)"
   ]
  },
  {
   "cell_type": "markdown",
   "id": "6772ad1e-f9f3-4eed-ad58-2f4a621d0858",
   "metadata": {},
   "source": [
    "# Multiline Strings"
   ]
  },
  {
   "cell_type": "code",
   "execution_count": 4,
   "id": "5cf8b672-20eb-4ad4-8f6f-8095be88ece8",
   "metadata": {},
   "outputs": [
    {
     "name": "stdout",
     "output_type": "stream",
     "text": [
      " My name is Pritam.\n",
      "Here we are learning Python Basic to Advanced.\n",
      "Because, python is used in various techs,\n",
      "such as Devops, DS, ML, AI etc. \n"
     ]
    }
   ],
   "source": [
    "a = \"\"\" My name is Pritam.\n",
    "Here we are learning Python Basic to Advanced.\n",
    "Because, python is used in various techs,\n",
    "such as Devops, DS, ML, AI etc. \"\"\"\n",
    "print(a)"
   ]
  },
  {
   "cell_type": "markdown",
   "id": "75a82a8d-feba-42be-a0ce-f81adac00865",
   "metadata": {},
   "source": [
    "# Strings are Arrays"
   ]
  },
  {
   "cell_type": "code",
   "execution_count": 7,
   "id": "415e02ce-2768-4126-8511-5e4ead54e7ec",
   "metadata": {},
   "outputs": [
    {
     "name": "stdout",
     "output_type": "stream",
     "text": [
      "P\n",
      "r\n",
      "i\n"
     ]
    }
   ],
   "source": [
    "a = \"Pritam\"\n",
    "print(a[0])\n",
    "print(a[1])\n",
    "print(a[2])"
   ]
  },
  {
   "cell_type": "markdown",
   "id": "d2d09b2f-204f-413d-9da5-308d9d5521fe",
   "metadata": {},
   "source": [
    "# Looping Through a String"
   ]
  },
  {
   "cell_type": "code",
   "execution_count": 8,
   "id": "d0305659-e3fe-4304-bde7-0823af604036",
   "metadata": {},
   "outputs": [
    {
     "name": "stdout",
     "output_type": "stream",
     "text": [
      "p\n",
      "r\n",
      "i\n",
      "t\n",
      "a\n",
      "m\n"
     ]
    }
   ],
   "source": [
    "for i in \"pritam\":\n",
    "    print(i)"
   ]
  },
  {
   "cell_type": "markdown",
   "id": "b4ac2d50-1bf5-4a49-88aa-2e7c9bd88ad5",
   "metadata": {},
   "source": [
    "# Check String"
   ]
  },
  {
   "cell_type": "code",
   "execution_count": 10,
   "id": "733f6746-391a-429b-9442-41e7bc6f0d8c",
   "metadata": {},
   "outputs": [
    {
     "name": "stdout",
     "output_type": "stream",
     "text": [
      "False\n",
      "True\n"
     ]
    }
   ],
   "source": [
    "a = 'Pritam Kumar Dey'\n",
    "print('kumar' in a)\n",
    "print('Kumar' in a)\n"
   ]
  },
  {
   "cell_type": "markdown",
   "id": "ae68532e-ed68-44ac-b1ae-e4bd03e41bc0",
   "metadata": {},
   "source": [
    "# OR"
   ]
  },
  {
   "cell_type": "code",
   "execution_count": 11,
   "id": "93d7df7e-ffcc-43c4-9f5e-2907ae520c03",
   "metadata": {},
   "outputs": [
    {
     "name": "stdout",
     "output_type": "stream",
     "text": [
      "String found\n"
     ]
    }
   ],
   "source": [
    "if 'Pritam' in a:\n",
    "    print('String found')"
   ]
  },
  {
   "cell_type": "code",
   "execution_count": 15,
   "id": "2456dd8b-4325-4997-b91e-8a78aa8c36e8",
   "metadata": {},
   "outputs": [
    {
     "name": "stdout",
     "output_type": "stream",
     "text": [
      "String Not Found\n"
     ]
    }
   ],
   "source": [
    "if 'dey' in a:\n",
    "    print('String found')\n",
    "else: print('String Not Found')"
   ]
  },
  {
   "cell_type": "markdown",
   "id": "42108c41-2c5d-4fad-bb1c-eeaae66fe405",
   "metadata": {},
   "source": [
    "# Slicing"
   ]
  },
  {
   "cell_type": "code",
   "execution_count": 17,
   "id": "e5be5444-5a23-47c7-a5ee-f4433fccea3d",
   "metadata": {},
   "outputs": [
    {
     "name": "stdout",
     "output_type": "stream",
     "text": [
      "ri\n",
      "it\n",
      "ritam Kumar Dey\n",
      "Pritam Kumar Dey\n"
     ]
    }
   ],
   "source": [
    "print(a[1:3])\n",
    "print(a[2:4])\n",
    "print(a[1:])\n",
    "print(a[:])"
   ]
  },
  {
   "cell_type": "markdown",
   "id": "7dc90dcb-9938-400a-b393-acfa17051c3b",
   "metadata": {},
   "source": [
    "# Negative Slicing"
   ]
  },
  {
   "cell_type": "code",
   "execution_count": 19,
   "id": "2e231cd4-1a19-40ea-af27-aee4511e5176",
   "metadata": {},
   "outputs": [
    {
     "name": "stdout",
     "output_type": "stream",
     "text": [
      "De\n",
      " D\n",
      "r Dey\n",
      "Pritam Kumar Dey\n"
     ]
    }
   ],
   "source": [
    "print(a[-3:-1])\n",
    "print(a[-4:-2])\n",
    "print(a[-5:])\n",
    "print(a[:])"
   ]
  },
  {
   "cell_type": "markdown",
   "id": "32ecbcd5-f416-41e4-b3ab-aa17ed0ab97f",
   "metadata": {},
   "source": [
    "# String Functions"
   ]
  },
  {
   "cell_type": "markdown",
   "id": "4009e1a8-2bca-4735-80b0-d4a60301dc40",
   "metadata": {},
   "source": [
    "## 1. Length Function"
   ]
  },
  {
   "cell_type": "code",
   "execution_count": 20,
   "id": "199a50f2-b95a-4cb9-8739-165f1055795c",
   "metadata": {},
   "outputs": [
    {
     "name": "stdout",
     "output_type": "stream",
     "text": [
      "16\n"
     ]
    }
   ],
   "source": [
    "print(len(a))"
   ]
  },
  {
   "cell_type": "markdown",
   "id": "a4b57528-d9a5-4f19-b45d-98ab27069247",
   "metadata": {},
   "source": [
    "## 2. Upper Case"
   ]
  },
  {
   "cell_type": "code",
   "execution_count": 21,
   "id": "10bb4c32-a24e-49c1-a608-392dc14aaef3",
   "metadata": {},
   "outputs": [
    {
     "name": "stdout",
     "output_type": "stream",
     "text": [
      "PRITAM KUMAR DEY\n"
     ]
    }
   ],
   "source": [
    "print(a.upper())"
   ]
  },
  {
   "cell_type": "markdown",
   "id": "ac510b1a-f9cd-40c4-891e-85d7601265bb",
   "metadata": {},
   "source": [
    "# 3. Lower Case"
   ]
  },
  {
   "cell_type": "code",
   "execution_count": 22,
   "id": "e36c3262-7cd4-478d-84b1-9995973f1aef",
   "metadata": {},
   "outputs": [
    {
     "name": "stdout",
     "output_type": "stream",
     "text": [
      "pritam kumar dey\n"
     ]
    }
   ],
   "source": [
    "print(a.lower())"
   ]
  },
  {
   "cell_type": "markdown",
   "id": "191a05fe-7950-422a-992f-2a48a33ebed4",
   "metadata": {},
   "source": [
    "# 4. Remove Whitespace\n",
    "## strip() method removes any whitespace from the beginning or the end"
   ]
  },
  {
   "cell_type": "code",
   "execution_count": 25,
   "id": "b4d87d31-0572-4c7a-bd02-ccedef17b051",
   "metadata": {},
   "outputs": [
    {
     "name": "stdout",
     "output_type": "stream",
     "text": [
      "Welcome to String Functions\n"
     ]
    }
   ],
   "source": [
    "b = \"  Welcome to String Functions \"\n",
    "print(b.strip())"
   ]
  },
  {
   "cell_type": "markdown",
   "id": "976dc951-3044-4ddf-8ed5-a647529ff9c8",
   "metadata": {},
   "source": [
    "# Remove whitespaces from a String "
   ]
  },
  {
   "cell_type": "code",
   "execution_count": 26,
   "id": "631a718d-00d2-4f8c-a9fc-bc721647834a",
   "metadata": {},
   "outputs": [
    {
     "name": "stdout",
     "output_type": "stream",
     "text": [
      "PritamKumarDey\n"
     ]
    }
   ],
   "source": [
    "# Python3 code to remove whitespace\n",
    "def remove(string):\n",
    "    return string.replace(\" \", \"\")\n",
    " \n",
    " \n",
    "# Driver Program\n",
    "string = 'Pritam Kumar Dey '\n",
    "print(remove(string))"
   ]
  },
  {
   "cell_type": "markdown",
   "id": "aa620f35-a9d1-4c5b-a7d0-6ab6b5c06b59",
   "metadata": {},
   "source": [
    "# 5. Replace String"
   ]
  },
  {
   "cell_type": "code",
   "execution_count": 27,
   "id": "e03fdd9c-c033-4182-ac48-98985075bcf2",
   "metadata": {},
   "outputs": [
    {
     "name": "stdout",
     "output_type": "stream",
     "text": [
      "Pritam kr Dey\n"
     ]
    }
   ],
   "source": [
    "print(a.replace(\"Kumar\", \"kr\"))"
   ]
  },
  {
   "cell_type": "markdown",
   "id": "63b71807-0d2c-4dc5-9e7f-592ade1a9076",
   "metadata": {},
   "source": [
    "# 6. Split String"
   ]
  },
  {
   "cell_type": "code",
   "execution_count": 28,
   "id": "4ecbb8d4-7630-43da-b43a-63f27f574938",
   "metadata": {},
   "outputs": [
    {
     "name": "stdout",
     "output_type": "stream",
     "text": [
      "['Pritam', 'Kumar', 'Dey']\n"
     ]
    }
   ],
   "source": [
    "print(a.split(\" \")) # returns ['Hello', ' World!']"
   ]
  },
  {
   "cell_type": "code",
   "execution_count": 38,
   "id": "a114f8d5-4826-4caa-8895-592b2642e492",
   "metadata": {},
   "outputs": [
    {
     "name": "stdout",
     "output_type": "stream",
     "text": [
      "True\n",
      "False\n",
      "True\n",
      "False\n",
      "True\n",
      "False\n",
      "False\n",
      "False\n",
      "False\n",
      "False\n",
      "True\n",
      "False\n"
     ]
    }
   ],
   "source": [
    "a = 'Pritam'\n",
    "b = '@#$%'\n",
    "print(a.isalnum()) #check if all char are numbers \n",
    "print(b.isalnum()) #check if all char are numbers \n",
    "# The isalnum() method returns True if all characters in the string are alphanumeric (either alphabets or numbers). If not, it returns False.\n",
    "print(a.isalpha()) #check if all char in the string are alphabetic\n",
    "print(a.isdigit()) #test if string contains digits\n",
    "print(a.istitle()) #test if string contains title words\n",
    "print(a.isupper()) #test if string contains upper case\n",
    "print(a.islower()) #test if string contains lower case\n",
    "print(a.isspace()) #test if string contains spaces\n",
    "print(a.endswith('y')) #test if string endswith a y\n",
    "print(a.endswith('d')) #test if string endswith a d\n",
    "print(a.startswith('P')) #test if string startswith P\n",
    "print(a.startswith('S')) #test if string startswith S"
   ]
  },
  {
   "cell_type": "markdown",
   "id": "bdbde43d-b7fa-4270-aee5-11ab7be10e10",
   "metadata": {},
   "source": [
    "# String Concatenation"
   ]
  },
  {
   "cell_type": "code",
   "execution_count": 39,
   "id": "df5a2e74-ba1b-40dc-9e21-fe8aa6361d6a",
   "metadata": {},
   "outputs": [
    {
     "name": "stdout",
     "output_type": "stream",
     "text": [
      "PythonforML\n",
      "Python for ML\n"
     ]
    }
   ],
   "source": [
    "x = 'Python'\n",
    "y = 'for'\n",
    "z = 'ML'\n",
    "print(x + y + z)\n",
    "print(x + ' ' + y + ' ' + z)\n",
    "\n"
   ]
  },
  {
   "cell_type": "markdown",
   "id": "c460b5af-9981-4b4f-a53a-53e57a4e8acf",
   "metadata": {},
   "source": [
    "# String Format"
   ]
  },
  {
   "cell_type": "code",
   "execution_count": 40,
   "id": "7dd0403d-6159-47fb-92d4-d8bce61ca5cf",
   "metadata": {},
   "outputs": [
    {
     "name": "stdout",
     "output_type": "stream",
     "text": [
      "Today I took the train at 9 A.M from Redhill station\n"
     ]
    }
   ],
   "source": [
    "p = 9\n",
    "q = 'Redhill'\n",
    "\n",
    "print('Today I took the train at {} A.M from {} station'.format(p,q))"
   ]
  },
  {
   "cell_type": "markdown",
   "id": "e1b56acb-528d-4f1b-a041-d14303083919",
   "metadata": {},
   "source": [
    "## we cannot combine strings and numbers like this"
   ]
  },
  {
   "cell_type": "code",
   "execution_count": 41,
   "id": "4671687e-c9e5-4a92-8e6e-614bff38e959",
   "metadata": {},
   "outputs": [
    {
     "ename": "TypeError",
     "evalue": "can only concatenate str (not \"int\") to str",
     "output_type": "error",
     "traceback": [
      "\u001b[1;31m---------------------------------------------------------------------------\u001b[0m",
      "\u001b[1;31mTypeError\u001b[0m                                 Traceback (most recent call last)",
      "Cell \u001b[1;32mIn[41], line 3\u001b[0m\n\u001b[0;32m      1\u001b[0m p \u001b[38;5;241m=\u001b[39m \u001b[38;5;241m9\u001b[39m\n\u001b[0;32m      2\u001b[0m q \u001b[38;5;241m=\u001b[39m \u001b[38;5;124m'\u001b[39m\u001b[38;5;124mRedhill\u001b[39m\u001b[38;5;124m'\u001b[39m\n\u001b[1;32m----> 3\u001b[0m text \u001b[38;5;241m=\u001b[39m \u001b[38;5;124;43m'\u001b[39;49m\u001b[38;5;124;43mToday I took the train at\u001b[39;49m\u001b[38;5;124;43m'\u001b[39;49m\u001b[43m \u001b[49m\u001b[38;5;241;43m+\u001b[39;49m\u001b[43m \u001b[49m\u001b[43mp\u001b[49m \u001b[38;5;241m+\u001b[39m \u001b[38;5;124m'\u001b[39m\u001b[38;5;124mA.M from \u001b[39m\u001b[38;5;124m'\u001b[39m \u001b[38;5;241m+\u001b[39m q \u001b[38;5;241m+\u001b[39m \u001b[38;5;124m'\u001b[39m\u001b[38;5;124mStation\u001b[39m\u001b[38;5;124m'\u001b[39m\n\u001b[0;32m      4\u001b[0m \u001b[38;5;28mprint\u001b[39m(text)\n",
      "\u001b[1;31mTypeError\u001b[0m: can only concatenate str (not \"int\") to str"
     ]
    }
   ],
   "source": [
    "p = 9\n",
    "q = 'Redhill'\n",
    "text = 'Today I took the train at' + p + 'A.M from ' + q + 'Station'\n",
    "print(text)"
   ]
  },
  {
   "cell_type": "code",
   "execution_count": null,
   "id": "a98e3efb-d620-40e6-bcbd-2066471bd4b8",
   "metadata": {},
   "outputs": [],
   "source": []
  },
  {
   "cell_type": "code",
   "execution_count": null,
   "id": "d6deb38d-67b7-4b50-bbea-7f11afdacb10",
   "metadata": {},
   "outputs": [],
   "source": []
  }
 ],
 "metadata": {
  "kernelspec": {
   "display_name": "Python 3 (ipykernel)",
   "language": "python",
   "name": "python3"
  },
  "language_info": {
   "codemirror_mode": {
    "name": "ipython",
    "version": 3
   },
   "file_extension": ".py",
   "mimetype": "text/x-python",
   "name": "python",
   "nbconvert_exporter": "python",
   "pygments_lexer": "ipython3",
   "version": "3.10.6"
  }
 },
 "nbformat": 4,
 "nbformat_minor": 5
}
