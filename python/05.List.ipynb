{
 "cells": [
  {
   "cell_type": "markdown",
   "id": "c40b22a3-74dd-4b7e-8d55-69c7a6b82174",
   "metadata": {},
   "source": [
    "# Python Lists"
   ]
  },
  {
   "cell_type": "markdown",
   "id": "189143da-10fa-4d65-8397-fa1764467922",
   "metadata": {},
   "source": [
    "## my_list = [\"Pritam\", \"Kumar\", \"Dey\"]"
   ]
  },
  {
   "cell_type": "markdown",
   "id": "c8da3b2f-f672-4ac3-9f9c-b43737ac426d",
   "metadata": {},
   "source": [
    "## Lists are used to store multiple items in a single variable.\r\n",
    "### \r\n",
    "Lists are one of 4 built-in data types in Python used to store collections of data, the other 3 are Tuple, Set, and Dictionary, all with different qualities and usage.### \r\n",
    "\r\n",
    "Lists are created using square brackets:"
   ]
  },
  {
   "cell_type": "code",
   "execution_count": 1,
   "id": "5e575bfc-2c84-4533-8eec-b5eb4f909cf6",
   "metadata": {},
   "outputs": [
    {
     "name": "stdout",
     "output_type": "stream",
     "text": [
      "['pritam', 'kumar', 'dey']\n"
     ]
    }
   ],
   "source": [
    "my_list = [\"pritam\", \"kumar\", \"dey\"]\n",
    "print(my_list)"
   ]
  },
  {
   "cell_type": "markdown",
   "id": "4b1d9140-cebe-4734-93e5-d01f23bae1d7",
   "metadata": {},
   "source": [
    "## List Items are\r",
    "## 1. Ordered\n",
    "## 2. Changeable\n",
    "## 3. Allow Duplicates\n",
    "### \n",
    "\r\n",
    "List items are indexed, the first item has index [0], the second item has index [1] etc"
   ]
  },
  {
   "cell_type": "code",
   "execution_count": 7,
   "id": "3818c362-5fa0-4c4e-9c61-1642796a49b5",
   "metadata": {},
   "outputs": [
    {
     "name": "stdout",
     "output_type": "stream",
     "text": [
      "[1, 2, 3, 4, 'pritam', 'dey', 2, 3, 'kumar']\n",
      "1\n",
      "2\n",
      "3\n",
      "4\n",
      "pritam\n",
      "dey\n",
      "2\n",
      "3\n",
      "kumar\n"
     ]
    }
   ],
   "source": [
    "my_list1 = [1,2,3,4,'pritam', 'dey', 2,3, 'kumar']\n",
    "print(my_list1)\n",
    "for i in my_list1:\n",
    "    print(i)\n",
    "    "
   ]
  },
  {
   "cell_type": "markdown",
   "id": "97438fc4-6da2-42fb-b919-841cc0654b70",
   "metadata": {},
   "source": [
    "# OR"
   ]
  },
  {
   "cell_type": "code",
   "execution_count": 8,
   "id": "6df70d16-4e06-4eae-9091-739ca2879362",
   "metadata": {},
   "outputs": [
    {
     "name": "stdout",
     "output_type": "stream",
     "text": [
      "The 0 th element is : 1\n",
      "The 1 th element is : 2\n",
      "The 2 th element is : 3\n",
      "The 3 th element is : 4\n",
      "The 4 th element is : pritam\n",
      "The 5 th element is : dey\n",
      "The 6 th element is : 2\n",
      "The 7 th element is : 3\n",
      "The 8 th element is : kumar\n"
     ]
    }
   ],
   "source": [
    "for i in range(len(my_list1)):\n",
    "  print('The {} th element is : {}'.format(i,my_list1[i]))"
   ]
  },
  {
   "cell_type": "markdown",
   "id": "e51889b5-2e02-49d3-a23b-ff06d384d822",
   "metadata": {},
   "source": [
    "# type()"
   ]
  },
  {
   "cell_type": "code",
   "execution_count": 9,
   "id": "75c40a66-5b0f-4d7a-8af7-8161829961d5",
   "metadata": {},
   "outputs": [
    {
     "name": "stdout",
     "output_type": "stream",
     "text": [
      "<class 'list'>\n"
     ]
    }
   ],
   "source": [
    "print(type(my_list1))"
   ]
  },
  {
   "cell_type": "markdown",
   "id": "6fdd3f36-ec8d-4c69-9f90-7eb39962f8dd",
   "metadata": {},
   "source": [
    "# The list() Constructor"
   ]
  },
  {
   "cell_type": "code",
   "execution_count": 17,
   "id": "3e4a6cd6-a438-43ee-9c2e-7fa07c9b2d5b",
   "metadata": {},
   "outputs": [
    {
     "name": "stdout",
     "output_type": "stream",
     "text": [
      "the type of a is : <class 'tuple'>\n",
      "the type of my_list is : <class 'list'>\n"
     ]
    }
   ],
   "source": [
    "a = ('A', 'B', 'C')\n",
    "print('the type of a is : {}'.format(type(a)))\n",
    "my_list = list(a)\n",
    "print('the type of my_list is : {}'.format(type(my_list)))\n"
   ]
  },
  {
   "cell_type": "markdown",
   "id": "6341cca0-f63f-46f3-a8f2-78ed71ddb23b",
   "metadata": {},
   "source": [
    "# Access Items"
   ]
  },
  {
   "cell_type": "code",
   "execution_count": 19,
   "id": "767bafc3-b336-42c3-b764-77daf77ff383",
   "metadata": {},
   "outputs": [
    {
     "name": "stdout",
     "output_type": "stream",
     "text": [
      "C\n",
      "B\n"
     ]
    }
   ],
   "source": [
    "print(my_list[2])\n",
    "print(my_list[-2])"
   ]
  },
  {
   "cell_type": "markdown",
   "id": "54c480d8-68a8-4aff-a1aa-d0445769481e",
   "metadata": {},
   "source": [
    "# Check if Item Exists"
   ]
  },
  {
   "cell_type": "code",
   "execution_count": 20,
   "id": "fe46d2d9-0f31-4809-8272-cbcfb9abf5fc",
   "metadata": {},
   "outputs": [
    {
     "name": "stdout",
     "output_type": "stream",
     "text": [
      "Yes, 'A' is in the list\n"
     ]
    }
   ],
   "source": [
    "if \"A\" in my_list:\n",
    "  print(\"Yes, 'A' is in the list\")"
   ]
  },
  {
   "cell_type": "code",
   "execution_count": 21,
   "id": "25ba7cbd-66b5-42c6-8407-d5bdf0495091",
   "metadata": {},
   "outputs": [
    {
     "name": "stdout",
     "output_type": "stream",
     "text": [
      "No, 'D' is not in the list\n"
     ]
    }
   ],
   "source": [
    "if \"D\" in my_list:\n",
    "  print(\"Yes, 'D' is in the list\")\n",
    "else: print(\"No, 'D' is not in the list\")"
   ]
  },
  {
   "cell_type": "markdown",
   "id": "d59046ad-02c1-4472-9fe3-c1ade76156d3",
   "metadata": {},
   "source": [
    "# Change List Items"
   ]
  },
  {
   "cell_type": "code",
   "execution_count": 23,
   "id": "df973d86-d0d0-4276-9cee-976cc903b348",
   "metadata": {},
   "outputs": [
    {
     "name": "stdout",
     "output_type": "stream",
     "text": [
      "['A', 'B', 'C']\n",
      "['A', 'pritam', 'C']\n"
     ]
    }
   ],
   "source": [
    "print(my_list)\n",
    "my_list[1] = 'pritam'\n",
    "print(my_list)"
   ]
  },
  {
   "cell_type": "markdown",
   "id": "dd4d5dc8-bb9c-4f86-9ff8-fb88e6bb3e00",
   "metadata": {},
   "source": [
    "# Insert Items"
   ]
  },
  {
   "cell_type": "code",
   "execution_count": 25,
   "id": "3afa1627-b0ac-4c14-a470-26b21fa8c479",
   "metadata": {},
   "outputs": [
    {
     "name": "stdout",
     "output_type": "stream",
     "text": [
      "['A', 'pritam', 'C']\n",
      "['A', 'pritam', 'kumar', 'C']\n"
     ]
    }
   ],
   "source": [
    "print(my_list)\n",
    "my_list.insert(2, \"kumar\")\n",
    "print(my_list)"
   ]
  },
  {
   "cell_type": "markdown",
   "id": "cd1bc2d6-0aec-4f05-b381-ebabfd291151",
   "metadata": {},
   "source": [
    "# Append Items"
   ]
  },
  {
   "cell_type": "code",
   "execution_count": 26,
   "id": "8d567fef-21ad-4157-94f7-8c9927d931b7",
   "metadata": {},
   "outputs": [
    {
     "name": "stdout",
     "output_type": "stream",
     "text": [
      "['A', 'pritam', 'kumar', 'C']\n",
      "['A', 'pritam', 'kumar', 'C', 'Dey']\n"
     ]
    }
   ],
   "source": [
    "print(my_list)\n",
    "my_list.append(\"Dey\")\n",
    "print(my_list)"
   ]
  },
  {
   "cell_type": "markdown",
   "id": "2e743e8b-c837-4778-8000-779796575f00",
   "metadata": {},
   "source": [
    "# Extend List"
   ]
  },
  {
   "cell_type": "markdown",
   "id": "73ce99dc-e561-44e6-a2e9-7427a9e2a40b",
   "metadata": {},
   "source": [
    "## To append elements from another list to the current list, use the extend() method."
   ]
  },
  {
   "cell_type": "code",
   "execution_count": 31,
   "id": "ff951aca-698c-4805-815e-e9199974b115",
   "metadata": {},
   "outputs": [
    {
     "name": "stdout",
     "output_type": "stream",
     "text": [
      "[1, 2, 3, 'x', 'y', 'z']\n"
     ]
    }
   ],
   "source": [
    "a = [1,2,3]\n",
    "b = ['x','y','z']\n",
    "a.extend(b)\n",
    "print(a)"
   ]
  },
  {
   "cell_type": "markdown",
   "id": "221fc159-7539-4d5a-86b7-997558428275",
   "metadata": {},
   "source": [
    "# Remove Specified Item"
   ]
  },
  {
   "cell_type": "code",
   "execution_count": 32,
   "id": "35ff0ec8-9a7d-4b6e-9956-c4d0a62cf4f1",
   "metadata": {},
   "outputs": [
    {
     "name": "stdout",
     "output_type": "stream",
     "text": [
      "[1, 2, 3, 'x', 'y', 'z']\n",
      "[1, 2, 'x', 'y', 'z']\n",
      "[1, 'x', 'y', 'z']\n"
     ]
    }
   ],
   "source": [
    "print(a)\n",
    "a.remove(3)\n",
    "print(a)\n",
    "a.pop(1)\n",
    "print(a)"
   ]
  },
  {
   "cell_type": "markdown",
   "id": "d06a73d9-56d0-406e-9766-4e9502e4994c",
   "metadata": {},
   "source": [
    "# Clear the List"
   ]
  },
  {
   "cell_type": "code",
   "execution_count": 33,
   "id": "f8dcf8fe-eaef-402a-b258-6cfe88223b36",
   "metadata": {},
   "outputs": [
    {
     "name": "stdout",
     "output_type": "stream",
     "text": [
      "[]\n"
     ]
    }
   ],
   "source": [
    "a.clear()\n",
    "print(a)"
   ]
  },
  {
   "cell_type": "markdown",
   "id": "41283438-84dd-4019-9408-d03fa8be41c5",
   "metadata": {},
   "source": [
    "# List Comprehension"
   ]
  },
  {
   "cell_type": "code",
   "execution_count": 34,
   "id": "0b471d07-d6ed-4dfa-8f4c-9e5389b3d0d0",
   "metadata": {},
   "outputs": [
    {
     "name": "stdout",
     "output_type": "stream",
     "text": [
      "[0, 1, 4, 9, 16, 25, 36, 49, 64, 81]\n"
     ]
    }
   ],
   "source": [
    "squares = []\n",
    "for number in range(10):\n",
    "\tsquares.append(number * number)\n",
    "\n",
    "print(squares)"
   ]
  },
  {
   "cell_type": "markdown",
   "id": "9b07d78e-2ca0-4be8-98a4-b445532e590f",
   "metadata": {},
   "source": [
    "# List comprehension offers a shorter syntax when we want to create a new list"
   ]
  },
  {
   "cell_type": "code",
   "execution_count": 36,
   "id": "600923bc-72dd-4fee-884d-500489d36839",
   "metadata": {},
   "outputs": [
    {
     "name": "stdout",
     "output_type": "stream",
     "text": [
      "[0, 1, 8, 27, 64, 125, 216, 343, 512, 729]\n"
     ]
    }
   ],
   "source": [
    "cube = [number * number * number for number in range(10)]\n",
    "print(cube)"
   ]
  },
  {
   "cell_type": "markdown",
   "id": "db914a34-2578-4a32-a607-720df00e64b4",
   "metadata": {},
   "source": [
    "# Sort Lists"
   ]
  },
  {
   "cell_type": "markdown",
   "id": "f4ecb64a-d3f4-47c3-a943-83927119dea0",
   "metadata": {},
   "source": [
    "# 1. Sort List Alphanumerically"
   ]
  },
  {
   "cell_type": "code",
   "execution_count": 37,
   "id": "a005d76f-ae7f-4c4c-9f19-fb4329b517e0",
   "metadata": {},
   "outputs": [
    {
     "name": "stdout",
     "output_type": "stream",
     "text": [
      "['banana', 'kiwi', 'mango', 'orange', 'pineapple']\n"
     ]
    }
   ],
   "source": [
    "thislist = [\"orange\", \"mango\", \"kiwi\", \"pineapple\", \"banana\"]\n",
    "thislist.sort()\n",
    "print(thislist)"
   ]
  },
  {
   "cell_type": "markdown",
   "id": "040a8fb9-c0d9-430a-a9f8-575ae89d237d",
   "metadata": {},
   "source": [
    "# Sort Descending"
   ]
  },
  {
   "cell_type": "code",
   "execution_count": 41,
   "id": "1cca1891-6050-44b9-96ab-68ea897dbd4c",
   "metadata": {},
   "outputs": [
    {
     "name": "stdout",
     "output_type": "stream",
     "text": [
      "[165, 82, 50, 23, 1]\n"
     ]
    }
   ],
   "source": [
    "mylist2 = [1, 50, 165, 82, 23]\n",
    "mylist2.sort(reverse = True)\n",
    "print(mylist2)"
   ]
  }
 ],
 "metadata": {
  "kernelspec": {
   "display_name": "Python 3 (ipykernel)",
   "language": "python",
   "name": "python3"
  },
  "language_info": {
   "codemirror_mode": {
    "name": "ipython",
    "version": 3
   },
   "file_extension": ".py",
   "mimetype": "text/x-python",
   "name": "python",
   "nbconvert_exporter": "python",
   "pygments_lexer": "ipython3",
   "version": "3.10.6"
  }
 },
 "nbformat": 4,
 "nbformat_minor": 5
}
