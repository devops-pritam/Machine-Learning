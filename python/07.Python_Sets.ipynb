{
 "cells": [
  {
   "cell_type": "markdown",
   "id": "6a7b6373-2fad-4554-8ec7-7e9d95b22977",
   "metadata": {},
   "source": [
    "# Python Sets"
   ]
  },
  {
   "cell_type": "markdown",
   "id": "63a2b4bc-a7cb-425f-9935-d2c29508c578",
   "metadata": {},
   "source": [
    "## Sets are used to store multiple items in a single variable.\r\n",
    "## \r\n",
    "Set is one of 4 built-in data types in Python used to store collections of data, the other 3 are List, Tuple, and Dictionary, all with different qualities and usage.## \r\n",
    "\r\n",
    "A set is a collection which is unordered, unchangeable*, and unindexed."
   ]
  },
  {
   "cell_type": "markdown",
   "id": "74e96ad8-2025-441a-8fbb-d8d060d98977",
   "metadata": {},
   "source": [
    "# A Set is an unordered collection data type that is iterable, mutable, and has no duplicate elements. Python's set class represents the mathematical notion of a set.This is based on a data structure known as a hash table"
   ]
  },
  {
   "cell_type": "code",
   "execution_count": 1,
   "id": "da1b4e8b-607a-447c-9b9b-5a1322c658de",
   "metadata": {},
   "outputs": [
    {
     "name": "stdout",
     "output_type": "stream",
     "text": [
      "{'apple', 'banana', 'cherry'}\n"
     ]
    }
   ],
   "source": [
    "thisset = {\"apple\", \"banana\", \"cherry\"}\n",
    "print(thisset)"
   ]
  },
  {
   "cell_type": "markdown",
   "id": "35dd184b-a60e-413f-b5bb-cf26edc9580a",
   "metadata": {},
   "source": [
    "# Set Items are\n",
    "# Unordered\n",
    "# Unchangeable\n",
    "# Duplicates Not Allowed"
   ]
  },
  {
   "cell_type": "markdown",
   "id": "c941a2fa-a3b5-49df-8fe1-916ce72fa9fc",
   "metadata": {},
   "source": [
    "## Sets cannot have two items with the same value.\n",
    "## Duplicate values will be ignored:"
   ]
  },
  {
   "cell_type": "code",
   "execution_count": 3,
   "id": "0f105b52-418e-47cb-8a83-3215abf868f6",
   "metadata": {},
   "outputs": [
    {
     "name": "stdout",
     "output_type": "stream",
     "text": [
      "{'apple', 'banana', 'cherry'}\n"
     ]
    }
   ],
   "source": [
    "thisset = {\"apple\", \"banana\", \"cherry\", \"apple\"}\n",
    "print(thisset)"
   ]
  },
  {
   "cell_type": "markdown",
   "id": "b9b5673f-b36f-4ef9-a02e-7d69d39a2813",
   "metadata": {},
   "source": [
    "## True and 1 is considered the same value.\n",
    "## False and 0 is considered the same value:"
   ]
  },
  {
   "cell_type": "code",
   "execution_count": 5,
   "id": "beaee90b-6070-4ab1-93fd-b05c0d86cb2b",
   "metadata": {},
   "outputs": [
    {
     "name": "stdout",
     "output_type": "stream",
     "text": [
      "{0, True, 2, 'cherry', 'apple', 'banana'}\n"
     ]
    }
   ],
   "source": [
    "thisset = {\"apple\", \"banana\", \"cherry\", True, 1, 2, 0, False}\n",
    "\n",
    "print(thisset)"
   ]
  },
  {
   "cell_type": "markdown",
   "id": "33ab506b-89e6-44b5-b1e7-7bfdd7163dda",
   "metadata": {},
   "source": [
    "## Length of a SET"
   ]
  },
  {
   "cell_type": "code",
   "execution_count": 6,
   "id": "4f6cd848-6476-4e81-a89a-a15143279d27",
   "metadata": {},
   "outputs": [
    {
     "name": "stdout",
     "output_type": "stream",
     "text": [
      "6\n"
     ]
    }
   ],
   "source": [
    "print(len(thisset))"
   ]
  },
  {
   "cell_type": "markdown",
   "id": "de95c688-77df-4696-b01d-ab83b530bf1d",
   "metadata": {},
   "source": [
    "# Access Items"
   ]
  },
  {
   "cell_type": "code",
   "execution_count": 8,
   "id": "93ec01cb-66e8-4250-a1c4-bef17039c918",
   "metadata": {},
   "outputs": [
    {
     "ename": "TypeError",
     "evalue": "'set' object is not subscriptable",
     "output_type": "error",
     "traceback": [
      "\u001b[1;31m---------------------------------------------------------------------------\u001b[0m",
      "\u001b[1;31mTypeError\u001b[0m                                 Traceback (most recent call last)",
      "Cell \u001b[1;32mIn[8], line 2\u001b[0m\n\u001b[0;32m      1\u001b[0m \u001b[38;5;28;01mfor\u001b[39;00m x \u001b[38;5;129;01min\u001b[39;00m \u001b[38;5;28mrange\u001b[39m(\u001b[38;5;28mlen\u001b[39m(thisset)):\n\u001b[1;32m----> 2\u001b[0m     \u001b[38;5;28mprint\u001b[39m(\u001b[38;5;124m'\u001b[39m\u001b[38;5;124mthe \u001b[39m\u001b[38;5;132;01m{}\u001b[39;00m\u001b[38;5;124mth element is : \u001b[39m\u001b[38;5;132;01m{}\u001b[39;00m\u001b[38;5;124m'\u001b[39m\u001b[38;5;241m.\u001b[39mformat(x,\u001b[43mthisset\u001b[49m\u001b[43m[\u001b[49m\u001b[43mx\u001b[49m\u001b[43m]\u001b[49m))\n",
      "\u001b[1;31mTypeError\u001b[0m: 'set' object is not subscriptable"
     ]
    }
   ],
   "source": [
    "for x in range(len(thisset)):\n",
    "    print('the {}th element is : {}'.format(x,thisset[x]))"
   ]
  },
  {
   "cell_type": "markdown",
   "id": "332700d6-70ce-4a83-be78-1cb985ddea9b",
   "metadata": {},
   "source": [
    "## As per the Python's Official Documentation, set data structure is referred as Unordered Collections of Unique Elements and that doesn't support operations like indexing or slicing etc."
   ]
  },
  {
   "cell_type": "markdown",
   "id": "91636573-717e-40c0-8f9c-11779ba91f3a",
   "metadata": {},
   "source": [
    "## Once a set is created, we cannot change its items, but you can add new items."
   ]
  },
  {
   "cell_type": "code",
   "execution_count": 9,
   "id": "570f5ba1-c3dc-42c0-8eac-3d0f8e772fa7",
   "metadata": {},
   "outputs": [
    {
     "name": "stdout",
     "output_type": "stream",
     "text": [
      "{'apple', 'banana', 'orange', 'cherry'}\n"
     ]
    }
   ],
   "source": [
    "thisset = {\"apple\", \"banana\", \"cherry\"}\n",
    "\n",
    "thisset.add(\"orange\")\n",
    "\n",
    "print(thisset)"
   ]
  },
  {
   "cell_type": "code",
   "execution_count": 10,
   "id": "c6a61222-09e7-4899-8cf8-85c31c1a7dcb",
   "metadata": {},
   "outputs": [
    {
     "name": "stdout",
     "output_type": "stream",
     "text": [
      "{'cherry', 'papaya', 'apple', 'banana', 'pineapple', 'mango'}\n"
     ]
    }
   ],
   "source": [
    "thisset = {\"apple\", \"banana\", \"cherry\"}\n",
    "tropical = {\"pineapple\", \"mango\", \"papaya\"}\n",
    "\n",
    "thisset.update(tropical)\n",
    "\n",
    "print(thisset)"
   ]
  },
  {
   "cell_type": "markdown",
   "id": "d7047707-8764-4692-860d-5ae71688d940",
   "metadata": {},
   "source": [
    "## Remove Item"
   ]
  },
  {
   "cell_type": "code",
   "execution_count": 11,
   "id": "d716816e-b189-4aaa-beb6-6bac58cf923b",
   "metadata": {},
   "outputs": [
    {
     "name": "stdout",
     "output_type": "stream",
     "text": [
      "{'cherry', 'apple', 'banana', 'pineapple', 'mango'}\n"
     ]
    }
   ],
   "source": [
    "thisset.remove('papaya')\n",
    "print(thisset)"
   ]
  },
  {
   "cell_type": "markdown",
   "id": "d0aa514e-c5b2-44ee-a9eb-40532d4a895c",
   "metadata": {},
   "source": [
    "## Note: If the item to remove does not exist, remove() will raise an error."
   ]
  },
  {
   "cell_type": "code",
   "execution_count": 12,
   "id": "d4c429f9-7170-4657-8363-b77b37f78408",
   "metadata": {},
   "outputs": [
    {
     "ename": "KeyError",
     "evalue": "'papaya'",
     "output_type": "error",
     "traceback": [
      "\u001b[1;31m---------------------------------------------------------------------------\u001b[0m",
      "\u001b[1;31mKeyError\u001b[0m                                  Traceback (most recent call last)",
      "Cell \u001b[1;32mIn[12], line 1\u001b[0m\n\u001b[1;32m----> 1\u001b[0m \u001b[43mthisset\u001b[49m\u001b[38;5;241;43m.\u001b[39;49m\u001b[43mremove\u001b[49m\u001b[43m(\u001b[49m\u001b[38;5;124;43m'\u001b[39;49m\u001b[38;5;124;43mpapaya\u001b[39;49m\u001b[38;5;124;43m'\u001b[39;49m\u001b[43m)\u001b[49m\n\u001b[0;32m      2\u001b[0m \u001b[38;5;28mprint\u001b[39m(thisset)\n",
      "\u001b[1;31mKeyError\u001b[0m: 'papaya'"
     ]
    }
   ],
   "source": [
    "thisset.remove('papaya')\n",
    "print(thisset)"
   ]
  },
  {
   "cell_type": "markdown",
   "id": "632b95b9-aaac-449f-9400-898acbd2b2ab",
   "metadata": {},
   "source": [
    "## Note: If the item to remove does not exist, discard() will NOT raise an error."
   ]
  },
  {
   "cell_type": "code",
   "execution_count": 13,
   "id": "6eb6759a-4c78-4e36-98d7-f46ecb4d42aa",
   "metadata": {},
   "outputs": [
    {
     "name": "stdout",
     "output_type": "stream",
     "text": [
      "{'cherry', 'apple', 'banana', 'pineapple', 'mango'}\n"
     ]
    }
   ],
   "source": [
    "thisset.discard('papaya')\n",
    "print(thisset)"
   ]
  },
  {
   "cell_type": "markdown",
   "id": "38f35238-c50d-4da7-a9cb-7505bc467572",
   "metadata": {},
   "source": [
    "## Remove a random item by using the pop() method:"
   ]
  },
  {
   "cell_type": "code",
   "execution_count": 14,
   "id": "f1602efd-ee5a-4a72-9777-b136cc7fffa9",
   "metadata": {},
   "outputs": [
    {
     "name": "stdout",
     "output_type": "stream",
     "text": [
      "cherry\n",
      "{'apple', 'banana', 'pineapple', 'mango'}\n"
     ]
    }
   ],
   "source": [
    "x = thisset.pop()\n",
    "\n",
    "print(x)\n",
    "\n",
    "print(thisset)"
   ]
  },
  {
   "cell_type": "markdown",
   "id": "a2badece-241f-4dd1-a43b-18eb1a898e86",
   "metadata": {},
   "source": [
    "# Join Two Sets\n"
   ]
  },
  {
   "cell_type": "code",
   "execution_count": 15,
   "id": "b3f4a3f6-8934-4a4f-aadd-06df391c7643",
   "metadata": {},
   "outputs": [
    {
     "name": "stdout",
     "output_type": "stream",
     "text": [
      "{1, 'b', 2, 3, 'a', 'c'}\n"
     ]
    }
   ],
   "source": [
    "set1 = {\"a\", \"b\" , \"c\"}\n",
    "set2 = {1, 2, 3}\n",
    "\n",
    "set3 = set1.union(set2)\n",
    "print(set3)"
   ]
  },
  {
   "cell_type": "markdown",
   "id": "1f263185-3c42-4585-a757-b5aa1eb55f50",
   "metadata": {},
   "source": [
    "# Keep ONLY the Duplicates"
   ]
  },
  {
   "cell_type": "code",
   "execution_count": 16,
   "id": "c0a67e1b-5cd1-4427-b5a1-e618d85e483d",
   "metadata": {},
   "outputs": [
    {
     "name": "stdout",
     "output_type": "stream",
     "text": [
      "{'apple'}\n"
     ]
    }
   ],
   "source": [
    "x = {\"apple\", \"banana\", \"cherry\"}\n",
    "y = {\"google\", \"microsoft\", \"apple\"}\n",
    "\n",
    "x.intersection_update(y)\n",
    "\n",
    "print(x)"
   ]
  },
  {
   "cell_type": "markdown",
   "id": "d7603e0b-59ea-4506-b6d1-155e1525cb06",
   "metadata": {},
   "source": [
    "## The update() method inserts the items in set2 into set1:nt(x)"
   ]
  },
  {
   "cell_type": "code",
   "execution_count": 17,
   "id": "0c51ae42-97e3-4a54-b4bd-297691c5ee3d",
   "metadata": {},
   "outputs": [
    {
     "name": "stdout",
     "output_type": "stream",
     "text": [
      "{1, 'b', 2, 3, 'a', 'c'}\n"
     ]
    }
   ],
   "source": [
    "set1 = {\"a\", \"b\" , \"c\"}\n",
    "set2 = {1, 2, 3}\n",
    "\n",
    "set1.update(set2)\n",
    "print(set1)"
   ]
  },
  {
   "cell_type": "markdown",
   "id": "cc8357b0-8755-4ecb-9e85-603c3951c21d",
   "metadata": {},
   "source": [
    "## Keep All, But NOT the Duplicates"
   ]
  },
  {
   "cell_type": "code",
   "execution_count": 18,
   "id": "47d7f7c2-1d3d-40a3-83a1-5a804c507592",
   "metadata": {},
   "outputs": [
    {
     "name": "stdout",
     "output_type": "stream",
     "text": [
      "{'cherry', 'google', 'banana', 'microsoft'}\n"
     ]
    }
   ],
   "source": [
    "x = {\"apple\", \"banana\", \"cherry\"}\n",
    "y = {\"google\", \"microsoft\", \"apple\"}\n",
    "\n",
    "x.symmetric_difference_update(y)\n",
    "\n",
    "print(x)"
   ]
  },
  {
   "cell_type": "code",
   "execution_count": 19,
   "id": "d0eed2bc-ccbf-4ea0-a571-f9c1c8f257d9",
   "metadata": {},
   "outputs": [
    {
     "data": {
      "text/plain": [
       "set"
      ]
     },
     "execution_count": 19,
     "metadata": {},
     "output_type": "execute_result"
    }
   ],
   "source": [
    "type(x)"
   ]
  },
  {
   "cell_type": "code",
   "execution_count": null,
   "id": "008a7f2f-87e3-420b-abe0-5ab6d01f3116",
   "metadata": {},
   "outputs": [],
   "source": []
  }
 ],
 "metadata": {
  "kernelspec": {
   "display_name": "Python 3 (ipykernel)",
   "language": "python",
   "name": "python3"
  },
  "language_info": {
   "codemirror_mode": {
    "name": "ipython",
    "version": 3
   },
   "file_extension": ".py",
   "mimetype": "text/x-python",
   "name": "python",
   "nbconvert_exporter": "python",
   "pygments_lexer": "ipython3",
   "version": "3.10.6"
  }
 },
 "nbformat": 4,
 "nbformat_minor": 5
}
