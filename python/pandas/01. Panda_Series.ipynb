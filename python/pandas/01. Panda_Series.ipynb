{
 "cells": [
  {
   "cell_type": "markdown",
   "id": "78b26f1c-ad9b-4485-bf95-20717bfd2849",
   "metadata": {},
   "source": [
    "## Introduction of Pandas\r\n",
    "\r\n",
    "1) Panda is an open source library built on top of NumPy\r\n",
    "2) It allows for fast analysis and data cleaning and preparation\r\n",
    "3) It excels in Performance and Productivity\r\n",
    "4) It also has built-in visualization features\r\n",
    "5) It can work with data from a wide variety of sources"
   ]
  },
  {
   "cell_type": "code",
   "execution_count": 3,
   "id": "69e2bcf4-93a2-4f37-8f46-753ae19cdfa3",
   "metadata": {},
   "outputs": [],
   "source": [
    "# Import Numpy\n",
    "import numpy as np"
   ]
  },
  {
   "cell_type": "code",
   "execution_count": 5,
   "id": "285cd2c3-8eb4-4efb-bf17-4f66bc1078ab",
   "metadata": {},
   "outputs": [],
   "source": [
    "# Import Pandas\n",
    "import pandas as pd"
   ]
  },
  {
   "cell_type": "markdown",
   "id": "cd9df324-b5d0-4acd-87c9-4eb3d5cb65c0",
   "metadata": {},
   "source": [
    "# Series"
   ]
  },
  {
   "cell_type": "markdown",
   "id": "62fda657-89a2-4a24-bba5-fa4580c96732",
   "metadata": {},
   "source": [
    "## What is the Pandas series?\r\n",
    "A Pandas Series is a one-dimensional array-like object that can hold data of any type (integer, float, string, etc.). It is labelled, meaning each element has a unique identifier called an index.Weu can think of a Series as a column in a spreadsheet or a single column of a database table. Series are a fundamental data structure in Pandas and are commonly used for data manipulation and analysis tasks. They can be created from lists, arrays, dictionaries, and existing Series objects. Series are also a building block for the more complex Pandas DataFrame, which is a two-dimensional table-like structure consisting of multiple Series objects."
   ]
  },
  {
   "cell_type": "code",
   "execution_count": 6,
   "id": "6781fa7f-4b0b-4fa8-9f92-c8024357f803",
   "metadata": {},
   "outputs": [],
   "source": [
    "labels = [\"a\", \"b\", \"c\"]\n",
    "my_list = [10,12,30]\n",
    "arr = np.array(my_list)\n",
    "my_dict = {\"a\":10,\"b\":20,\"c\":30}"
   ]
  },
  {
   "cell_type": "code",
   "execution_count": 7,
   "id": "1f8dc1b1-9361-4543-adc7-9c04aa267f59",
   "metadata": {},
   "outputs": [
    {
     "data": {
      "text/plain": [
       "['a', 'b', 'c']"
      ]
     },
     "execution_count": 7,
     "metadata": {},
     "output_type": "execute_result"
    }
   ],
   "source": [
    "labels"
   ]
  },
  {
   "cell_type": "code",
   "execution_count": 8,
   "id": "535f8909-22c1-47aa-9248-83acb19c81c5",
   "metadata": {},
   "outputs": [
    {
     "data": {
      "text/plain": [
       "[10, 12, 30]"
      ]
     },
     "execution_count": 8,
     "metadata": {},
     "output_type": "execute_result"
    }
   ],
   "source": [
    "my_list"
   ]
  },
  {
   "cell_type": "code",
   "execution_count": 9,
   "id": "9e035679-dde9-4d52-a910-811d921002f8",
   "metadata": {},
   "outputs": [
    {
     "data": {
      "text/plain": [
       "array([10, 12, 30])"
      ]
     },
     "execution_count": 9,
     "metadata": {},
     "output_type": "execute_result"
    }
   ],
   "source": [
    "arr"
   ]
  },
  {
   "cell_type": "code",
   "execution_count": 10,
   "id": "90e29ec5-5ea2-4e73-a6a7-c7e67e3e9bc1",
   "metadata": {},
   "outputs": [
    {
     "data": {
      "text/plain": [
       "{'a': 10, 'b': 20, 'c': 30}"
      ]
     },
     "execution_count": 10,
     "metadata": {},
     "output_type": "execute_result"
    }
   ],
   "source": [
    "my_dict"
   ]
  },
  {
   "cell_type": "code",
   "execution_count": 11,
   "id": "bbc8c425-d994-4aef-b4b5-6d08c44ba9b9",
   "metadata": {},
   "outputs": [
    {
     "data": {
      "text/plain": [
       "0    10\n",
       "1    12\n",
       "2    30\n",
       "dtype: int64"
      ]
     },
     "execution_count": 11,
     "metadata": {},
     "output_type": "execute_result"
    }
   ],
   "source": [
    "pd.Series(my_list)"
   ]
  },
  {
   "cell_type": "code",
   "execution_count": 12,
   "id": "6a07a7ba-a8a4-4d72-94c0-a3d7ae8628ff",
   "metadata": {},
   "outputs": [
    {
     "data": {
      "text/plain": [
       "a    10\n",
       "b    12\n",
       "c    30\n",
       "dtype: int64"
      ]
     },
     "execution_count": 12,
     "metadata": {},
     "output_type": "execute_result"
    }
   ],
   "source": [
    "pd.Series(my_list, index=labels)"
   ]
  },
  {
   "cell_type": "markdown",
   "id": "ea85f1a2-fa8f-4e2c-b60e-72738db40aa7",
   "metadata": {},
   "source": [
    "# We can pass the data and the index like this way also"
   ]
  },
  {
   "cell_type": "code",
   "execution_count": 14,
   "id": "bf28e643-73f5-49a6-b538-868f24f56cb9",
   "metadata": {},
   "outputs": [
    {
     "data": {
      "text/plain": [
       "a    10\n",
       "b    12\n",
       "c    30\n",
       "dtype: int64"
      ]
     },
     "execution_count": 14,
     "metadata": {},
     "output_type": "execute_result"
    }
   ],
   "source": [
    "pd.Series(my_list,labels)"
   ]
  },
  {
   "cell_type": "markdown",
   "id": "2313b282-d0f7-4060-8e1d-cb47948ff735",
   "metadata": {},
   "source": [
    "## Key Features of Series data structure:\r",
    "## \n",
    "Indexing:\r\n",
    "Each element in a Series has a corresponding index, which can be used to access or manipulate the data."
   ]
  },
  {
   "cell_type": "code",
   "execution_count": 15,
   "id": "215058c2-9fb1-41fd-95cf-4dac03bd4bfa",
   "metadata": {},
   "outputs": [],
   "source": [
    "a = pd.Series(my_list,labels)"
   ]
  },
  {
   "cell_type": "code",
   "execution_count": 16,
   "id": "f110564b-f09d-490e-ac31-dd0dd1dc03e5",
   "metadata": {},
   "outputs": [
    {
     "data": {
      "text/plain": [
       "a    10\n",
       "b    12\n",
       "c    30\n",
       "dtype: int64"
      ]
     },
     "execution_count": 16,
     "metadata": {},
     "output_type": "execute_result"
    }
   ],
   "source": [
    "a"
   ]
  },
  {
   "cell_type": "code",
   "execution_count": 17,
   "id": "0e840a2a-cdb8-49e5-9fd9-74c3b2c253d1",
   "metadata": {},
   "outputs": [
    {
     "data": {
      "text/plain": [
       "10"
      ]
     },
     "execution_count": 17,
     "metadata": {},
     "output_type": "execute_result"
    }
   ],
   "source": [
    "a[0]"
   ]
  },
  {
   "cell_type": "code",
   "execution_count": 18,
   "id": "dec4027c-3325-43c4-9a6f-c71b25baa784",
   "metadata": {},
   "outputs": [
    {
     "data": {
      "text/plain": [
       "10"
      ]
     },
     "execution_count": 18,
     "metadata": {},
     "output_type": "execute_result"
    }
   ],
   "source": [
    "a['a']"
   ]
  },
  {
   "cell_type": "code",
   "execution_count": 19,
   "id": "693e19b4-c6bc-405c-980c-adebda196853",
   "metadata": {},
   "outputs": [
    {
     "data": {
      "text/plain": [
       "12"
      ]
     },
     "execution_count": 19,
     "metadata": {},
     "output_type": "execute_result"
    }
   ],
   "source": [
    "a['b']"
   ]
  },
  {
   "cell_type": "markdown",
   "id": "dd8934cd-1a75-4646-bc66-15663640e906",
   "metadata": {},
   "source": [
    "## Passing the Numpy Array"
   ]
  },
  {
   "cell_type": "code",
   "execution_count": 20,
   "id": "13979375-ae87-4b50-9f0e-c74070d34560",
   "metadata": {},
   "outputs": [],
   "source": [
    "b = pd.Series(arr)"
   ]
  },
  {
   "cell_type": "code",
   "execution_count": 21,
   "id": "1e8749c9-3684-4433-87de-264cc10b87ad",
   "metadata": {},
   "outputs": [
    {
     "data": {
      "text/plain": [
       "0    10\n",
       "1    12\n",
       "2    30\n",
       "dtype: int32"
      ]
     },
     "execution_count": 21,
     "metadata": {},
     "output_type": "execute_result"
    }
   ],
   "source": [
    "b"
   ]
  },
  {
   "cell_type": "code",
   "execution_count": 22,
   "id": "8039049c-5b0c-4c56-bd39-a1671d65584d",
   "metadata": {},
   "outputs": [],
   "source": [
    "c = pd.Series(arr,labels)"
   ]
  },
  {
   "cell_type": "code",
   "execution_count": 23,
   "id": "e8368661-4d5c-4660-94fd-0a339de3ee9e",
   "metadata": {},
   "outputs": [
    {
     "data": {
      "text/plain": [
       "a    10\n",
       "b    12\n",
       "c    30\n",
       "dtype: int32"
      ]
     },
     "execution_count": 23,
     "metadata": {},
     "output_type": "execute_result"
    }
   ],
   "source": [
    "c"
   ]
  },
  {
   "cell_type": "code",
   "execution_count": 25,
   "id": "5756656d-222b-448b-a38c-6ee44a22b8bc",
   "metadata": {},
   "outputs": [
    {
     "data": {
      "text/plain": [
       "30"
      ]
     },
     "execution_count": 25,
     "metadata": {},
     "output_type": "execute_result"
    }
   ],
   "source": [
    "c['c']"
   ]
  },
  {
   "cell_type": "markdown",
   "id": "cb28e354-1522-4e7f-bf16-4c85fb83b2e0",
   "metadata": {},
   "source": [
    "## Passing the Dictionary"
   ]
  },
  {
   "cell_type": "code",
   "execution_count": 26,
   "id": "9ed52044-3543-4e4a-b130-183d19196b5f",
   "metadata": {},
   "outputs": [],
   "source": [
    "d = pd.Series(my_dict)"
   ]
  },
  {
   "cell_type": "code",
   "execution_count": 27,
   "id": "082fc2e4-0810-4e85-aeb2-89ac6d523507",
   "metadata": {},
   "outputs": [
    {
     "data": {
      "text/plain": [
       "a    10\n",
       "b    20\n",
       "c    30\n",
       "dtype: int64"
      ]
     },
     "execution_count": 27,
     "metadata": {},
     "output_type": "execute_result"
    }
   ],
   "source": [
    "d"
   ]
  },
  {
   "cell_type": "code",
   "execution_count": 28,
   "id": "b7215d3d-0fc6-4342-b1f5-ffdfed116297",
   "metadata": {},
   "outputs": [
    {
     "data": {
      "text/plain": [
       "10"
      ]
     },
     "execution_count": 28,
     "metadata": {},
     "output_type": "execute_result"
    }
   ],
   "source": [
    "d[0]"
   ]
  },
  {
   "cell_type": "code",
   "execution_count": 29,
   "id": "cd5760f8-acd3-4ddf-be93-34921bc42e20",
   "metadata": {},
   "outputs": [
    {
     "data": {
      "text/plain": [
       "20"
      ]
     },
     "execution_count": 29,
     "metadata": {},
     "output_type": "execute_result"
    }
   ],
   "source": [
    "d['b']"
   ]
  },
  {
   "cell_type": "markdown",
   "id": "65a16ab5-ab63-4ae5-b319-86bc50a88f6d",
   "metadata": {},
   "source": [
    "## Pandas Series can hold any python data types as the data points"
   ]
  },
  {
   "cell_type": "markdown",
   "id": "77629b5a-1bd0-49c2-a660-fc7a3d57d927",
   "metadata": {},
   "source": [
    "## As String"
   ]
  },
  {
   "cell_type": "code",
   "execution_count": 30,
   "id": "633da133-e962-451d-b1c2-2273fdd98b4a",
   "metadata": {},
   "outputs": [
    {
     "data": {
      "text/plain": [
       "0    a\n",
       "1    b\n",
       "2    c\n",
       "dtype: object"
      ]
     },
     "execution_count": 30,
     "metadata": {},
     "output_type": "execute_result"
    }
   ],
   "source": [
    "pd.Series(labels)"
   ]
  },
  {
   "cell_type": "markdown",
   "id": "9ddaa7cc-19e9-4bba-8990-dc5322f64254",
   "metadata": {},
   "source": [
    "## As Numbers"
   ]
  },
  {
   "cell_type": "code",
   "execution_count": 31,
   "id": "04d3f6ca-255e-4178-84d1-8da1acb08d4e",
   "metadata": {},
   "outputs": [
    {
     "data": {
      "text/plain": [
       "0    10\n",
       "1    12\n",
       "2    30\n",
       "dtype: int64"
      ]
     },
     "execution_count": 31,
     "metadata": {},
     "output_type": "execute_result"
    }
   ],
   "source": [
    "pd.Series(my_list)"
   ]
  },
  {
   "cell_type": "markdown",
   "id": "6f6598ce-aaf7-4886-a3be-b7b27777ea09",
   "metadata": {},
   "source": [
    "## It can also hold Python Inbuild Functions"
   ]
  },
  {
   "cell_type": "code",
   "execution_count": 32,
   "id": "8af6bea7-a4d0-4214-a1f4-da0d04c841cc",
   "metadata": {},
   "outputs": [
    {
     "data": {
      "text/plain": [
       "0    <built-in function sum>\n",
       "1    <built-in function max>\n",
       "2    <built-in function min>\n",
       "dtype: object"
      ]
     },
     "execution_count": 32,
     "metadata": {},
     "output_type": "execute_result"
    }
   ],
   "source": [
    "pd.Series([sum,max,min])"
   ]
  },
  {
   "cell_type": "code",
   "execution_count": 33,
   "id": "a5dd5aa0-72cd-4598-9221-0e0ddbcbaa11",
   "metadata": {},
   "outputs": [],
   "source": [
    "country = ['India', 'UK', 'France', 'Belgium']"
   ]
  },
  {
   "cell_type": "code",
   "execution_count": 34,
   "id": "5a4ed6a2-3334-46b3-ad49-8ad09c6a1b4b",
   "metadata": {},
   "outputs": [],
   "source": [
    "rank = [1,4,18,20]"
   ]
  },
  {
   "cell_type": "code",
   "execution_count": 35,
   "id": "e759df37-5cc3-4ca4-9ebd-31414da8e77c",
   "metadata": {},
   "outputs": [],
   "source": [
    "d = pd.Series(rank,country)"
   ]
  },
  {
   "cell_type": "code",
   "execution_count": 36,
   "id": "1d8a8d52-5370-47ab-b605-b895acaac8e1",
   "metadata": {},
   "outputs": [
    {
     "data": {
      "text/plain": [
       "India       1\n",
       "UK          4\n",
       "France     18\n",
       "Belgium    20\n",
       "dtype: int64"
      ]
     },
     "execution_count": 36,
     "metadata": {},
     "output_type": "execute_result"
    }
   ],
   "source": [
    "d"
   ]
  },
  {
   "cell_type": "code",
   "execution_count": 37,
   "id": "4e643fe8-11be-463d-9db0-2e7bb98b425b",
   "metadata": {},
   "outputs": [
    {
     "data": {
      "text/plain": [
       "18"
      ]
     },
     "execution_count": 37,
     "metadata": {},
     "output_type": "execute_result"
    }
   ],
   "source": [
    "d['France']"
   ]
  },
  {
   "cell_type": "code",
   "execution_count": 38,
   "id": "d1e6ed4d-aef1-485d-8e61-b4f48567edcf",
   "metadata": {},
   "outputs": [
    {
     "data": {
      "text/plain": [
       "4"
      ]
     },
     "execution_count": 38,
     "metadata": {},
     "output_type": "execute_result"
    }
   ],
   "source": [
    "d[1]"
   ]
  },
  {
   "cell_type": "code",
   "execution_count": 39,
   "id": "bdcbf699-09e7-444f-abc9-19d331b09ffc",
   "metadata": {},
   "outputs": [],
   "source": [
    "country1 = ['India', 'United kingdom', 'France', 'Nepal']"
   ]
  },
  {
   "cell_type": "code",
   "execution_count": 41,
   "id": "7952a3fc-f007-4bc6-a794-d588e8886684",
   "metadata": {},
   "outputs": [],
   "source": [
    "rank1 = [1,4,18,25]"
   ]
  },
  {
   "cell_type": "code",
   "execution_count": 42,
   "id": "07998bba-a784-48f8-bc6f-8e8517251a82",
   "metadata": {},
   "outputs": [],
   "source": [
    "e = pd.Series(rank1,country1)"
   ]
  },
  {
   "cell_type": "code",
   "execution_count": 43,
   "id": "438a480c-8a4c-4e16-b735-f5502b2c87a8",
   "metadata": {},
   "outputs": [
    {
     "data": {
      "text/plain": [
       "India       1\n",
       "UK          4\n",
       "France     18\n",
       "Belgium    20\n",
       "dtype: int64"
      ]
     },
     "execution_count": 43,
     "metadata": {},
     "output_type": "execute_result"
    }
   ],
   "source": [
    "d"
   ]
  },
  {
   "cell_type": "code",
   "execution_count": 44,
   "id": "c02c86ec-d0cd-46bf-9207-55cc2e3a1794",
   "metadata": {},
   "outputs": [
    {
     "data": {
      "text/plain": [
       "India              1\n",
       "United kingdom     4\n",
       "France            18\n",
       "Nepal             25\n",
       "dtype: int64"
      ]
     },
     "execution_count": 44,
     "metadata": {},
     "output_type": "execute_result"
    }
   ],
   "source": [
    "e"
   ]
  },
  {
   "cell_type": "code",
   "execution_count": 45,
   "id": "9905d0ee-a01a-4d49-b155-235f51edbfc9",
   "metadata": {},
   "outputs": [
    {
     "data": {
      "text/plain": [
       "Belgium            NaN\n",
       "France            36.0\n",
       "India              2.0\n",
       "Nepal              NaN\n",
       "UK                 NaN\n",
       "United kingdom     NaN\n",
       "dtype: float64"
      ]
     },
     "execution_count": 45,
     "metadata": {},
     "output_type": "execute_result"
    }
   ],
   "source": [
    "d + e"
   ]
  },
  {
   "cell_type": "markdown",
   "id": "042780ee-a19a-4430-a527-505686932a2c",
   "metadata": {},
   "source": [
    "## Where the Index are matched it added the Value, Where the index did not matched it provides NaN\n",
    "## Note : integer will be converted to Float both in NumPy and Pandas"
   ]
  },
  {
   "cell_type": "code",
   "execution_count": null,
   "id": "4292bd6d-8ec4-410c-a4fa-33bdfc7d1a71",
   "metadata": {},
   "outputs": [],
   "source": []
  }
 ],
 "metadata": {
  "kernelspec": {
   "display_name": "Python 3 (ipykernel)",
   "language": "python",
   "name": "python3"
  },
  "language_info": {
   "codemirror_mode": {
    "name": "ipython",
    "version": 3
   },
   "file_extension": ".py",
   "mimetype": "text/x-python",
   "name": "python",
   "nbconvert_exporter": "python",
   "pygments_lexer": "ipython3",
   "version": "3.10.6"
  }
 },
 "nbformat": 4,
 "nbformat_minor": 5
}
