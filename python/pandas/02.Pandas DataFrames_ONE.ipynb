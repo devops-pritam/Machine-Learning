{
 "cells": [
  {
   "cell_type": "markdown",
   "id": "24cd0389-6ef2-4f7e-9591-76cacf4bc9af",
   "metadata": {},
   "source": [
    "## Pandas DataFrames"
   ]
  },
  {
   "cell_type": "code",
   "execution_count": 1,
   "id": "4a5ff788-98b2-4663-aedc-c20b89249391",
   "metadata": {},
   "outputs": [],
   "source": [
    "import numpy as np\n",
    "import pandas as pd"
   ]
  },
  {
   "cell_type": "code",
   "execution_count": 3,
   "id": "710ac956-24e5-4313-8482-0debb98b5336",
   "metadata": {},
   "outputs": [],
   "source": [
    "from numpy.random import randn"
   ]
  },
  {
   "cell_type": "code",
   "execution_count": 44,
   "id": "baad70fa-79d0-45a0-ad27-c25d2fe28c29",
   "metadata": {},
   "outputs": [],
   "source": [
    "np.random.seed(0) # it will create the same random numbers"
   ]
  },
  {
   "cell_type": "code",
   "execution_count": 99,
   "id": "3f652b3d-0c4e-4215-a8ec-3d3e114cd6d2",
   "metadata": {},
   "outputs": [],
   "source": [
    "my_row = ['A','B','C','D','E']\n",
    "my_col = ['X','Y','Z']"
   ]
  },
  {
   "cell_type": "code",
   "execution_count": 100,
   "id": "3dcacad9-ce00-4541-b2c8-6eb1200e8e81",
   "metadata": {},
   "outputs": [],
   "source": [
    "data = randn(5,3)"
   ]
  },
  {
   "cell_type": "code",
   "execution_count": 101,
   "id": "566a7f5e-8274-4a38-92c3-07b09dc6aa1e",
   "metadata": {},
   "outputs": [],
   "source": [
    "df = pd.DataFrame(data,my_row,my_col)"
   ]
  },
  {
   "cell_type": "code",
   "execution_count": 102,
   "id": "6a39d644-884f-45a3-acb5-91e8c35d937c",
   "metadata": {},
   "outputs": [
    {
     "data": {
      "text/html": [
       "<div>\n",
       "<style scoped>\n",
       "    .dataframe tbody tr th:only-of-type {\n",
       "        vertical-align: middle;\n",
       "    }\n",
       "\n",
       "    .dataframe tbody tr th {\n",
       "        vertical-align: top;\n",
       "    }\n",
       "\n",
       "    .dataframe thead th {\n",
       "        text-align: right;\n",
       "    }\n",
       "</style>\n",
       "<table border=\"1\" class=\"dataframe\">\n",
       "  <thead>\n",
       "    <tr style=\"text-align: right;\">\n",
       "      <th></th>\n",
       "      <th>X</th>\n",
       "      <th>Y</th>\n",
       "      <th>Z</th>\n",
       "    </tr>\n",
       "  </thead>\n",
       "  <tbody>\n",
       "    <tr>\n",
       "      <th>A</th>\n",
       "      <td>0.333674</td>\n",
       "      <td>1.494079</td>\n",
       "      <td>-0.205158</td>\n",
       "    </tr>\n",
       "    <tr>\n",
       "      <th>B</th>\n",
       "      <td>0.313068</td>\n",
       "      <td>-0.854096</td>\n",
       "      <td>-2.552990</td>\n",
       "    </tr>\n",
       "    <tr>\n",
       "      <th>C</th>\n",
       "      <td>0.653619</td>\n",
       "      <td>0.864436</td>\n",
       "      <td>-0.742165</td>\n",
       "    </tr>\n",
       "    <tr>\n",
       "      <th>D</th>\n",
       "      <td>2.269755</td>\n",
       "      <td>-1.454366</td>\n",
       "      <td>0.045759</td>\n",
       "    </tr>\n",
       "    <tr>\n",
       "      <th>E</th>\n",
       "      <td>-0.187184</td>\n",
       "      <td>1.532779</td>\n",
       "      <td>1.469359</td>\n",
       "    </tr>\n",
       "  </tbody>\n",
       "</table>\n",
       "</div>"
      ],
      "text/plain": [
       "          X         Y         Z\n",
       "A  0.333674  1.494079 -0.205158\n",
       "B  0.313068 -0.854096 -2.552990\n",
       "C  0.653619  0.864436 -0.742165\n",
       "D  2.269755 -1.454366  0.045759\n",
       "E -0.187184  1.532779  1.469359"
      ]
     },
     "execution_count": 102,
     "metadata": {},
     "output_type": "execute_result"
    }
   ],
   "source": [
    "df"
   ]
  },
  {
   "cell_type": "markdown",
   "id": "6fe85a94-6315-4171-bb7e-0dffb7b6251d",
   "metadata": {},
   "source": [
    "## Here each columns are the Series which are sharing the same index\n",
    "## So in this DataFrame we have 3 Series and 4 Index\n",
    "## So Python Data Fram is the combination of Series and Index"
   ]
  },
  {
   "cell_type": "code",
   "execution_count": 103,
   "id": "6e18e28c-2375-4c83-947c-3abea828bd58",
   "metadata": {},
   "outputs": [
    {
     "data": {
      "text/plain": [
       "A    0.333674\n",
       "B    0.313068\n",
       "C    0.653619\n",
       "D    2.269755\n",
       "E   -0.187184\n",
       "Name: X, dtype: float64"
      ]
     },
     "execution_count": 103,
     "metadata": {},
     "output_type": "execute_result"
    }
   ],
   "source": [
    "df['X']"
   ]
  },
  {
   "cell_type": "code",
   "execution_count": 104,
   "id": "4e1138b2-fc07-4838-a96d-9e22c7f20cf2",
   "metadata": {},
   "outputs": [
    {
     "data": {
      "text/plain": [
       "A    1.494079\n",
       "B   -0.854096\n",
       "C    0.864436\n",
       "D   -1.454366\n",
       "E    1.532779\n",
       "Name: Y, dtype: float64"
      ]
     },
     "execution_count": 104,
     "metadata": {},
     "output_type": "execute_result"
    }
   ],
   "source": [
    "df['Y']"
   ]
  },
  {
   "cell_type": "code",
   "execution_count": 105,
   "id": "0a7afb8f-86ab-4c9b-bbe5-5e570e511f8f",
   "metadata": {},
   "outputs": [
    {
     "data": {
      "text/plain": [
       "0.04575851730144607"
      ]
     },
     "execution_count": 105,
     "metadata": {},
     "output_type": "execute_result"
    }
   ],
   "source": [
    "df['Z']['D']"
   ]
  },
  {
   "cell_type": "code",
   "execution_count": 106,
   "id": "4e0e672e-92f6-40e3-88de-7adb92c256db",
   "metadata": {},
   "outputs": [
    {
     "data": {
      "text/plain": [
       "1.4940790731576061"
      ]
     },
     "execution_count": 106,
     "metadata": {},
     "output_type": "execute_result"
    }
   ],
   "source": [
    "df['Y']['A']"
   ]
  },
  {
   "cell_type": "code",
   "execution_count": 107,
   "id": "49341832-d2b8-4afd-8fec-357b99f436f6",
   "metadata": {},
   "outputs": [
    {
     "data": {
      "text/plain": [
       "pandas.core.series.Series"
      ]
     },
     "execution_count": 107,
     "metadata": {},
     "output_type": "execute_result"
    }
   ],
   "source": [
    "type(df['X']) # With this we can verify that every column is a Panda Series"
   ]
  },
  {
   "cell_type": "code",
   "execution_count": 108,
   "id": "e7c4b38a-605c-448a-a75d-bfc653590456",
   "metadata": {},
   "outputs": [
    {
     "data": {
      "text/plain": [
       "numpy.float64"
      ]
     },
     "execution_count": 108,
     "metadata": {},
     "output_type": "execute_result"
    }
   ],
   "source": [
    "type(df['Y']['A'])"
   ]
  },
  {
   "cell_type": "code",
   "execution_count": 109,
   "id": "041b6e37-269a-43c1-b450-8b044d409e40",
   "metadata": {},
   "outputs": [
    {
     "data": {
      "text/plain": [
       "pandas.core.frame.DataFrame"
      ]
     },
     "execution_count": 109,
     "metadata": {},
     "output_type": "execute_result"
    }
   ],
   "source": [
    "type(df) # to check the type"
   ]
  },
  {
   "cell_type": "markdown",
   "id": "db02be9c-ff8a-4097-8ffb-3fbc5ed5a03a",
   "metadata": {},
   "source": [
    "## Also we can get the Col details like we use in SQL"
   ]
  },
  {
   "cell_type": "code",
   "execution_count": 110,
   "id": "a595b637-1b04-46de-8219-b6c18815e8f7",
   "metadata": {},
   "outputs": [
    {
     "data": {
      "text/plain": [
       "A    0.333674\n",
       "B    0.313068\n",
       "C    0.653619\n",
       "D    2.269755\n",
       "E   -0.187184\n",
       "Name: X, dtype: float64"
      ]
     },
     "execution_count": 110,
     "metadata": {},
     "output_type": "execute_result"
    }
   ],
   "source": [
    "df.X"
   ]
  },
  {
   "cell_type": "code",
   "execution_count": 111,
   "id": "a094fddf-8272-4928-b8e4-94f892ed1fb1",
   "metadata": {},
   "outputs": [
    {
     "data": {
      "text/plain": [
       "A    1.494079\n",
       "B   -0.854096\n",
       "C    0.864436\n",
       "D   -1.454366\n",
       "E    1.532779\n",
       "Name: Y, dtype: float64"
      ]
     },
     "execution_count": 111,
     "metadata": {},
     "output_type": "execute_result"
    }
   ],
   "source": [
    "df.Y"
   ]
  },
  {
   "cell_type": "code",
   "execution_count": 112,
   "id": "748a2614-f05a-4d24-8fa4-bf7da9cad386",
   "metadata": {},
   "outputs": [
    {
     "data": {
      "text/plain": [
       "A   -0.205158\n",
       "B   -2.552990\n",
       "C   -0.742165\n",
       "D    0.045759\n",
       "E    1.469359\n",
       "Name: Z, dtype: float64"
      ]
     },
     "execution_count": 112,
     "metadata": {},
     "output_type": "execute_result"
    }
   ],
   "source": [
    "df.Z"
   ]
  },
  {
   "cell_type": "code",
   "execution_count": 113,
   "id": "62f9ba77-07be-4199-b2d1-027552230f49",
   "metadata": {},
   "outputs": [
    {
     "data": {
      "text/plain": [
       "-0.20515826376580087"
      ]
     },
     "execution_count": 113,
     "metadata": {},
     "output_type": "execute_result"
    }
   ],
   "source": [
    "df.Z.A"
   ]
  },
  {
   "cell_type": "code",
   "execution_count": 114,
   "id": "797f739b-dc77-4a95-b0f8-aba61db81836",
   "metadata": {},
   "outputs": [
    {
     "data": {
      "text/plain": [
       "-1.4543656745987648"
      ]
     },
     "execution_count": 114,
     "metadata": {},
     "output_type": "execute_result"
    }
   ],
   "source": [
    "df.Y.D"
   ]
  },
  {
   "cell_type": "code",
   "execution_count": 115,
   "id": "d1ef8197-9ad8-4148-8a8c-9bb7233850af",
   "metadata": {},
   "outputs": [
    {
     "data": {
      "text/plain": [
       "-0.1871838500258336"
      ]
     },
     "execution_count": 115,
     "metadata": {},
     "output_type": "execute_result"
    }
   ],
   "source": [
    "df.X.E"
   ]
  },
  {
   "cell_type": "code",
   "execution_count": 116,
   "id": "5e579b1c-dc86-4933-b743-8a19111491ca",
   "metadata": {},
   "outputs": [
    {
     "data": {
      "text/plain": [
       "pandas.core.series.Series"
      ]
     },
     "execution_count": 116,
     "metadata": {},
     "output_type": "execute_result"
    }
   ],
   "source": [
    "type(df.Z)"
   ]
  },
  {
   "cell_type": "code",
   "execution_count": 117,
   "id": "11c90efb-5a32-4ff3-929f-3b125ba5498c",
   "metadata": {},
   "outputs": [
    {
     "data": {
      "text/plain": [
       "numpy.float64"
      ]
     },
     "execution_count": 117,
     "metadata": {},
     "output_type": "execute_result"
    }
   ],
   "source": [
    "type(df.X.E)"
   ]
  },
  {
   "cell_type": "markdown",
   "id": "230804c8-dd88-4af9-8fbf-ae095a6b56af",
   "metadata": {},
   "source": [
    "## To get the Multiple Columns"
   ]
  },
  {
   "cell_type": "code",
   "execution_count": 118,
   "id": "ecf614ef-8835-4be8-983a-8b34c1fed893",
   "metadata": {},
   "outputs": [
    {
     "data": {
      "text/html": [
       "<div>\n",
       "<style scoped>\n",
       "    .dataframe tbody tr th:only-of-type {\n",
       "        vertical-align: middle;\n",
       "    }\n",
       "\n",
       "    .dataframe tbody tr th {\n",
       "        vertical-align: top;\n",
       "    }\n",
       "\n",
       "    .dataframe thead th {\n",
       "        text-align: right;\n",
       "    }\n",
       "</style>\n",
       "<table border=\"1\" class=\"dataframe\">\n",
       "  <thead>\n",
       "    <tr style=\"text-align: right;\">\n",
       "      <th></th>\n",
       "      <th>X</th>\n",
       "      <th>Y</th>\n",
       "      <th>Z</th>\n",
       "    </tr>\n",
       "  </thead>\n",
       "  <tbody>\n",
       "    <tr>\n",
       "      <th>A</th>\n",
       "      <td>0.333674</td>\n",
       "      <td>1.494079</td>\n",
       "      <td>-0.205158</td>\n",
       "    </tr>\n",
       "    <tr>\n",
       "      <th>B</th>\n",
       "      <td>0.313068</td>\n",
       "      <td>-0.854096</td>\n",
       "      <td>-2.552990</td>\n",
       "    </tr>\n",
       "    <tr>\n",
       "      <th>C</th>\n",
       "      <td>0.653619</td>\n",
       "      <td>0.864436</td>\n",
       "      <td>-0.742165</td>\n",
       "    </tr>\n",
       "    <tr>\n",
       "      <th>D</th>\n",
       "      <td>2.269755</td>\n",
       "      <td>-1.454366</td>\n",
       "      <td>0.045759</td>\n",
       "    </tr>\n",
       "    <tr>\n",
       "      <th>E</th>\n",
       "      <td>-0.187184</td>\n",
       "      <td>1.532779</td>\n",
       "      <td>1.469359</td>\n",
       "    </tr>\n",
       "  </tbody>\n",
       "</table>\n",
       "</div>"
      ],
      "text/plain": [
       "          X         Y         Z\n",
       "A  0.333674  1.494079 -0.205158\n",
       "B  0.313068 -0.854096 -2.552990\n",
       "C  0.653619  0.864436 -0.742165\n",
       "D  2.269755 -1.454366  0.045759\n",
       "E -0.187184  1.532779  1.469359"
      ]
     },
     "execution_count": 118,
     "metadata": {},
     "output_type": "execute_result"
    }
   ],
   "source": [
    "df"
   ]
  },
  {
   "cell_type": "code",
   "execution_count": 119,
   "id": "89c9bcf9-607b-4325-8130-bb19a9aebfb8",
   "metadata": {},
   "outputs": [
    {
     "data": {
      "text/html": [
       "<div>\n",
       "<style scoped>\n",
       "    .dataframe tbody tr th:only-of-type {\n",
       "        vertical-align: middle;\n",
       "    }\n",
       "\n",
       "    .dataframe tbody tr th {\n",
       "        vertical-align: top;\n",
       "    }\n",
       "\n",
       "    .dataframe thead th {\n",
       "        text-align: right;\n",
       "    }\n",
       "</style>\n",
       "<table border=\"1\" class=\"dataframe\">\n",
       "  <thead>\n",
       "    <tr style=\"text-align: right;\">\n",
       "      <th></th>\n",
       "      <th>Y</th>\n",
       "      <th>Z</th>\n",
       "    </tr>\n",
       "  </thead>\n",
       "  <tbody>\n",
       "    <tr>\n",
       "      <th>A</th>\n",
       "      <td>1.494079</td>\n",
       "      <td>-0.205158</td>\n",
       "    </tr>\n",
       "    <tr>\n",
       "      <th>B</th>\n",
       "      <td>-0.854096</td>\n",
       "      <td>-2.552990</td>\n",
       "    </tr>\n",
       "    <tr>\n",
       "      <th>C</th>\n",
       "      <td>0.864436</td>\n",
       "      <td>-0.742165</td>\n",
       "    </tr>\n",
       "    <tr>\n",
       "      <th>D</th>\n",
       "      <td>-1.454366</td>\n",
       "      <td>0.045759</td>\n",
       "    </tr>\n",
       "    <tr>\n",
       "      <th>E</th>\n",
       "      <td>1.532779</td>\n",
       "      <td>1.469359</td>\n",
       "    </tr>\n",
       "  </tbody>\n",
       "</table>\n",
       "</div>"
      ],
      "text/plain": [
       "          Y         Z\n",
       "A  1.494079 -0.205158\n",
       "B -0.854096 -2.552990\n",
       "C  0.864436 -0.742165\n",
       "D -1.454366  0.045759\n",
       "E  1.532779  1.469359"
      ]
     },
     "execution_count": 119,
     "metadata": {},
     "output_type": "execute_result"
    }
   ],
   "source": [
    "df[['Y','Z']]"
   ]
  },
  {
   "cell_type": "code",
   "execution_count": 120,
   "id": "c9179c3b-6746-4637-9017-c5d88741e214",
   "metadata": {},
   "outputs": [
    {
     "data": {
      "text/plain": [
       "pandas.core.frame.DataFrame"
      ]
     },
     "execution_count": 120,
     "metadata": {},
     "output_type": "execute_result"
    }
   ],
   "source": [
    "type(df[['Y','Z']])"
   ]
  },
  {
   "cell_type": "markdown",
   "id": "1683e85d-389b-486a-b3f0-b8708c507fd7",
   "metadata": {},
   "source": [
    "## Creating A New Column"
   ]
  },
  {
   "cell_type": "code",
   "execution_count": 121,
   "id": "e6cfe547-53ba-4b41-a882-94d53dcdf75f",
   "metadata": {},
   "outputs": [],
   "source": [
    "df['SUM'] = df['X'] + df['Z']"
   ]
  },
  {
   "cell_type": "code",
   "execution_count": 122,
   "id": "8f20db70-5284-45aa-876e-965869436351",
   "metadata": {},
   "outputs": [
    {
     "data": {
      "text/html": [
       "<div>\n",
       "<style scoped>\n",
       "    .dataframe tbody tr th:only-of-type {\n",
       "        vertical-align: middle;\n",
       "    }\n",
       "\n",
       "    .dataframe tbody tr th {\n",
       "        vertical-align: top;\n",
       "    }\n",
       "\n",
       "    .dataframe thead th {\n",
       "        text-align: right;\n",
       "    }\n",
       "</style>\n",
       "<table border=\"1\" class=\"dataframe\">\n",
       "  <thead>\n",
       "    <tr style=\"text-align: right;\">\n",
       "      <th></th>\n",
       "      <th>X</th>\n",
       "      <th>Y</th>\n",
       "      <th>Z</th>\n",
       "      <th>SUM</th>\n",
       "    </tr>\n",
       "  </thead>\n",
       "  <tbody>\n",
       "    <tr>\n",
       "      <th>A</th>\n",
       "      <td>0.333674</td>\n",
       "      <td>1.494079</td>\n",
       "      <td>-0.205158</td>\n",
       "      <td>0.128516</td>\n",
       "    </tr>\n",
       "    <tr>\n",
       "      <th>B</th>\n",
       "      <td>0.313068</td>\n",
       "      <td>-0.854096</td>\n",
       "      <td>-2.552990</td>\n",
       "      <td>-2.239922</td>\n",
       "    </tr>\n",
       "    <tr>\n",
       "      <th>C</th>\n",
       "      <td>0.653619</td>\n",
       "      <td>0.864436</td>\n",
       "      <td>-0.742165</td>\n",
       "      <td>-0.088546</td>\n",
       "    </tr>\n",
       "    <tr>\n",
       "      <th>D</th>\n",
       "      <td>2.269755</td>\n",
       "      <td>-1.454366</td>\n",
       "      <td>0.045759</td>\n",
       "      <td>2.315513</td>\n",
       "    </tr>\n",
       "    <tr>\n",
       "      <th>E</th>\n",
       "      <td>-0.187184</td>\n",
       "      <td>1.532779</td>\n",
       "      <td>1.469359</td>\n",
       "      <td>1.282175</td>\n",
       "    </tr>\n",
       "  </tbody>\n",
       "</table>\n",
       "</div>"
      ],
      "text/plain": [
       "          X         Y         Z       SUM\n",
       "A  0.333674  1.494079 -0.205158  0.128516\n",
       "B  0.313068 -0.854096 -2.552990 -2.239922\n",
       "C  0.653619  0.864436 -0.742165 -0.088546\n",
       "D  2.269755 -1.454366  0.045759  2.315513\n",
       "E -0.187184  1.532779  1.469359  1.282175"
      ]
     },
     "execution_count": 122,
     "metadata": {},
     "output_type": "execute_result"
    }
   ],
   "source": [
    "df"
   ]
  },
  {
   "cell_type": "code",
   "execution_count": 123,
   "id": "d6a41e65-42ba-4c43-882d-18aefc6af25e",
   "metadata": {},
   "outputs": [],
   "source": [
    "df['SUB'] =df['Y'] - df['Z']"
   ]
  },
  {
   "cell_type": "code",
   "execution_count": 124,
   "id": "88f08409-31b2-478c-ba85-c3de91e958b3",
   "metadata": {},
   "outputs": [
    {
     "data": {
      "text/html": [
       "<div>\n",
       "<style scoped>\n",
       "    .dataframe tbody tr th:only-of-type {\n",
       "        vertical-align: middle;\n",
       "    }\n",
       "\n",
       "    .dataframe tbody tr th {\n",
       "        vertical-align: top;\n",
       "    }\n",
       "\n",
       "    .dataframe thead th {\n",
       "        text-align: right;\n",
       "    }\n",
       "</style>\n",
       "<table border=\"1\" class=\"dataframe\">\n",
       "  <thead>\n",
       "    <tr style=\"text-align: right;\">\n",
       "      <th></th>\n",
       "      <th>X</th>\n",
       "      <th>Y</th>\n",
       "      <th>Z</th>\n",
       "      <th>SUM</th>\n",
       "      <th>SUB</th>\n",
       "    </tr>\n",
       "  </thead>\n",
       "  <tbody>\n",
       "    <tr>\n",
       "      <th>A</th>\n",
       "      <td>0.333674</td>\n",
       "      <td>1.494079</td>\n",
       "      <td>-0.205158</td>\n",
       "      <td>0.128516</td>\n",
       "      <td>1.699237</td>\n",
       "    </tr>\n",
       "    <tr>\n",
       "      <th>B</th>\n",
       "      <td>0.313068</td>\n",
       "      <td>-0.854096</td>\n",
       "      <td>-2.552990</td>\n",
       "      <td>-2.239922</td>\n",
       "      <td>1.698894</td>\n",
       "    </tr>\n",
       "    <tr>\n",
       "      <th>C</th>\n",
       "      <td>0.653619</td>\n",
       "      <td>0.864436</td>\n",
       "      <td>-0.742165</td>\n",
       "      <td>-0.088546</td>\n",
       "      <td>1.606601</td>\n",
       "    </tr>\n",
       "    <tr>\n",
       "      <th>D</th>\n",
       "      <td>2.269755</td>\n",
       "      <td>-1.454366</td>\n",
       "      <td>0.045759</td>\n",
       "      <td>2.315513</td>\n",
       "      <td>-1.500124</td>\n",
       "    </tr>\n",
       "    <tr>\n",
       "      <th>E</th>\n",
       "      <td>-0.187184</td>\n",
       "      <td>1.532779</td>\n",
       "      <td>1.469359</td>\n",
       "      <td>1.282175</td>\n",
       "      <td>0.063420</td>\n",
       "    </tr>\n",
       "  </tbody>\n",
       "</table>\n",
       "</div>"
      ],
      "text/plain": [
       "          X         Y         Z       SUM       SUB\n",
       "A  0.333674  1.494079 -0.205158  0.128516  1.699237\n",
       "B  0.313068 -0.854096 -2.552990 -2.239922  1.698894\n",
       "C  0.653619  0.864436 -0.742165 -0.088546  1.606601\n",
       "D  2.269755 -1.454366  0.045759  2.315513 -1.500124\n",
       "E -0.187184  1.532779  1.469359  1.282175  0.063420"
      ]
     },
     "execution_count": 124,
     "metadata": {},
     "output_type": "execute_result"
    }
   ],
   "source": [
    "df"
   ]
  },
  {
   "cell_type": "markdown",
   "id": "9d23c145-996b-44b7-aaf8-6940fdf74997",
   "metadata": {},
   "source": [
    "## To Drop the Column"
   ]
  },
  {
   "cell_type": "code",
   "execution_count": 125,
   "id": "3c65b189-bbc2-44b3-9b5b-a877ca0d40d7",
   "metadata": {},
   "outputs": [
    {
     "ename": "KeyError",
     "evalue": "\"['SUM'] not found in axis\"",
     "output_type": "error",
     "traceback": [
      "\u001b[1;31m---------------------------------------------------------------------------\u001b[0m",
      "\u001b[1;31mKeyError\u001b[0m                                  Traceback (most recent call last)",
      "Cell \u001b[1;32mIn[125], line 1\u001b[0m\n\u001b[1;32m----> 1\u001b[0m \u001b[43mdf\u001b[49m\u001b[38;5;241;43m.\u001b[39;49m\u001b[43mdrop\u001b[49m\u001b[43m(\u001b[49m\u001b[38;5;124;43m'\u001b[39;49m\u001b[38;5;124;43mSUM\u001b[39;49m\u001b[38;5;124;43m'\u001b[39;49m\u001b[43m)\u001b[49m\n",
      "File \u001b[1;32m~\\AppData\\Local\\Programs\\Python\\Python310\\lib\\site-packages\\pandas\\util\\_decorators.py:331\u001b[0m, in \u001b[0;36mdeprecate_nonkeyword_arguments.<locals>.decorate.<locals>.wrapper\u001b[1;34m(*args, **kwargs)\u001b[0m\n\u001b[0;32m    325\u001b[0m \u001b[38;5;28;01mif\u001b[39;00m \u001b[38;5;28mlen\u001b[39m(args) \u001b[38;5;241m>\u001b[39m num_allow_args:\n\u001b[0;32m    326\u001b[0m     warnings\u001b[38;5;241m.\u001b[39mwarn(\n\u001b[0;32m    327\u001b[0m         msg\u001b[38;5;241m.\u001b[39mformat(arguments\u001b[38;5;241m=\u001b[39m_format_argument_list(allow_args)),\n\u001b[0;32m    328\u001b[0m         \u001b[38;5;167;01mFutureWarning\u001b[39;00m,\n\u001b[0;32m    329\u001b[0m         stacklevel\u001b[38;5;241m=\u001b[39mfind_stack_level(),\n\u001b[0;32m    330\u001b[0m     )\n\u001b[1;32m--> 331\u001b[0m \u001b[38;5;28;01mreturn\u001b[39;00m func(\u001b[38;5;241m*\u001b[39margs, \u001b[38;5;241m*\u001b[39m\u001b[38;5;241m*\u001b[39mkwargs)\n",
      "File \u001b[1;32m~\\AppData\\Local\\Programs\\Python\\Python310\\lib\\site-packages\\pandas\\core\\frame.py:5399\u001b[0m, in \u001b[0;36mDataFrame.drop\u001b[1;34m(self, labels, axis, index, columns, level, inplace, errors)\u001b[0m\n\u001b[0;32m   5251\u001b[0m \u001b[38;5;129m@deprecate_nonkeyword_arguments\u001b[39m(version\u001b[38;5;241m=\u001b[39m\u001b[38;5;28;01mNone\u001b[39;00m, allowed_args\u001b[38;5;241m=\u001b[39m[\u001b[38;5;124m\"\u001b[39m\u001b[38;5;124mself\u001b[39m\u001b[38;5;124m\"\u001b[39m, \u001b[38;5;124m\"\u001b[39m\u001b[38;5;124mlabels\u001b[39m\u001b[38;5;124m\"\u001b[39m])\n\u001b[0;32m   5252\u001b[0m \u001b[38;5;28;01mdef\u001b[39;00m \u001b[38;5;21mdrop\u001b[39m(  \u001b[38;5;66;03m# type: ignore[override]\u001b[39;00m\n\u001b[0;32m   5253\u001b[0m     \u001b[38;5;28mself\u001b[39m,\n\u001b[1;32m   (...)\u001b[0m\n\u001b[0;32m   5260\u001b[0m     errors: IgnoreRaise \u001b[38;5;241m=\u001b[39m \u001b[38;5;124m\"\u001b[39m\u001b[38;5;124mraise\u001b[39m\u001b[38;5;124m\"\u001b[39m,\n\u001b[0;32m   5261\u001b[0m ) \u001b[38;5;241m-\u001b[39m\u001b[38;5;241m>\u001b[39m DataFrame \u001b[38;5;241m|\u001b[39m \u001b[38;5;28;01mNone\u001b[39;00m:\n\u001b[0;32m   5262\u001b[0m \u001b[38;5;250m    \u001b[39m\u001b[38;5;124;03m\"\"\"\u001b[39;00m\n\u001b[0;32m   5263\u001b[0m \u001b[38;5;124;03m    Drop specified labels from rows or columns.\u001b[39;00m\n\u001b[0;32m   5264\u001b[0m \n\u001b[1;32m   (...)\u001b[0m\n\u001b[0;32m   5397\u001b[0m \u001b[38;5;124;03m            weight  1.0     0.8\u001b[39;00m\n\u001b[0;32m   5398\u001b[0m \u001b[38;5;124;03m    \"\"\"\u001b[39;00m\n\u001b[1;32m-> 5399\u001b[0m     \u001b[38;5;28;01mreturn\u001b[39;00m \u001b[38;5;28;43msuper\u001b[39;49m\u001b[43m(\u001b[49m\u001b[43m)\u001b[49m\u001b[38;5;241;43m.\u001b[39;49m\u001b[43mdrop\u001b[49m\u001b[43m(\u001b[49m\n\u001b[0;32m   5400\u001b[0m \u001b[43m        \u001b[49m\u001b[43mlabels\u001b[49m\u001b[38;5;241;43m=\u001b[39;49m\u001b[43mlabels\u001b[49m\u001b[43m,\u001b[49m\n\u001b[0;32m   5401\u001b[0m \u001b[43m        \u001b[49m\u001b[43maxis\u001b[49m\u001b[38;5;241;43m=\u001b[39;49m\u001b[43maxis\u001b[49m\u001b[43m,\u001b[49m\n\u001b[0;32m   5402\u001b[0m \u001b[43m        \u001b[49m\u001b[43mindex\u001b[49m\u001b[38;5;241;43m=\u001b[39;49m\u001b[43mindex\u001b[49m\u001b[43m,\u001b[49m\n\u001b[0;32m   5403\u001b[0m \u001b[43m        \u001b[49m\u001b[43mcolumns\u001b[49m\u001b[38;5;241;43m=\u001b[39;49m\u001b[43mcolumns\u001b[49m\u001b[43m,\u001b[49m\n\u001b[0;32m   5404\u001b[0m \u001b[43m        \u001b[49m\u001b[43mlevel\u001b[49m\u001b[38;5;241;43m=\u001b[39;49m\u001b[43mlevel\u001b[49m\u001b[43m,\u001b[49m\n\u001b[0;32m   5405\u001b[0m \u001b[43m        \u001b[49m\u001b[43minplace\u001b[49m\u001b[38;5;241;43m=\u001b[39;49m\u001b[43minplace\u001b[49m\u001b[43m,\u001b[49m\n\u001b[0;32m   5406\u001b[0m \u001b[43m        \u001b[49m\u001b[43merrors\u001b[49m\u001b[38;5;241;43m=\u001b[39;49m\u001b[43merrors\u001b[49m\u001b[43m,\u001b[49m\n\u001b[0;32m   5407\u001b[0m \u001b[43m    \u001b[49m\u001b[43m)\u001b[49m\n",
      "File \u001b[1;32m~\\AppData\\Local\\Programs\\Python\\Python310\\lib\\site-packages\\pandas\\util\\_decorators.py:331\u001b[0m, in \u001b[0;36mdeprecate_nonkeyword_arguments.<locals>.decorate.<locals>.wrapper\u001b[1;34m(*args, **kwargs)\u001b[0m\n\u001b[0;32m    325\u001b[0m \u001b[38;5;28;01mif\u001b[39;00m \u001b[38;5;28mlen\u001b[39m(args) \u001b[38;5;241m>\u001b[39m num_allow_args:\n\u001b[0;32m    326\u001b[0m     warnings\u001b[38;5;241m.\u001b[39mwarn(\n\u001b[0;32m    327\u001b[0m         msg\u001b[38;5;241m.\u001b[39mformat(arguments\u001b[38;5;241m=\u001b[39m_format_argument_list(allow_args)),\n\u001b[0;32m    328\u001b[0m         \u001b[38;5;167;01mFutureWarning\u001b[39;00m,\n\u001b[0;32m    329\u001b[0m         stacklevel\u001b[38;5;241m=\u001b[39mfind_stack_level(),\n\u001b[0;32m    330\u001b[0m     )\n\u001b[1;32m--> 331\u001b[0m \u001b[38;5;28;01mreturn\u001b[39;00m func(\u001b[38;5;241m*\u001b[39margs, \u001b[38;5;241m*\u001b[39m\u001b[38;5;241m*\u001b[39mkwargs)\n",
      "File \u001b[1;32m~\\AppData\\Local\\Programs\\Python\\Python310\\lib\\site-packages\\pandas\\core\\generic.py:4505\u001b[0m, in \u001b[0;36mNDFrame.drop\u001b[1;34m(self, labels, axis, index, columns, level, inplace, errors)\u001b[0m\n\u001b[0;32m   4503\u001b[0m \u001b[38;5;28;01mfor\u001b[39;00m axis, labels \u001b[38;5;129;01min\u001b[39;00m axes\u001b[38;5;241m.\u001b[39mitems():\n\u001b[0;32m   4504\u001b[0m     \u001b[38;5;28;01mif\u001b[39;00m labels \u001b[38;5;129;01mis\u001b[39;00m \u001b[38;5;129;01mnot\u001b[39;00m \u001b[38;5;28;01mNone\u001b[39;00m:\n\u001b[1;32m-> 4505\u001b[0m         obj \u001b[38;5;241m=\u001b[39m \u001b[43mobj\u001b[49m\u001b[38;5;241;43m.\u001b[39;49m\u001b[43m_drop_axis\u001b[49m\u001b[43m(\u001b[49m\u001b[43mlabels\u001b[49m\u001b[43m,\u001b[49m\u001b[43m \u001b[49m\u001b[43maxis\u001b[49m\u001b[43m,\u001b[49m\u001b[43m \u001b[49m\u001b[43mlevel\u001b[49m\u001b[38;5;241;43m=\u001b[39;49m\u001b[43mlevel\u001b[49m\u001b[43m,\u001b[49m\u001b[43m \u001b[49m\u001b[43merrors\u001b[49m\u001b[38;5;241;43m=\u001b[39;49m\u001b[43merrors\u001b[49m\u001b[43m)\u001b[49m\n\u001b[0;32m   4507\u001b[0m \u001b[38;5;28;01mif\u001b[39;00m inplace:\n\u001b[0;32m   4508\u001b[0m     \u001b[38;5;28mself\u001b[39m\u001b[38;5;241m.\u001b[39m_update_inplace(obj)\n",
      "File \u001b[1;32m~\\AppData\\Local\\Programs\\Python\\Python310\\lib\\site-packages\\pandas\\core\\generic.py:4546\u001b[0m, in \u001b[0;36mNDFrame._drop_axis\u001b[1;34m(self, labels, axis, level, errors, only_slice)\u001b[0m\n\u001b[0;32m   4544\u001b[0m         new_axis \u001b[38;5;241m=\u001b[39m axis\u001b[38;5;241m.\u001b[39mdrop(labels, level\u001b[38;5;241m=\u001b[39mlevel, errors\u001b[38;5;241m=\u001b[39merrors)\n\u001b[0;32m   4545\u001b[0m     \u001b[38;5;28;01melse\u001b[39;00m:\n\u001b[1;32m-> 4546\u001b[0m         new_axis \u001b[38;5;241m=\u001b[39m \u001b[43maxis\u001b[49m\u001b[38;5;241;43m.\u001b[39;49m\u001b[43mdrop\u001b[49m\u001b[43m(\u001b[49m\u001b[43mlabels\u001b[49m\u001b[43m,\u001b[49m\u001b[43m \u001b[49m\u001b[43merrors\u001b[49m\u001b[38;5;241;43m=\u001b[39;49m\u001b[43merrors\u001b[49m\u001b[43m)\u001b[49m\n\u001b[0;32m   4547\u001b[0m     indexer \u001b[38;5;241m=\u001b[39m axis\u001b[38;5;241m.\u001b[39mget_indexer(new_axis)\n\u001b[0;32m   4549\u001b[0m \u001b[38;5;66;03m# Case for non-unique axis\u001b[39;00m\n\u001b[0;32m   4550\u001b[0m \u001b[38;5;28;01melse\u001b[39;00m:\n",
      "File \u001b[1;32m~\\AppData\\Local\\Programs\\Python\\Python310\\lib\\site-packages\\pandas\\core\\indexes\\base.py:6934\u001b[0m, in \u001b[0;36mIndex.drop\u001b[1;34m(self, labels, errors)\u001b[0m\n\u001b[0;32m   6932\u001b[0m \u001b[38;5;28;01mif\u001b[39;00m mask\u001b[38;5;241m.\u001b[39many():\n\u001b[0;32m   6933\u001b[0m     \u001b[38;5;28;01mif\u001b[39;00m errors \u001b[38;5;241m!=\u001b[39m \u001b[38;5;124m\"\u001b[39m\u001b[38;5;124mignore\u001b[39m\u001b[38;5;124m\"\u001b[39m:\n\u001b[1;32m-> 6934\u001b[0m         \u001b[38;5;28;01mraise\u001b[39;00m \u001b[38;5;167;01mKeyError\u001b[39;00m(\u001b[38;5;124mf\u001b[39m\u001b[38;5;124m\"\u001b[39m\u001b[38;5;132;01m{\u001b[39;00m\u001b[38;5;28mlist\u001b[39m(labels[mask])\u001b[38;5;132;01m}\u001b[39;00m\u001b[38;5;124m not found in axis\u001b[39m\u001b[38;5;124m\"\u001b[39m)\n\u001b[0;32m   6935\u001b[0m     indexer \u001b[38;5;241m=\u001b[39m indexer[\u001b[38;5;241m~\u001b[39mmask]\n\u001b[0;32m   6936\u001b[0m \u001b[38;5;28;01mreturn\u001b[39;00m \u001b[38;5;28mself\u001b[39m\u001b[38;5;241m.\u001b[39mdelete(indexer)\n",
      "\u001b[1;31mKeyError\u001b[0m: \"['SUM'] not found in axis\""
     ]
    }
   ],
   "source": [
    "df.drop('SUM')"
   ]
  },
  {
   "cell_type": "markdown",
   "id": "869643d3-d2d9-4895-bf15-d2a9dcf0f5ea",
   "metadata": {},
   "source": [
    "## We can see the drop did not happen due to Value Error\n",
    "## Reason by default it will point to the axis=0 which is row, And in order to drop the column we have to mention axis=1"
   ]
  },
  {
   "cell_type": "code",
   "execution_count": 126,
   "id": "6c3b5360-1fcd-466e-9d96-06670aaa228d",
   "metadata": {},
   "outputs": [
    {
     "data": {
      "text/html": [
       "<div>\n",
       "<style scoped>\n",
       "    .dataframe tbody tr th:only-of-type {\n",
       "        vertical-align: middle;\n",
       "    }\n",
       "\n",
       "    .dataframe tbody tr th {\n",
       "        vertical-align: top;\n",
       "    }\n",
       "\n",
       "    .dataframe thead th {\n",
       "        text-align: right;\n",
       "    }\n",
       "</style>\n",
       "<table border=\"1\" class=\"dataframe\">\n",
       "  <thead>\n",
       "    <tr style=\"text-align: right;\">\n",
       "      <th></th>\n",
       "      <th>X</th>\n",
       "      <th>Y</th>\n",
       "      <th>Z</th>\n",
       "      <th>SUB</th>\n",
       "    </tr>\n",
       "  </thead>\n",
       "  <tbody>\n",
       "    <tr>\n",
       "      <th>A</th>\n",
       "      <td>0.333674</td>\n",
       "      <td>1.494079</td>\n",
       "      <td>-0.205158</td>\n",
       "      <td>1.699237</td>\n",
       "    </tr>\n",
       "    <tr>\n",
       "      <th>B</th>\n",
       "      <td>0.313068</td>\n",
       "      <td>-0.854096</td>\n",
       "      <td>-2.552990</td>\n",
       "      <td>1.698894</td>\n",
       "    </tr>\n",
       "    <tr>\n",
       "      <th>C</th>\n",
       "      <td>0.653619</td>\n",
       "      <td>0.864436</td>\n",
       "      <td>-0.742165</td>\n",
       "      <td>1.606601</td>\n",
       "    </tr>\n",
       "    <tr>\n",
       "      <th>D</th>\n",
       "      <td>2.269755</td>\n",
       "      <td>-1.454366</td>\n",
       "      <td>0.045759</td>\n",
       "      <td>-1.500124</td>\n",
       "    </tr>\n",
       "    <tr>\n",
       "      <th>E</th>\n",
       "      <td>-0.187184</td>\n",
       "      <td>1.532779</td>\n",
       "      <td>1.469359</td>\n",
       "      <td>0.063420</td>\n",
       "    </tr>\n",
       "  </tbody>\n",
       "</table>\n",
       "</div>"
      ],
      "text/plain": [
       "          X         Y         Z       SUB\n",
       "A  0.333674  1.494079 -0.205158  1.699237\n",
       "B  0.313068 -0.854096 -2.552990  1.698894\n",
       "C  0.653619  0.864436 -0.742165  1.606601\n",
       "D  2.269755 -1.454366  0.045759 -1.500124\n",
       "E -0.187184  1.532779  1.469359  0.063420"
      ]
     },
     "execution_count": 126,
     "metadata": {},
     "output_type": "execute_result"
    }
   ],
   "source": [
    "df.drop('SUM',axis=1)"
   ]
  },
  {
   "cell_type": "code",
   "execution_count": 127,
   "id": "bb33a37a-e108-476b-9126-9e594e73c514",
   "metadata": {},
   "outputs": [
    {
     "data": {
      "text/html": [
       "<div>\n",
       "<style scoped>\n",
       "    .dataframe tbody tr th:only-of-type {\n",
       "        vertical-align: middle;\n",
       "    }\n",
       "\n",
       "    .dataframe tbody tr th {\n",
       "        vertical-align: top;\n",
       "    }\n",
       "\n",
       "    .dataframe thead th {\n",
       "        text-align: right;\n",
       "    }\n",
       "</style>\n",
       "<table border=\"1\" class=\"dataframe\">\n",
       "  <thead>\n",
       "    <tr style=\"text-align: right;\">\n",
       "      <th></th>\n",
       "      <th>X</th>\n",
       "      <th>Y</th>\n",
       "      <th>Z</th>\n",
       "      <th>SUM</th>\n",
       "      <th>SUB</th>\n",
       "    </tr>\n",
       "  </thead>\n",
       "  <tbody>\n",
       "    <tr>\n",
       "      <th>A</th>\n",
       "      <td>0.333674</td>\n",
       "      <td>1.494079</td>\n",
       "      <td>-0.205158</td>\n",
       "      <td>0.128516</td>\n",
       "      <td>1.699237</td>\n",
       "    </tr>\n",
       "    <tr>\n",
       "      <th>B</th>\n",
       "      <td>0.313068</td>\n",
       "      <td>-0.854096</td>\n",
       "      <td>-2.552990</td>\n",
       "      <td>-2.239922</td>\n",
       "      <td>1.698894</td>\n",
       "    </tr>\n",
       "    <tr>\n",
       "      <th>C</th>\n",
       "      <td>0.653619</td>\n",
       "      <td>0.864436</td>\n",
       "      <td>-0.742165</td>\n",
       "      <td>-0.088546</td>\n",
       "      <td>1.606601</td>\n",
       "    </tr>\n",
       "    <tr>\n",
       "      <th>D</th>\n",
       "      <td>2.269755</td>\n",
       "      <td>-1.454366</td>\n",
       "      <td>0.045759</td>\n",
       "      <td>2.315513</td>\n",
       "      <td>-1.500124</td>\n",
       "    </tr>\n",
       "    <tr>\n",
       "      <th>E</th>\n",
       "      <td>-0.187184</td>\n",
       "      <td>1.532779</td>\n",
       "      <td>1.469359</td>\n",
       "      <td>1.282175</td>\n",
       "      <td>0.063420</td>\n",
       "    </tr>\n",
       "  </tbody>\n",
       "</table>\n",
       "</div>"
      ],
      "text/plain": [
       "          X         Y         Z       SUM       SUB\n",
       "A  0.333674  1.494079 -0.205158  0.128516  1.699237\n",
       "B  0.313068 -0.854096 -2.552990 -2.239922  1.698894\n",
       "C  0.653619  0.864436 -0.742165 -0.088546  1.606601\n",
       "D  2.269755 -1.454366  0.045759  2.315513 -1.500124\n",
       "E -0.187184  1.532779  1.469359  1.282175  0.063420"
      ]
     },
     "execution_count": 127,
     "metadata": {},
     "output_type": "execute_result"
    }
   ],
   "source": [
    "df # But the change is not Permanent"
   ]
  },
  {
   "cell_type": "code",
   "execution_count": 128,
   "id": "35a7c36f-62a5-427e-a9a3-5418ce09ea78",
   "metadata": {},
   "outputs": [
    {
     "data": {
      "text/html": [
       "<div>\n",
       "<style scoped>\n",
       "    .dataframe tbody tr th:only-of-type {\n",
       "        vertical-align: middle;\n",
       "    }\n",
       "\n",
       "    .dataframe tbody tr th {\n",
       "        vertical-align: top;\n",
       "    }\n",
       "\n",
       "    .dataframe thead th {\n",
       "        text-align: right;\n",
       "    }\n",
       "</style>\n",
       "<table border=\"1\" class=\"dataframe\">\n",
       "  <thead>\n",
       "    <tr style=\"text-align: right;\">\n",
       "      <th></th>\n",
       "      <th>X</th>\n",
       "      <th>Y</th>\n",
       "      <th>Z</th>\n",
       "      <th>SUM</th>\n",
       "      <th>SUB</th>\n",
       "    </tr>\n",
       "  </thead>\n",
       "  <tbody>\n",
       "    <tr>\n",
       "      <th>B</th>\n",
       "      <td>0.313068</td>\n",
       "      <td>-0.854096</td>\n",
       "      <td>-2.552990</td>\n",
       "      <td>-2.239922</td>\n",
       "      <td>1.698894</td>\n",
       "    </tr>\n",
       "    <tr>\n",
       "      <th>C</th>\n",
       "      <td>0.653619</td>\n",
       "      <td>0.864436</td>\n",
       "      <td>-0.742165</td>\n",
       "      <td>-0.088546</td>\n",
       "      <td>1.606601</td>\n",
       "    </tr>\n",
       "    <tr>\n",
       "      <th>D</th>\n",
       "      <td>2.269755</td>\n",
       "      <td>-1.454366</td>\n",
       "      <td>0.045759</td>\n",
       "      <td>2.315513</td>\n",
       "      <td>-1.500124</td>\n",
       "    </tr>\n",
       "    <tr>\n",
       "      <th>E</th>\n",
       "      <td>-0.187184</td>\n",
       "      <td>1.532779</td>\n",
       "      <td>1.469359</td>\n",
       "      <td>1.282175</td>\n",
       "      <td>0.063420</td>\n",
       "    </tr>\n",
       "  </tbody>\n",
       "</table>\n",
       "</div>"
      ],
      "text/plain": [
       "          X         Y         Z       SUM       SUB\n",
       "B  0.313068 -0.854096 -2.552990 -2.239922  1.698894\n",
       "C  0.653619  0.864436 -0.742165 -0.088546  1.606601\n",
       "D  2.269755 -1.454366  0.045759  2.315513 -1.500124\n",
       "E -0.187184  1.532779  1.469359  1.282175  0.063420"
      ]
     },
     "execution_count": 128,
     "metadata": {},
     "output_type": "execute_result"
    }
   ],
   "source": [
    "df.drop('A') # To remove a ROW, by default the AXIS is 1"
   ]
  },
  {
   "cell_type": "code",
   "execution_count": 129,
   "id": "c9d35348-904a-4aaf-9842-3eff77b0886b",
   "metadata": {},
   "outputs": [
    {
     "data": {
      "text/html": [
       "<div>\n",
       "<style scoped>\n",
       "    .dataframe tbody tr th:only-of-type {\n",
       "        vertical-align: middle;\n",
       "    }\n",
       "\n",
       "    .dataframe tbody tr th {\n",
       "        vertical-align: top;\n",
       "    }\n",
       "\n",
       "    .dataframe thead th {\n",
       "        text-align: right;\n",
       "    }\n",
       "</style>\n",
       "<table border=\"1\" class=\"dataframe\">\n",
       "  <thead>\n",
       "    <tr style=\"text-align: right;\">\n",
       "      <th></th>\n",
       "      <th>X</th>\n",
       "      <th>Y</th>\n",
       "      <th>Z</th>\n",
       "      <th>SUM</th>\n",
       "      <th>SUB</th>\n",
       "    </tr>\n",
       "  </thead>\n",
       "  <tbody>\n",
       "    <tr>\n",
       "      <th>A</th>\n",
       "      <td>0.333674</td>\n",
       "      <td>1.494079</td>\n",
       "      <td>-0.205158</td>\n",
       "      <td>0.128516</td>\n",
       "      <td>1.699237</td>\n",
       "    </tr>\n",
       "    <tr>\n",
       "      <th>B</th>\n",
       "      <td>0.313068</td>\n",
       "      <td>-0.854096</td>\n",
       "      <td>-2.552990</td>\n",
       "      <td>-2.239922</td>\n",
       "      <td>1.698894</td>\n",
       "    </tr>\n",
       "    <tr>\n",
       "      <th>C</th>\n",
       "      <td>0.653619</td>\n",
       "      <td>0.864436</td>\n",
       "      <td>-0.742165</td>\n",
       "      <td>-0.088546</td>\n",
       "      <td>1.606601</td>\n",
       "    </tr>\n",
       "    <tr>\n",
       "      <th>D</th>\n",
       "      <td>2.269755</td>\n",
       "      <td>-1.454366</td>\n",
       "      <td>0.045759</td>\n",
       "      <td>2.315513</td>\n",
       "      <td>-1.500124</td>\n",
       "    </tr>\n",
       "    <tr>\n",
       "      <th>E</th>\n",
       "      <td>-0.187184</td>\n",
       "      <td>1.532779</td>\n",
       "      <td>1.469359</td>\n",
       "      <td>1.282175</td>\n",
       "      <td>0.063420</td>\n",
       "    </tr>\n",
       "  </tbody>\n",
       "</table>\n",
       "</div>"
      ],
      "text/plain": [
       "          X         Y         Z       SUM       SUB\n",
       "A  0.333674  1.494079 -0.205158  0.128516  1.699237\n",
       "B  0.313068 -0.854096 -2.552990 -2.239922  1.698894\n",
       "C  0.653619  0.864436 -0.742165 -0.088546  1.606601\n",
       "D  2.269755 -1.454366  0.045759  2.315513 -1.500124\n",
       "E -0.187184  1.532779  1.469359  1.282175  0.063420"
      ]
     },
     "execution_count": 129,
     "metadata": {},
     "output_type": "execute_result"
    }
   ],
   "source": [
    "df # Change is not Permanent"
   ]
  },
  {
   "cell_type": "markdown",
   "id": "a0580eec-d4b5-4a7a-8290-10108cdb756c",
   "metadata": {},
   "source": [
    "## Reason behind it is not affecting the Data Frame as by default the inplace=False\n",
    "## The reason Pandas does that because we should not accidentally loose information"
   ]
  },
  {
   "cell_type": "code",
   "execution_count": 130,
   "id": "e35df868-cc94-462d-b045-67c1bf90778a",
   "metadata": {},
   "outputs": [
    {
     "data": {
      "text/html": [
       "<div>\n",
       "<style scoped>\n",
       "    .dataframe tbody tr th:only-of-type {\n",
       "        vertical-align: middle;\n",
       "    }\n",
       "\n",
       "    .dataframe tbody tr th {\n",
       "        vertical-align: top;\n",
       "    }\n",
       "\n",
       "    .dataframe thead th {\n",
       "        text-align: right;\n",
       "    }\n",
       "</style>\n",
       "<table border=\"1\" class=\"dataframe\">\n",
       "  <thead>\n",
       "    <tr style=\"text-align: right;\">\n",
       "      <th></th>\n",
       "      <th>X</th>\n",
       "      <th>Y</th>\n",
       "      <th>Z</th>\n",
       "      <th>SUM</th>\n",
       "      <th>SUB</th>\n",
       "    </tr>\n",
       "  </thead>\n",
       "  <tbody>\n",
       "    <tr>\n",
       "      <th>A</th>\n",
       "      <td>0.333674</td>\n",
       "      <td>1.494079</td>\n",
       "      <td>-0.205158</td>\n",
       "      <td>0.128516</td>\n",
       "      <td>1.699237</td>\n",
       "    </tr>\n",
       "    <tr>\n",
       "      <th>B</th>\n",
       "      <td>0.313068</td>\n",
       "      <td>-0.854096</td>\n",
       "      <td>-2.552990</td>\n",
       "      <td>-2.239922</td>\n",
       "      <td>1.698894</td>\n",
       "    </tr>\n",
       "    <tr>\n",
       "      <th>C</th>\n",
       "      <td>0.653619</td>\n",
       "      <td>0.864436</td>\n",
       "      <td>-0.742165</td>\n",
       "      <td>-0.088546</td>\n",
       "      <td>1.606601</td>\n",
       "    </tr>\n",
       "    <tr>\n",
       "      <th>D</th>\n",
       "      <td>2.269755</td>\n",
       "      <td>-1.454366</td>\n",
       "      <td>0.045759</td>\n",
       "      <td>2.315513</td>\n",
       "      <td>-1.500124</td>\n",
       "    </tr>\n",
       "    <tr>\n",
       "      <th>E</th>\n",
       "      <td>-0.187184</td>\n",
       "      <td>1.532779</td>\n",
       "      <td>1.469359</td>\n",
       "      <td>1.282175</td>\n",
       "      <td>0.063420</td>\n",
       "    </tr>\n",
       "  </tbody>\n",
       "</table>\n",
       "</div>"
      ],
      "text/plain": [
       "          X         Y         Z       SUM       SUB\n",
       "A  0.333674  1.494079 -0.205158  0.128516  1.699237\n",
       "B  0.313068 -0.854096 -2.552990 -2.239922  1.698894\n",
       "C  0.653619  0.864436 -0.742165 -0.088546  1.606601\n",
       "D  2.269755 -1.454366  0.045759  2.315513 -1.500124\n",
       "E -0.187184  1.532779  1.469359  1.282175  0.063420"
      ]
     },
     "execution_count": 130,
     "metadata": {},
     "output_type": "execute_result"
    }
   ],
   "source": [
    "df"
   ]
  },
  {
   "cell_type": "code",
   "execution_count": 131,
   "id": "5c0fca07-0845-4e97-9f19-8bdad8d1eb01",
   "metadata": {},
   "outputs": [],
   "source": [
    "df.drop('X',axis=1,inplace=True) # To Remove a Column Permanently"
   ]
  },
  {
   "cell_type": "code",
   "execution_count": 132,
   "id": "13c6cdae-e155-44da-85b0-174a7f9e0317",
   "metadata": {},
   "outputs": [
    {
     "data": {
      "text/html": [
       "<div>\n",
       "<style scoped>\n",
       "    .dataframe tbody tr th:only-of-type {\n",
       "        vertical-align: middle;\n",
       "    }\n",
       "\n",
       "    .dataframe tbody tr th {\n",
       "        vertical-align: top;\n",
       "    }\n",
       "\n",
       "    .dataframe thead th {\n",
       "        text-align: right;\n",
       "    }\n",
       "</style>\n",
       "<table border=\"1\" class=\"dataframe\">\n",
       "  <thead>\n",
       "    <tr style=\"text-align: right;\">\n",
       "      <th></th>\n",
       "      <th>Y</th>\n",
       "      <th>Z</th>\n",
       "      <th>SUM</th>\n",
       "      <th>SUB</th>\n",
       "    </tr>\n",
       "  </thead>\n",
       "  <tbody>\n",
       "    <tr>\n",
       "      <th>A</th>\n",
       "      <td>1.494079</td>\n",
       "      <td>-0.205158</td>\n",
       "      <td>0.128516</td>\n",
       "      <td>1.699237</td>\n",
       "    </tr>\n",
       "    <tr>\n",
       "      <th>B</th>\n",
       "      <td>-0.854096</td>\n",
       "      <td>-2.552990</td>\n",
       "      <td>-2.239922</td>\n",
       "      <td>1.698894</td>\n",
       "    </tr>\n",
       "    <tr>\n",
       "      <th>C</th>\n",
       "      <td>0.864436</td>\n",
       "      <td>-0.742165</td>\n",
       "      <td>-0.088546</td>\n",
       "      <td>1.606601</td>\n",
       "    </tr>\n",
       "    <tr>\n",
       "      <th>D</th>\n",
       "      <td>-1.454366</td>\n",
       "      <td>0.045759</td>\n",
       "      <td>2.315513</td>\n",
       "      <td>-1.500124</td>\n",
       "    </tr>\n",
       "    <tr>\n",
       "      <th>E</th>\n",
       "      <td>1.532779</td>\n",
       "      <td>1.469359</td>\n",
       "      <td>1.282175</td>\n",
       "      <td>0.063420</td>\n",
       "    </tr>\n",
       "  </tbody>\n",
       "</table>\n",
       "</div>"
      ],
      "text/plain": [
       "          Y         Z       SUM       SUB\n",
       "A  1.494079 -0.205158  0.128516  1.699237\n",
       "B -0.854096 -2.552990 -2.239922  1.698894\n",
       "C  0.864436 -0.742165 -0.088546  1.606601\n",
       "D -1.454366  0.045759  2.315513 -1.500124\n",
       "E  1.532779  1.469359  1.282175  0.063420"
      ]
     },
     "execution_count": 132,
     "metadata": {},
     "output_type": "execute_result"
    }
   ],
   "source": [
    "df"
   ]
  },
  {
   "cell_type": "code",
   "execution_count": 133,
   "id": "22219098-2738-438b-bfac-50f0fe6de76c",
   "metadata": {},
   "outputs": [],
   "source": [
    "df.drop('A',inplace=True)"
   ]
  },
  {
   "cell_type": "code",
   "execution_count": 135,
   "id": "72ce046c-8fca-43f2-bbf1-970221d2e1cc",
   "metadata": {},
   "outputs": [
    {
     "data": {
      "text/html": [
       "<div>\n",
       "<style scoped>\n",
       "    .dataframe tbody tr th:only-of-type {\n",
       "        vertical-align: middle;\n",
       "    }\n",
       "\n",
       "    .dataframe tbody tr th {\n",
       "        vertical-align: top;\n",
       "    }\n",
       "\n",
       "    .dataframe thead th {\n",
       "        text-align: right;\n",
       "    }\n",
       "</style>\n",
       "<table border=\"1\" class=\"dataframe\">\n",
       "  <thead>\n",
       "    <tr style=\"text-align: right;\">\n",
       "      <th></th>\n",
       "      <th>Y</th>\n",
       "      <th>Z</th>\n",
       "      <th>SUM</th>\n",
       "      <th>SUB</th>\n",
       "    </tr>\n",
       "  </thead>\n",
       "  <tbody>\n",
       "    <tr>\n",
       "      <th>B</th>\n",
       "      <td>-0.854096</td>\n",
       "      <td>-2.552990</td>\n",
       "      <td>-2.239922</td>\n",
       "      <td>1.698894</td>\n",
       "    </tr>\n",
       "    <tr>\n",
       "      <th>C</th>\n",
       "      <td>0.864436</td>\n",
       "      <td>-0.742165</td>\n",
       "      <td>-0.088546</td>\n",
       "      <td>1.606601</td>\n",
       "    </tr>\n",
       "    <tr>\n",
       "      <th>D</th>\n",
       "      <td>-1.454366</td>\n",
       "      <td>0.045759</td>\n",
       "      <td>2.315513</td>\n",
       "      <td>-1.500124</td>\n",
       "    </tr>\n",
       "    <tr>\n",
       "      <th>E</th>\n",
       "      <td>1.532779</td>\n",
       "      <td>1.469359</td>\n",
       "      <td>1.282175</td>\n",
       "      <td>0.063420</td>\n",
       "    </tr>\n",
       "  </tbody>\n",
       "</table>\n",
       "</div>"
      ],
      "text/plain": [
       "          Y         Z       SUM       SUB\n",
       "B -0.854096 -2.552990 -2.239922  1.698894\n",
       "C  0.864436 -0.742165 -0.088546  1.606601\n",
       "D -1.454366  0.045759  2.315513 -1.500124\n",
       "E  1.532779  1.469359  1.282175  0.063420"
      ]
     },
     "execution_count": 135,
     "metadata": {},
     "output_type": "execute_result"
    }
   ],
   "source": [
    "df # Row deleted Permanently"
   ]
  },
  {
   "cell_type": "code",
   "execution_count": 138,
   "id": "7a69b4f0-4593-45b0-b16b-bdb3f655e4f0",
   "metadata": {},
   "outputs": [
    {
     "data": {
      "text/plain": [
       "(4, 4)"
      ]
     },
     "execution_count": 138,
     "metadata": {},
     "output_type": "execute_result"
    }
   ],
   "source": [
    "df.shape # To check no of Rows and Cloumns"
   ]
  },
  {
   "cell_type": "markdown",
   "id": "ee466337-5d50-4372-bc54-71e7fec590f4",
   "metadata": {},
   "source": [
    "## Selecting Columns\n",
    "# Single Column"
   ]
  },
  {
   "cell_type": "code",
   "execution_count": 139,
   "id": "621d6b90-3263-49bd-9cc3-b55f3e1dcb45",
   "metadata": {},
   "outputs": [
    {
     "data": {
      "text/plain": [
       "B   -0.854096\n",
       "C    0.864436\n",
       "D   -1.454366\n",
       "E    1.532779\n",
       "Name: Y, dtype: float64"
      ]
     },
     "execution_count": 139,
     "metadata": {},
     "output_type": "execute_result"
    }
   ],
   "source": [
    "df['Y']"
   ]
  },
  {
   "cell_type": "markdown",
   "id": "afab4e84-c58d-423c-baef-195e889d2df7",
   "metadata": {},
   "source": [
    "## Multiple Column"
   ]
  },
  {
   "cell_type": "code",
   "execution_count": 140,
   "id": "5b2d5554-3cd9-4eb5-8789-ac4f6a5c69f6",
   "metadata": {},
   "outputs": [
    {
     "data": {
      "text/html": [
       "<div>\n",
       "<style scoped>\n",
       "    .dataframe tbody tr th:only-of-type {\n",
       "        vertical-align: middle;\n",
       "    }\n",
       "\n",
       "    .dataframe tbody tr th {\n",
       "        vertical-align: top;\n",
       "    }\n",
       "\n",
       "    .dataframe thead th {\n",
       "        text-align: right;\n",
       "    }\n",
       "</style>\n",
       "<table border=\"1\" class=\"dataframe\">\n",
       "  <thead>\n",
       "    <tr style=\"text-align: right;\">\n",
       "      <th></th>\n",
       "      <th>Y</th>\n",
       "      <th>Z</th>\n",
       "    </tr>\n",
       "  </thead>\n",
       "  <tbody>\n",
       "    <tr>\n",
       "      <th>B</th>\n",
       "      <td>-0.854096</td>\n",
       "      <td>-2.552990</td>\n",
       "    </tr>\n",
       "    <tr>\n",
       "      <th>C</th>\n",
       "      <td>0.864436</td>\n",
       "      <td>-0.742165</td>\n",
       "    </tr>\n",
       "    <tr>\n",
       "      <th>D</th>\n",
       "      <td>-1.454366</td>\n",
       "      <td>0.045759</td>\n",
       "    </tr>\n",
       "    <tr>\n",
       "      <th>E</th>\n",
       "      <td>1.532779</td>\n",
       "      <td>1.469359</td>\n",
       "    </tr>\n",
       "  </tbody>\n",
       "</table>\n",
       "</div>"
      ],
      "text/plain": [
       "          Y         Z\n",
       "B -0.854096 -2.552990\n",
       "C  0.864436 -0.742165\n",
       "D -1.454366  0.045759\n",
       "E  1.532779  1.469359"
      ]
     },
     "execution_count": 140,
     "metadata": {},
     "output_type": "execute_result"
    }
   ],
   "source": [
    "df[['Y','Z']]"
   ]
  },
  {
   "cell_type": "markdown",
   "id": "86df7d2c-88e1-4513-8a9d-d80308366c24",
   "metadata": {},
   "source": [
    "## Selecting Rows"
   ]
  },
  {
   "cell_type": "code",
   "execution_count": 146,
   "id": "04da90a0-b2c5-4e5c-8be3-02484848768e",
   "metadata": {},
   "outputs": [
    {
     "data": {
      "text/plain": [
       "Y     -0.854096\n",
       "Z     -2.552990\n",
       "SUM   -2.239922\n",
       "SUB    1.698894\n",
       "Name: B, dtype: float64"
      ]
     },
     "execution_count": 146,
     "metadata": {},
     "output_type": "execute_result"
    }
   ],
   "source": [
    "df.loc['B'] # To Selct a Row we have to use loc method"
   ]
  },
  {
   "cell_type": "code",
   "execution_count": 147,
   "id": "854881d5-cdad-473c-91f2-6b4c10ccf45b",
   "metadata": {},
   "outputs": [
    {
     "data": {
      "text/plain": [
       "pandas.core.series.Series"
      ]
     },
     "execution_count": 147,
     "metadata": {},
     "output_type": "execute_result"
    }
   ],
   "source": [
    "type(df.loc['B']) # Rows are also Series"
   ]
  },
  {
   "cell_type": "markdown",
   "id": "a8336ce7-9453-42aa-9038-ab46ba732ee4",
   "metadata": {},
   "source": [
    "## Another way to select the Row (Index Based Location)"
   ]
  },
  {
   "cell_type": "code",
   "execution_count": 148,
   "id": "ae4580c9-1033-4f14-9a0f-3897d3ed8413",
   "metadata": {},
   "outputs": [
    {
     "data": {
      "text/html": [
       "<div>\n",
       "<style scoped>\n",
       "    .dataframe tbody tr th:only-of-type {\n",
       "        vertical-align: middle;\n",
       "    }\n",
       "\n",
       "    .dataframe tbody tr th {\n",
       "        vertical-align: top;\n",
       "    }\n",
       "\n",
       "    .dataframe thead th {\n",
       "        text-align: right;\n",
       "    }\n",
       "</style>\n",
       "<table border=\"1\" class=\"dataframe\">\n",
       "  <thead>\n",
       "    <tr style=\"text-align: right;\">\n",
       "      <th></th>\n",
       "      <th>Y</th>\n",
       "      <th>Z</th>\n",
       "      <th>SUM</th>\n",
       "      <th>SUB</th>\n",
       "    </tr>\n",
       "  </thead>\n",
       "  <tbody>\n",
       "    <tr>\n",
       "      <th>B</th>\n",
       "      <td>-0.854096</td>\n",
       "      <td>-2.552990</td>\n",
       "      <td>-2.239922</td>\n",
       "      <td>1.698894</td>\n",
       "    </tr>\n",
       "    <tr>\n",
       "      <th>C</th>\n",
       "      <td>0.864436</td>\n",
       "      <td>-0.742165</td>\n",
       "      <td>-0.088546</td>\n",
       "      <td>1.606601</td>\n",
       "    </tr>\n",
       "    <tr>\n",
       "      <th>D</th>\n",
       "      <td>-1.454366</td>\n",
       "      <td>0.045759</td>\n",
       "      <td>2.315513</td>\n",
       "      <td>-1.500124</td>\n",
       "    </tr>\n",
       "    <tr>\n",
       "      <th>E</th>\n",
       "      <td>1.532779</td>\n",
       "      <td>1.469359</td>\n",
       "      <td>1.282175</td>\n",
       "      <td>0.063420</td>\n",
       "    </tr>\n",
       "  </tbody>\n",
       "</table>\n",
       "</div>"
      ],
      "text/plain": [
       "          Y         Z       SUM       SUB\n",
       "B -0.854096 -2.552990 -2.239922  1.698894\n",
       "C  0.864436 -0.742165 -0.088546  1.606601\n",
       "D -1.454366  0.045759  2.315513 -1.500124\n",
       "E  1.532779  1.469359  1.282175  0.063420"
      ]
     },
     "execution_count": 148,
     "metadata": {},
     "output_type": "execute_result"
    }
   ],
   "source": [
    "df"
   ]
  },
  {
   "cell_type": "code",
   "execution_count": 150,
   "id": "b0f2ed2f-fc0d-4391-b96c-35ae8a51c675",
   "metadata": {},
   "outputs": [
    {
     "data": {
      "text/plain": [
       "Y     -1.454366\n",
       "Z      0.045759\n",
       "SUM    2.315513\n",
       "SUB   -1.500124\n",
       "Name: D, dtype: float64"
      ]
     },
     "execution_count": 150,
     "metadata": {},
     "output_type": "execute_result"
    }
   ],
   "source": [
    "df.iloc[2]"
   ]
  },
  {
   "cell_type": "code",
   "execution_count": 152,
   "id": "321f1ea9-a543-409b-a901-4b290feb7496",
   "metadata": {},
   "outputs": [
    {
     "data": {
      "text/plain": [
       "pandas.core.series.Series"
      ]
     },
     "execution_count": 152,
     "metadata": {},
     "output_type": "execute_result"
    }
   ],
   "source": [
    "type(df.iloc[2])  # It is also a Series"
   ]
  },
  {
   "cell_type": "markdown",
   "id": "68b30a18-a326-40d9-b460-ef7e097fe8dd",
   "metadata": {},
   "source": [
    "## If we need to get the value of a ROW and A Column then"
   ]
  },
  {
   "cell_type": "code",
   "execution_count": 153,
   "id": "84dc037f-5e4f-426c-8664-be144d152bfc",
   "metadata": {},
   "outputs": [
    {
     "data": {
      "text/html": [
       "<div>\n",
       "<style scoped>\n",
       "    .dataframe tbody tr th:only-of-type {\n",
       "        vertical-align: middle;\n",
       "    }\n",
       "\n",
       "    .dataframe tbody tr th {\n",
       "        vertical-align: top;\n",
       "    }\n",
       "\n",
       "    .dataframe thead th {\n",
       "        text-align: right;\n",
       "    }\n",
       "</style>\n",
       "<table border=\"1\" class=\"dataframe\">\n",
       "  <thead>\n",
       "    <tr style=\"text-align: right;\">\n",
       "      <th></th>\n",
       "      <th>Y</th>\n",
       "      <th>Z</th>\n",
       "      <th>SUM</th>\n",
       "      <th>SUB</th>\n",
       "    </tr>\n",
       "  </thead>\n",
       "  <tbody>\n",
       "    <tr>\n",
       "      <th>B</th>\n",
       "      <td>-0.854096</td>\n",
       "      <td>-2.552990</td>\n",
       "      <td>-2.239922</td>\n",
       "      <td>1.698894</td>\n",
       "    </tr>\n",
       "    <tr>\n",
       "      <th>C</th>\n",
       "      <td>0.864436</td>\n",
       "      <td>-0.742165</td>\n",
       "      <td>-0.088546</td>\n",
       "      <td>1.606601</td>\n",
       "    </tr>\n",
       "    <tr>\n",
       "      <th>D</th>\n",
       "      <td>-1.454366</td>\n",
       "      <td>0.045759</td>\n",
       "      <td>2.315513</td>\n",
       "      <td>-1.500124</td>\n",
       "    </tr>\n",
       "    <tr>\n",
       "      <th>E</th>\n",
       "      <td>1.532779</td>\n",
       "      <td>1.469359</td>\n",
       "      <td>1.282175</td>\n",
       "      <td>0.063420</td>\n",
       "    </tr>\n",
       "  </tbody>\n",
       "</table>\n",
       "</div>"
      ],
      "text/plain": [
       "          Y         Z       SUM       SUB\n",
       "B -0.854096 -2.552990 -2.239922  1.698894\n",
       "C  0.864436 -0.742165 -0.088546  1.606601\n",
       "D -1.454366  0.045759  2.315513 -1.500124\n",
       "E  1.532779  1.469359  1.282175  0.063420"
      ]
     },
     "execution_count": 153,
     "metadata": {},
     "output_type": "execute_result"
    }
   ],
   "source": [
    "df"
   ]
  },
  {
   "cell_type": "code",
   "execution_count": 154,
   "id": "3d3491b3-cd80-4ead-ad34-20e4e69a16e5",
   "metadata": {},
   "outputs": [
    {
     "data": {
      "text/plain": [
       "-0.08854642496608134"
      ]
     },
     "execution_count": 154,
     "metadata": {},
     "output_type": "execute_result"
    }
   ],
   "source": [
    "df.loc['C','SUM'] # df.loc(ROW, column)"
   ]
  },
  {
   "cell_type": "markdown",
   "id": "a034f0cb-112c-481c-901c-bb4fe5a7e6e3",
   "metadata": {},
   "source": [
    "## To get multiple values"
   ]
  },
  {
   "cell_type": "code",
   "execution_count": 155,
   "id": "7242cab2-4a60-4723-8345-b5d5566308eb",
   "metadata": {},
   "outputs": [
    {
     "data": {
      "text/html": [
       "<div>\n",
       "<style scoped>\n",
       "    .dataframe tbody tr th:only-of-type {\n",
       "        vertical-align: middle;\n",
       "    }\n",
       "\n",
       "    .dataframe tbody tr th {\n",
       "        vertical-align: top;\n",
       "    }\n",
       "\n",
       "    .dataframe thead th {\n",
       "        text-align: right;\n",
       "    }\n",
       "</style>\n",
       "<table border=\"1\" class=\"dataframe\">\n",
       "  <thead>\n",
       "    <tr style=\"text-align: right;\">\n",
       "      <th></th>\n",
       "      <th>Y</th>\n",
       "      <th>Z</th>\n",
       "      <th>SUM</th>\n",
       "      <th>SUB</th>\n",
       "    </tr>\n",
       "  </thead>\n",
       "  <tbody>\n",
       "    <tr>\n",
       "      <th>B</th>\n",
       "      <td>-0.854096</td>\n",
       "      <td>-2.552990</td>\n",
       "      <td>-2.239922</td>\n",
       "      <td>1.698894</td>\n",
       "    </tr>\n",
       "    <tr>\n",
       "      <th>C</th>\n",
       "      <td>0.864436</td>\n",
       "      <td>-0.742165</td>\n",
       "      <td>-0.088546</td>\n",
       "      <td>1.606601</td>\n",
       "    </tr>\n",
       "    <tr>\n",
       "      <th>D</th>\n",
       "      <td>-1.454366</td>\n",
       "      <td>0.045759</td>\n",
       "      <td>2.315513</td>\n",
       "      <td>-1.500124</td>\n",
       "    </tr>\n",
       "    <tr>\n",
       "      <th>E</th>\n",
       "      <td>1.532779</td>\n",
       "      <td>1.469359</td>\n",
       "      <td>1.282175</td>\n",
       "      <td>0.063420</td>\n",
       "    </tr>\n",
       "  </tbody>\n",
       "</table>\n",
       "</div>"
      ],
      "text/plain": [
       "          Y         Z       SUM       SUB\n",
       "B -0.854096 -2.552990 -2.239922  1.698894\n",
       "C  0.864436 -0.742165 -0.088546  1.606601\n",
       "D -1.454366  0.045759  2.315513 -1.500124\n",
       "E  1.532779  1.469359  1.282175  0.063420"
      ]
     },
     "execution_count": 155,
     "metadata": {},
     "output_type": "execute_result"
    }
   ],
   "source": [
    "df"
   ]
  },
  {
   "cell_type": "code",
   "execution_count": 158,
   "id": "ef53e6af-4b40-47bc-9680-a604aa68b367",
   "metadata": {},
   "outputs": [
    {
     "data": {
      "text/html": [
       "<div>\n",
       "<style scoped>\n",
       "    .dataframe tbody tr th:only-of-type {\n",
       "        vertical-align: middle;\n",
       "    }\n",
       "\n",
       "    .dataframe tbody tr th {\n",
       "        vertical-align: top;\n",
       "    }\n",
       "\n",
       "    .dataframe thead th {\n",
       "        text-align: right;\n",
       "    }\n",
       "</style>\n",
       "<table border=\"1\" class=\"dataframe\">\n",
       "  <thead>\n",
       "    <tr style=\"text-align: right;\">\n",
       "      <th></th>\n",
       "      <th>Y</th>\n",
       "      <th>SUB</th>\n",
       "    </tr>\n",
       "  </thead>\n",
       "  <tbody>\n",
       "    <tr>\n",
       "      <th>D</th>\n",
       "      <td>-1.454366</td>\n",
       "      <td>-1.500124</td>\n",
       "    </tr>\n",
       "    <tr>\n",
       "      <th>E</th>\n",
       "      <td>1.532779</td>\n",
       "      <td>0.063420</td>\n",
       "    </tr>\n",
       "  </tbody>\n",
       "</table>\n",
       "</div>"
      ],
      "text/plain": [
       "          Y       SUB\n",
       "D -1.454366 -1.500124\n",
       "E  1.532779  0.063420"
      ]
     },
     "execution_count": 158,
     "metadata": {},
     "output_type": "execute_result"
    }
   ],
   "source": [
    "df.loc[['D','E'], ['Y','SUB']] # Which rows, Which Columns"
   ]
  },
  {
   "cell_type": "code",
   "execution_count": null,
   "id": "caa5581b-2334-40eb-8384-27db076cbf41",
   "metadata": {},
   "outputs": [],
   "source": []
  },
  {
   "cell_type": "code",
   "execution_count": null,
   "id": "6961061c-14cf-486d-8402-6261704f9888",
   "metadata": {},
   "outputs": [],
   "source": []
  }
 ],
 "metadata": {
  "kernelspec": {
   "display_name": "Python 3 (ipykernel)",
   "language": "python",
   "name": "python3"
  },
  "language_info": {
   "codemirror_mode": {
    "name": "ipython",
    "version": 3
   },
   "file_extension": ".py",
   "mimetype": "text/x-python",
   "name": "python",
   "nbconvert_exporter": "python",
   "pygments_lexer": "ipython3",
   "version": "3.10.6"
  }
 },
 "nbformat": 4,
 "nbformat_minor": 5
}
