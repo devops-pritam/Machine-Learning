{
 "cells": [
  {
   "cell_type": "markdown",
   "id": "b3c9e004-9862-4cb1-99c3-4ef69565e21f",
   "metadata": {},
   "source": [
    "# Operators"
   ]
  },
  {
   "cell_type": "code",
   "execution_count": 5,
   "id": "971c4049-229d-4e8b-b133-d5e42552691b",
   "metadata": {},
   "outputs": [],
   "source": [
    "a = 2\n",
    "b = 5\n",
    "c = 'Pritam'\n",
    "d = -3.7"
   ]
  },
  {
   "cell_type": "code",
   "execution_count": 7,
   "id": "901574c7-ff79-41e4-8eaf-db07b64df966",
   "metadata": {},
   "outputs": [
    {
     "name": "stdout",
     "output_type": "stream",
     "text": [
      "7\n"
     ]
    },
    {
     "data": {
      "text/plain": [
       "int"
      ]
     },
     "execution_count": 7,
     "metadata": {},
     "output_type": "execute_result"
    }
   ],
   "source": [
    "sumOfaAndb = a+b\n",
    "print(sumOfaAndb)\n",
    "type(sumOfaAndb)"
   ]
  },
  {
   "cell_type": "code",
   "execution_count": 8,
   "id": "e1149406-0c01-468b-b2f7-15555b3ebca7",
   "metadata": {},
   "outputs": [
    {
     "data": {
      "text/plain": [
       "float"
      ]
     },
     "execution_count": 8,
     "metadata": {},
     "output_type": "execute_result"
    }
   ],
   "source": [
    "type(a+d)"
   ]
  },
  {
   "cell_type": "code",
   "execution_count": 12,
   "id": "5f1491ce-f6e9-44ae-8fb0-660fc9ed331c",
   "metadata": {},
   "outputs": [
    {
     "name": "stdout",
     "output_type": "stream",
     "text": [
      "-2.4565000000000006\n"
     ]
    },
    {
     "data": {
      "text/plain": [
       "float"
      ]
     },
     "execution_count": 12,
     "metadata": {},
     "output_type": "execute_result"
    }
   ],
   "source": [
    "v = ((a+d)**3)/2\n",
    "print(v)\n",
    "type(v)"
   ]
  },
  {
   "cell_type": "code",
   "execution_count": 13,
   "id": "e2a13f33-afdf-41b2-8c27-73a8455fcbfe",
   "metadata": {},
   "outputs": [],
   "source": [
    "x = 10\n",
    "y = 3"
   ]
  },
  {
   "cell_type": "code",
   "execution_count": 15,
   "id": "fc413af0-ae26-4f64-9cb0-0d0aad7cdbfe",
   "metadata": {},
   "outputs": [
    {
     "name": "stdout",
     "output_type": "stream",
     "text": [
      "3\n",
      "3.3333333333333335\n",
      "1\n"
     ]
    }
   ],
   "source": [
    "p = (x//y)\n",
    "q = (x/y)\n",
    "r = (x%y)\n",
    "print(p)\n",
    "print(q)\n",
    "print(r)"
   ]
  },
  {
   "cell_type": "code",
   "execution_count": null,
   "id": "6e9d280e-a661-48e0-ab43-8f5d96d33967",
   "metadata": {},
   "outputs": [],
   "source": []
  }
 ],
 "metadata": {
  "kernelspec": {
   "display_name": "Python 3 (ipykernel)",
   "language": "python",
   "name": "python3"
  },
  "language_info": {
   "codemirror_mode": {
    "name": "ipython",
    "version": 3
   },
   "file_extension": ".py",
   "mimetype": "text/x-python",
   "name": "python",
   "nbconvert_exporter": "python",
   "pygments_lexer": "ipython3",
   "version": "3.10.6"
  }
 },
 "nbformat": 4,
 "nbformat_minor": 5
}
