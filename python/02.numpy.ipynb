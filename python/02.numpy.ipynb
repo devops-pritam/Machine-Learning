{
 "cells": [
  {
   "cell_type": "code",
   "execution_count": 1,
   "id": "7712fac3-014e-438f-82f2-8fb8bf14c56e",
   "metadata": {},
   "outputs": [
    {
     "name": "stdout",
     "output_type": "stream",
     "text": [
      "Requirement already satisfied: numpy in c:\\users\\acer\\appdata\\local\\programs\\python\\python310\\lib\\site-packages (1.23.5)Note: you may need to restart the kernel to use updated packages.\n",
      "\n"
     ]
    }
   ],
   "source": [
    "pip install numpy"
   ]
  },
  {
   "cell_type": "markdown",
   "id": "82a1f41c-d68e-4dec-bf40-d9f4481736fd",
   "metadata": {},
   "source": [
    "## Numpy Array\n",
    "## Python Lists Vs. Arrays\n",
    "### Lists and arrays are two of the most widely used data structures in Python.\n",
    "###  A list in Python is simply a collection of objects. These objects can be integers, floating point numbers, strings, boolean values or even other data structures like dictionaries. \n",
    "### An array, specifically a Python NumPy array, is similar to a Python list. The main difference is that NumPy arrays are much faster and have strict requirements on the homogeneity of the objects. \n",
    "### For example, a NumPy array of strings can only contain strings and no other data types, but a Python list can contain a mixture of strings, numbers, booleans and other objects. Because operations like calculating mean or sum are much faster on NumPy arrays, these data structures are more common in contexts where speed performance is a priority. \r\n",
    "### \r\n",
    "Both lists and NumPy arrays have a wide array of built-in methods for performing a variety of tasks including sorting, finding min/max, truncating, appending, concatenating and much more. "
   ]
  },
  {
   "cell_type": "code",
   "execution_count": 2,
   "id": "366fcc14-010a-4dce-b39f-ed98ced045a4",
   "metadata": {},
   "outputs": [],
   "source": [
    "my_list = [1,2,3]"
   ]
  },
  {
   "cell_type": "code",
   "execution_count": 3,
   "id": "03be9b7a-17a3-4e0f-8e96-9a798e35a999",
   "metadata": {},
   "outputs": [
    {
     "data": {
      "text/plain": [
       "[1, 2, 3]"
      ]
     },
     "execution_count": 3,
     "metadata": {},
     "output_type": "execute_result"
    }
   ],
   "source": [
    "my_list"
   ]
  },
  {
   "cell_type": "markdown",
   "id": "63cd4bc1-4921-4f21-81eb-b7ae6cc9358b",
   "metadata": {},
   "source": [
    "## 1-D Array"
   ]
  },
  {
   "cell_type": "code",
   "execution_count": 4,
   "id": "0c1b28cc-c562-41e7-95d0-04b47ff0617b",
   "metadata": {},
   "outputs": [],
   "source": [
    "import numpy as np\n",
    "arr = np.array(my_list)"
   ]
  },
  {
   "cell_type": "code",
   "execution_count": 5,
   "id": "95599555-fbfe-4bb2-a185-0696341c3611",
   "metadata": {},
   "outputs": [
    {
     "data": {
      "text/plain": [
       "array([1, 2, 3])"
      ]
     },
     "execution_count": 5,
     "metadata": {},
     "output_type": "execute_result"
    }
   ],
   "source": [
    "arr"
   ]
  },
  {
   "cell_type": "markdown",
   "id": "d7ce0917-ff3c-4971-8203-dadb5b4a573a",
   "metadata": {},
   "source": [
    "## 2-D Array"
   ]
  },
  {
   "cell_type": "code",
   "execution_count": 6,
   "id": "86dea581-b86e-47c7-a353-f8794ac7378d",
   "metadata": {},
   "outputs": [
    {
     "data": {
      "text/plain": [
       "array([[1, 2, 3],\n",
       "       [4, 5, 6]])"
      ]
     },
     "execution_count": 6,
     "metadata": {},
     "output_type": "execute_result"
    }
   ],
   "source": [
    "my_mat = [[1,2,3],[4,5,6]]\n",
    "np.array(my_mat)"
   ]
  },
  {
   "cell_type": "markdown",
   "id": "d2451ee2-22d2-43c0-aa80-0d0252029200",
   "metadata": {},
   "source": [
    "## Here we can see two [ / ] that is why we can call it 2-D array"
   ]
  },
  {
   "cell_type": "markdown",
   "id": "6db81e6a-0120-481d-ae8e-0e2ad1e32129",
   "metadata": {},
   "source": [
    "### We can create an Array using arange function , it works same as range function in python List"
   ]
  },
  {
   "cell_type": "code",
   "execution_count": 9,
   "id": "5fc9370e-273d-4bf2-b13c-11d99c157361",
   "metadata": {},
   "outputs": [],
   "source": [
    "a = np.arange(0,8)\n",
    "b = np.arange(0,8,2)"
   ]
  },
  {
   "cell_type": "code",
   "execution_count": 10,
   "id": "c2fae445-a61a-449d-bc01-660bbbaf50d1",
   "metadata": {},
   "outputs": [
    {
     "data": {
      "text/plain": [
       "array([0, 1, 2, 3, 4, 5, 6, 7])"
      ]
     },
     "execution_count": 10,
     "metadata": {},
     "output_type": "execute_result"
    }
   ],
   "source": [
    "a"
   ]
  },
  {
   "cell_type": "code",
   "execution_count": 11,
   "id": "1b2eac8e-00dd-4d5f-93e1-592d0f09babb",
   "metadata": {},
   "outputs": [
    {
     "data": {
      "text/plain": [
       "array([0, 2, 4, 6])"
      ]
     },
     "execution_count": 11,
     "metadata": {},
     "output_type": "execute_result"
    }
   ],
   "source": [
    "b"
   ]
  },
  {
   "cell_type": "code",
   "execution_count": 14,
   "id": "cfc1f13a-ee55-45c5-84d8-a1c23f1df445",
   "metadata": {},
   "outputs": [],
   "source": [
    "c = np.zeros(4)\n",
    "d = np.zeros((2,3))"
   ]
  },
  {
   "cell_type": "code",
   "execution_count": 15,
   "id": "ac19eb23-15a2-484c-badb-46d931cbeb26",
   "metadata": {},
   "outputs": [
    {
     "data": {
      "text/plain": [
       "array([0., 0., 0., 0.])"
      ]
     },
     "execution_count": 15,
     "metadata": {},
     "output_type": "execute_result"
    }
   ],
   "source": [
    "c"
   ]
  },
  {
   "cell_type": "code",
   "execution_count": 16,
   "id": "d4d2957f-ef2d-49a7-9be8-aa6f1b2ecbc0",
   "metadata": {},
   "outputs": [
    {
     "data": {
      "text/plain": [
       "array([[0., 0., 0.],\n",
       "       [0., 0., 0.]])"
      ]
     },
     "execution_count": 16,
     "metadata": {},
     "output_type": "execute_result"
    }
   ],
   "source": [
    "d"
   ]
  },
  {
   "cell_type": "markdown",
   "id": "f2f1f1fc-0229-41ad-b887-babbec383ec6",
   "metadata": {},
   "source": [
    "## Here we can see 2 rows and 3 columns"
   ]
  },
  {
   "cell_type": "code",
   "execution_count": 17,
   "id": "7ade64df-eb9c-4ff8-bd06-034c15016dc9",
   "metadata": {},
   "outputs": [],
   "source": [
    "e = np.ones(3)\n",
    "f = np.ones((2,3))"
   ]
  },
  {
   "cell_type": "code",
   "execution_count": 18,
   "id": "7c6539e0-9cad-44ed-903b-157fbe5c51c0",
   "metadata": {},
   "outputs": [
    {
     "data": {
      "text/plain": [
       "array([1., 1., 1.])"
      ]
     },
     "execution_count": 18,
     "metadata": {},
     "output_type": "execute_result"
    }
   ],
   "source": [
    "e"
   ]
  },
  {
   "cell_type": "code",
   "execution_count": 19,
   "id": "726f091b-b511-469e-84ee-52b5a2782af0",
   "metadata": {},
   "outputs": [
    {
     "data": {
      "text/plain": [
       "array([[1., 1., 1.],\n",
       "       [1., 1., 1.]])"
      ]
     },
     "execution_count": 19,
     "metadata": {},
     "output_type": "execute_result"
    }
   ],
   "source": [
    "f"
   ]
  },
  {
   "cell_type": "markdown",
   "id": "ec73b194-9018-4f66-85ce-fced5a601864",
   "metadata": {},
   "source": [
    "## If we need equally spaced numbers between a range the we can use linspace function"
   ]
  },
  {
   "cell_type": "code",
   "execution_count": 21,
   "id": "988fdca2-1c9b-438a-9a28-e2b682ea6e4d",
   "metadata": {},
   "outputs": [],
   "source": [
    "g = np.linspace(0,6,10)\n",
    "h = np.linspace(0,6,20)"
   ]
  },
  {
   "cell_type": "code",
   "execution_count": 22,
   "id": "3d8d5bec-0ee8-41f1-80fc-5eb6fda31153",
   "metadata": {},
   "outputs": [
    {
     "data": {
      "text/plain": [
       "array([0.        , 0.66666667, 1.33333333, 2.        , 2.66666667,\n",
       "       3.33333333, 4.        , 4.66666667, 5.33333333, 6.        ])"
      ]
     },
     "execution_count": 22,
     "metadata": {},
     "output_type": "execute_result"
    }
   ],
   "source": [
    "g"
   ]
  },
  {
   "cell_type": "code",
   "execution_count": 23,
   "id": "50fad8d5-67ca-4ec9-ab06-cefe76f67528",
   "metadata": {},
   "outputs": [
    {
     "data": {
      "text/plain": [
       "array([0.        , 0.31578947, 0.63157895, 0.94736842, 1.26315789,\n",
       "       1.57894737, 1.89473684, 2.21052632, 2.52631579, 2.84210526,\n",
       "       3.15789474, 3.47368421, 3.78947368, 4.10526316, 4.42105263,\n",
       "       4.73684211, 5.05263158, 5.36842105, 5.68421053, 6.        ])"
      ]
     },
     "execution_count": 23,
     "metadata": {},
     "output_type": "execute_result"
    }
   ],
   "source": [
    "h"
   ]
  },
  {
   "cell_type": "markdown",
   "id": "170a0104-52c2-44b6-a769-0d1a4cb83acb",
   "metadata": {},
   "source": [
    "## The Identity Matrix\n",
    "### An identity matrix, sometimes called a unit matrix, is a diagonal matrix with all its diagonal elements equal to 1 , and zeroes everywhere else.\n",
    "\n",
    "## The letter is usually used to label identity matrices. We can use a subscript to indicate the size of a particular identity matrix"
   ]
  },
  {
   "attachments": {
    "fc0aafe5-340e-4475-8581-b2e2b18a2731.png": {
     "image/png": "[encoded data removed]"
    }
   },
   "cell_type": "markdown",
   "id": "fe171284-31ba-455e-9b08-2556417c915e",
   "metadata": {},
   "source": [
    "![image.png](attachment:fc0aafe5-340e-4475-8581-b2e2b18a2731.png)"
   ]
  },
  {
   "cell_type": "code",
   "execution_count": 24,
   "id": "9b97a837-996a-4c66-bec2-501d824c0fc0",
   "metadata": {},
   "outputs": [],
   "source": [
    "i = np.eye(4)"
   ]
  },
  {
   "cell_type": "code",
   "execution_count": 25,
   "id": "b1357b66-0940-4fd8-bbf9-1ca7bdae2294",
   "metadata": {},
   "outputs": [
    {
     "data": {
      "text/plain": [
       "array([[1., 0., 0., 0.],\n",
       "       [0., 1., 0., 0.],\n",
       "       [0., 0., 1., 0.],\n",
       "       [0., 0., 0., 1.]])"
      ]
     },
     "execution_count": 25,
     "metadata": {},
     "output_type": "execute_result"
    }
   ],
   "source": [
    "i"
   ]
  },
  {
   "cell_type": "markdown",
   "id": "cd0b4c5f-0e6c-4fee-a8fa-ca249664b725",
   "metadata": {},
   "source": [
    "### Create array of Random Numbers"
   ]
  },
  {
   "cell_type": "markdown",
   "id": "831a480f-357a-471f-9d75-8331befd1466",
   "metadata": {},
   "source": [
    "## Uniform Distribution"
   ]
  },
  {
   "cell_type": "markdown",
   "id": "bc151d57-0e56-46b8-8c41-812a79a28c24",
   "metadata": {},
   "source": [
    "### What Is Uniform Distribution?\r",
    "### \n",
    "In statistics, uniform distribution refers to a type of probability distribution in which all outcomes are equally likely. A deck of cards has within it uniform distributions because the likelihood of drawing a heart, a club, a diamond, or a spade is equally likely. A coin also has a uniform distribution because the probability of getting either heads or tails in a coin toss is the same.\r",
    "### \n",
    "\r\n",
    "The uniform distribution can be visualized as a straight horizontal line, so for a coin flip returning a head or tail, both have a probability p = 0.50 and would be depicted by a line from the y-axis at 0.50."
   ]
  },
  {
   "attachments": {
    "d27216d1-989d-4875-8c26-6ed1cc6745d4.png": {
     "image/png": "[encoded data removed]"
    }
   },
   "cell_type": "markdown",
   "id": "11d8b9cb-13d2-40f4-9bf7-81480e533284",
   "metadata": {},
   "source": [
    "![image.png](attachment:d27216d1-989d-4875-8c26-6ed1cc6745d4.png)"
   ]
  },
  {
   "cell_type": "markdown",
   "id": "91fa86cc-b87e-40b5-b0f4-74eb025ed1f5",
   "metadata": {},
   "source": [
    "## In Numpy the rand hels us to distribute the numbers uniformly"
   ]
  },
  {
   "cell_type": "code",
   "execution_count": 26,
   "id": "3672e8ae-08cc-43cb-a801-b98b4528ec30",
   "metadata": {},
   "outputs": [],
   "source": [
    "j = np.random.rand(2)\n",
    "k = np.random.rand(2,2)"
   ]
  },
  {
   "cell_type": "code",
   "execution_count": 27,
   "id": "39e5a42a-40cc-44f7-9642-4267d1b75208",
   "metadata": {},
   "outputs": [
    {
     "data": {
      "text/plain": [
       "array([0.80325989, 0.19078413])"
      ]
     },
     "execution_count": 27,
     "metadata": {},
     "output_type": "execute_result"
    }
   ],
   "source": [
    "j"
   ]
  },
  {
   "cell_type": "code",
   "execution_count": 28,
   "id": "4bb4043c-bb47-408b-9928-de00cd326f02",
   "metadata": {},
   "outputs": [
    {
     "data": {
      "text/plain": [
       "array([[0.27071049, 0.95980091],\n",
       "       [0.41125385, 0.89425532]])"
      ]
     },
     "execution_count": 28,
     "metadata": {},
     "output_type": "execute_result"
    }
   ],
   "source": [
    "k"
   ]
  },
  {
   "cell_type": "markdown",
   "id": "2e696d11-26a2-459d-8a21-57c03bc10b80",
   "metadata": {},
   "source": [
    "## Normal Distribution"
   ]
  },
  {
   "cell_type": "markdown",
   "id": "9860eb37-1bd2-4dcb-9c69-8e2bfe989f76",
   "metadata": {},
   "source": [
    "### What Is a Normal Distribution?\r",
    "### \n",
    "Normal distribution, also known as the Gaussian distribution, is a probability distribution that is symmetric about the mean, showing that data near the mean are more frequent in occurrence than data far from the mean. The normal distribution appears as a \"bell curve\" when graphed\n",
    "\n",
    "### So in this distribution the numbers will be distributed near to 0."
   ]
  },
  {
   "attachments": {
    "1b2ad775-5b2f-4db7-9558-6dcc7b14a188.png": {
     "image/png": "[encoded data removed]"
    }
   },
   "cell_type": "markdown",
   "id": "1e72aa69-80e0-44ea-ae82-fd7bacc65134",
   "metadata": {},
   "source": [
    "![image.png](attachment:1b2ad775-5b2f-4db7-9558-6dcc7b14a188.png)"
   ]
  },
  {
   "cell_type": "markdown",
   "id": "1dbaf57a-d747-4c78-a38b-1097211c9fb0",
   "metadata": {},
   "source": [
    "### So in numpy the normal distribution will be done bu randn"
   ]
  },
  {
   "cell_type": "code",
   "execution_count": 30,
   "id": "bd47a9d2-f1d8-497c-9b8a-cf75e94cda1e",
   "metadata": {},
   "outputs": [],
   "source": [
    "l = np.random.randn(2)\n",
    "m = np.random.randn(2,2)"
   ]
  },
  {
   "cell_type": "code",
   "execution_count": 31,
   "id": "89cd01c1-edb5-45f6-bba7-4941d3da8bcd",
   "metadata": {},
   "outputs": [
    {
     "data": {
      "text/plain": [
       "array([-0.28888002, -0.65587352])"
      ]
     },
     "execution_count": 31,
     "metadata": {},
     "output_type": "execute_result"
    }
   ],
   "source": [
    "l"
   ]
  },
  {
   "cell_type": "code",
   "execution_count": 32,
   "id": "c3aeca1f-51ef-4726-a361-70ee225746a8",
   "metadata": {},
   "outputs": [
    {
     "data": {
      "text/plain": [
       "array([[ 0.54681671, -0.6332659 ],\n",
       "       [ 1.47594626, -0.84424236]])"
      ]
     },
     "execution_count": 32,
     "metadata": {},
     "output_type": "execute_result"
    }
   ],
   "source": [
    "m"
   ]
  },
  {
   "cell_type": "markdown",
   "id": "0bf1eb4b-e5cf-4ea9-ac42-4e72652759ca",
   "metadata": {},
   "source": [
    "## Generate a randon iteger where low number is inclusive (Means the chance of getting the number is there) but the high number is exclusive"
   ]
  },
  {
   "cell_type": "code",
   "execution_count": 33,
   "id": "1f3e2eee-5749-4730-8830-c7eddcef7a70",
   "metadata": {},
   "outputs": [],
   "source": [
    "n = np.random.randint(1,10)"
   ]
  },
  {
   "cell_type": "code",
   "execution_count": 34,
   "id": "8156e213-8301-49da-a3f0-34d1949fdff9",
   "metadata": {},
   "outputs": [
    {
     "data": {
      "text/plain": [
       "5"
      ]
     },
     "execution_count": 34,
     "metadata": {},
     "output_type": "execute_result"
    }
   ],
   "source": [
    "n"
   ]
  },
  {
   "cell_type": "markdown",
   "id": "b2410ac2-a614-4620-a0ba-b9562c27220b",
   "metadata": {},
   "source": [
    "## If we need to have multiple random numbers then we need to add the 3rd argument"
   ]
  },
  {
   "cell_type": "code",
   "execution_count": 36,
   "id": "88f866b4-e8fa-44cb-969b-a4fb07cd9897",
   "metadata": {},
   "outputs": [],
   "source": [
    "o = np.random.randint(1,10,3)"
   ]
  },
  {
   "cell_type": "code",
   "execution_count": 37,
   "id": "b475d0f4-5090-4b07-a466-e81b826aa41b",
   "metadata": {},
   "outputs": [
    {
     "data": {
      "text/plain": [
       "array([2, 9, 7])"
      ]
     },
     "execution_count": 37,
     "metadata": {},
     "output_type": "execute_result"
    }
   ],
   "source": [
    "o"
   ]
  },
  {
   "cell_type": "markdown",
   "id": "4a81ef96-9f1e-4061-b1a3-971331dd014b",
   "metadata": {},
   "source": [
    "## to get 10 integers in an array , by seqence or by random "
   ]
  },
  {
   "cell_type": "code",
   "execution_count": 39,
   "id": "629e7118-3b6a-4c9a-ad93-0caf23e4a3c7",
   "metadata": {},
   "outputs": [],
   "source": [
    "p = np.arange(10)"
   ]
  },
  {
   "cell_type": "code",
   "execution_count": 40,
   "id": "dc978940-d588-4b86-81b6-6fd0abdd3698",
   "metadata": {},
   "outputs": [
    {
     "data": {
      "text/plain": [
       "array([0, 1, 2, 3, 4, 5, 6, 7, 8, 9])"
      ]
     },
     "execution_count": 40,
     "metadata": {},
     "output_type": "execute_result"
    }
   ],
   "source": [
    "p"
   ]
  },
  {
   "cell_type": "code",
   "execution_count": 41,
   "id": "687813b7-b4ae-4ce0-af53-e20cf010ce92",
   "metadata": {},
   "outputs": [],
   "source": [
    "q = np.random.randint(0,50,10)"
   ]
  },
  {
   "cell_type": "code",
   "execution_count": 42,
   "id": "eb59957e-06e2-4d9f-a83c-5f5bc0ae688b",
   "metadata": {},
   "outputs": [
    {
     "data": {
      "text/plain": [
       "array([34, 40,  3, 26, 27, 48, 18, 27,  5,  1])"
      ]
     },
     "execution_count": 42,
     "metadata": {},
     "output_type": "execute_result"
    }
   ],
   "source": [
    "q"
   ]
  },
  {
   "cell_type": "markdown",
   "id": "9fe2f7e6-f0d3-4a61-af02-407088d283a4",
   "metadata": {},
   "source": [
    "## We can reshape the array . from 1-D to 2-D array"
   ]
  },
  {
   "cell_type": "code",
   "execution_count": 45,
   "id": "1b7319dd-597e-4251-9e33-8204dff42ad7",
   "metadata": {},
   "outputs": [
    {
     "data": {
      "text/plain": [
       "array([[0, 1, 2, 3, 4],\n",
       "       [5, 6, 7, 8, 9]])"
      ]
     },
     "execution_count": 45,
     "metadata": {},
     "output_type": "execute_result"
    }
   ],
   "source": [
    "p.reshape(2,5)"
   ]
  },
  {
   "cell_type": "code",
   "execution_count": 46,
   "id": "24b07936-d44b-4085-a947-a8e62df5a299",
   "metadata": {},
   "outputs": [
    {
     "data": {
      "text/plain": [
       "array([[34, 40],\n",
       "       [ 3, 26],\n",
       "       [27, 48],\n",
       "       [18, 27],\n",
       "       [ 5,  1]])"
      ]
     },
     "execution_count": 46,
     "metadata": {},
     "output_type": "execute_result"
    }
   ],
   "source": [
    "q.reshape(5,2)"
   ]
  },
  {
   "cell_type": "markdown",
   "id": "768b43d5-4628-4a84-b89b-4a5990901e80",
   "metadata": {},
   "source": [
    "## To get the Max value of an array"
   ]
  },
  {
   "cell_type": "code",
   "execution_count": 47,
   "id": "49d4fb5f-666b-40e1-bd41-cf9d724416ce",
   "metadata": {},
   "outputs": [
    {
     "data": {
      "text/plain": [
       "array([0, 1, 2, 3, 4, 5, 6, 7, 8, 9])"
      ]
     },
     "execution_count": 47,
     "metadata": {},
     "output_type": "execute_result"
    }
   ],
   "source": [
    "p"
   ]
  },
  {
   "cell_type": "code",
   "execution_count": 48,
   "id": "c287c880-8032-4b2a-b133-92672f9fbff6",
   "metadata": {},
   "outputs": [
    {
     "data": {
      "text/plain": [
       "9"
      ]
     },
     "execution_count": 48,
     "metadata": {},
     "output_type": "execute_result"
    }
   ],
   "source": [
    "p.max()"
   ]
  },
  {
   "cell_type": "code",
   "execution_count": 49,
   "id": "3b3291de-3aae-4dc3-88b0-60068518c7b8",
   "metadata": {},
   "outputs": [
    {
     "data": {
      "text/plain": [
       "array([34, 40,  3, 26, 27, 48, 18, 27,  5,  1])"
      ]
     },
     "execution_count": 49,
     "metadata": {},
     "output_type": "execute_result"
    }
   ],
   "source": [
    "q"
   ]
  },
  {
   "cell_type": "code",
   "execution_count": 50,
   "id": "3af12c86-827e-4455-bc38-1ac8c7a06bb8",
   "metadata": {},
   "outputs": [
    {
     "data": {
      "text/plain": [
       "48"
      ]
     },
     "execution_count": 50,
     "metadata": {},
     "output_type": "execute_result"
    }
   ],
   "source": [
    "q.max()"
   ]
  },
  {
   "cell_type": "markdown",
   "id": "ca5d1c77-1f31-4017-9230-82f900191c3d",
   "metadata": {},
   "source": [
    "## To get the min value of an Array"
   ]
  },
  {
   "cell_type": "code",
   "execution_count": 51,
   "id": "7aba837c-5981-4052-92bd-7fcd40fa8d24",
   "metadata": {},
   "outputs": [
    {
     "data": {
      "text/plain": [
       "0"
      ]
     },
     "execution_count": 51,
     "metadata": {},
     "output_type": "execute_result"
    }
   ],
   "source": [
    "p.min()"
   ]
  },
  {
   "cell_type": "code",
   "execution_count": 52,
   "id": "59181289-0ce6-4361-a692-394970640261",
   "metadata": {},
   "outputs": [
    {
     "data": {
      "text/plain": [
       "1"
      ]
     },
     "execution_count": 52,
     "metadata": {},
     "output_type": "execute_result"
    }
   ],
   "source": [
    "q.min()"
   ]
  },
  {
   "cell_type": "markdown",
   "id": "93f15334-3c30-4b42-9283-b54a309c0db8",
   "metadata": {},
   "source": [
    "## To get the position of the max or min value we need to provide argmax() or arfmin()"
   ]
  },
  {
   "cell_type": "code",
   "execution_count": 53,
   "id": "95ac1c5b-1f58-491c-8f80-6bbe56dd3dc1",
   "metadata": {},
   "outputs": [
    {
     "data": {
      "text/plain": [
       "array([0, 1, 2, 3, 4, 5, 6, 7, 8, 9])"
      ]
     },
     "execution_count": 53,
     "metadata": {},
     "output_type": "execute_result"
    }
   ],
   "source": [
    "p"
   ]
  },
  {
   "cell_type": "code",
   "execution_count": 54,
   "id": "086782fe-ddcf-449e-ade9-1edc6552de4c",
   "metadata": {},
   "outputs": [
    {
     "data": {
      "text/plain": [
       "9"
      ]
     },
     "execution_count": 54,
     "metadata": {},
     "output_type": "execute_result"
    }
   ],
   "source": [
    "p.argmax()"
   ]
  },
  {
   "cell_type": "code",
   "execution_count": 55,
   "id": "a6f2aa6b-770d-4447-8174-6eaede191313",
   "metadata": {},
   "outputs": [
    {
     "data": {
      "text/plain": [
       "array([34, 40,  3, 26, 27, 48, 18, 27,  5,  1])"
      ]
     },
     "execution_count": 55,
     "metadata": {},
     "output_type": "execute_result"
    }
   ],
   "source": [
    "q"
   ]
  },
  {
   "cell_type": "code",
   "execution_count": 57,
   "id": "3c533e09-88e2-44ea-8ec5-773aa049ee04",
   "metadata": {},
   "outputs": [
    {
     "data": {
      "text/plain": [
       "5"
      ]
     },
     "execution_count": 57,
     "metadata": {},
     "output_type": "execute_result"
    }
   ],
   "source": [
    "q.argmax()"
   ]
  },
  {
   "cell_type": "code",
   "execution_count": 58,
   "id": "660c0a0d-054c-4b63-bb9b-6e41b8834e53",
   "metadata": {},
   "outputs": [
    {
     "data": {
      "text/plain": [
       "0"
      ]
     },
     "execution_count": 58,
     "metadata": {},
     "output_type": "execute_result"
    }
   ],
   "source": [
    "p.argmin()"
   ]
  },
  {
   "cell_type": "code",
   "execution_count": 59,
   "id": "88b9d28e-abb2-4cf9-986e-cc6c2bb348e1",
   "metadata": {},
   "outputs": [
    {
     "data": {
      "text/plain": [
       "9"
      ]
     },
     "execution_count": 59,
     "metadata": {},
     "output_type": "execute_result"
    }
   ],
   "source": [
    "q.argmin()"
   ]
  },
  {
   "cell_type": "markdown",
   "id": "86145c69-e60b-4420-b7ce-773cf57b3bfb",
   "metadata": {},
   "source": [
    "## How to know the array is 1-D or 2-D ?\n"
   ]
  },
  {
   "cell_type": "code",
   "execution_count": 61,
   "id": "17db966e-0a9c-4878-a86e-214aa029b353",
   "metadata": {},
   "outputs": [
    {
     "data": {
      "text/plain": [
       "(10,)"
      ]
     },
     "execution_count": 61,
     "metadata": {},
     "output_type": "execute_result"
    }
   ],
   "source": [
    "p.shape"
   ]
  },
  {
   "cell_type": "code",
   "execution_count": 64,
   "id": "53be17c0-26f2-4804-92fc-3a99152603a2",
   "metadata": {},
   "outputs": [
    {
     "data": {
      "text/plain": [
       "array([[0., 0., 0.],\n",
       "       [0., 0., 0.]])"
      ]
     },
     "execution_count": 64,
     "metadata": {},
     "output_type": "execute_result"
    }
   ],
   "source": [
    "d\n"
   ]
  },
  {
   "cell_type": "code",
   "execution_count": 65,
   "id": "0fe3578a-bb36-45d5-bdf8-04b6b6755a77",
   "metadata": {},
   "outputs": [
    {
     "data": {
      "text/plain": [
       "(2, 3)"
      ]
     },
     "execution_count": 65,
     "metadata": {},
     "output_type": "execute_result"
    }
   ],
   "source": [
    "d.shape"
   ]
  },
  {
   "cell_type": "markdown",
   "id": "6f439a26-154a-4d05-9d68-93e47268e280",
   "metadata": {},
   "source": [
    "## Reshape from 2-D to 1-D array"
   ]
  },
  {
   "cell_type": "code",
   "execution_count": 67,
   "id": "b7ba1c99-6fcb-4a74-bfa2-c0704da3ea03",
   "metadata": {},
   "outputs": [
    {
     "data": {
      "text/plain": [
       "array([0., 0., 0., 0., 0., 0.])"
      ]
     },
     "execution_count": 67,
     "metadata": {},
     "output_type": "execute_result"
    }
   ],
   "source": [
    "d.reshape(6)"
   ]
  },
  {
   "cell_type": "markdown",
   "id": "58799072-1b5d-46e3-af1b-19a49178bc2b",
   "metadata": {},
   "source": [
    "## Data type of an Array"
   ]
  },
  {
   "cell_type": "code",
   "execution_count": 69,
   "id": "8e6809fa-e8a4-471a-bca2-e0a198f8d4a0",
   "metadata": {},
   "outputs": [
    {
     "data": {
      "text/plain": [
       "dtype('float64')"
      ]
     },
     "execution_count": 69,
     "metadata": {},
     "output_type": "execute_result"
    }
   ],
   "source": [
    "d.dtype"
   ]
  },
  {
   "cell_type": "code",
   "execution_count": null,
   "id": "9b5bc47c-f127-4e72-82c5-f11d17f6bbc6",
   "metadata": {},
   "outputs": [],
   "source": []
  }
 ],
 "metadata": {
  "kernelspec": {
   "display_name": "Python 3 (ipykernel)",
   "language": "python",
   "name": "python3"
  },
  "language_info": {
   "codemirror_mode": {
    "name": "ipython",
    "version": 3
   },
   "file_extension": ".py",
   "mimetype": "text/x-python",
   "name": "python",
   "nbconvert_exporter": "python",
   "pygments_lexer": "ipython3",
   "version": "3.10.6"
  }
 },
 "nbformat": 4,
 "nbformat_minor": 5
}
