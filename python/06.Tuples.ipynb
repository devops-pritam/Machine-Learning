{
 "cells": [
  {
   "cell_type": "markdown",
   "id": "8871aff1-791a-43ef-b91f-1ef2d74f0223",
   "metadata": {},
   "source": [
    "# Python Tuples\n",
    "## mytuple = (\"pritam\", \"kumar\", \"dey\")\n",
    "## Tuples are used to store multiple items in a single variable.\r\n",
    "## \r\n",
    "Tuple is one of 4 built-in data types in Python used to store collections of data, the other 3 are List, Set, and Dictionary, all with different qualities and usage.## \r\n",
    "\r\n",
    "A tuple is a collection which is ordered and unchangeabl## e.\r\n",
    "\r\n",
    "Tuples are written with round brackets."
   ]
  },
  {
   "cell_type": "code",
   "execution_count": 1,
   "id": "12daf7a7-4c80-4580-b8f9-65d2c8ab4901",
   "metadata": {},
   "outputs": [
    {
     "name": "stdout",
     "output_type": "stream",
     "text": [
      "('pritam', 'kumar', 'dey')\n"
     ]
    }
   ],
   "source": [
    "mytuple = (\"pritam\", \"kumar\", \"dey\")\n",
    "print(mytuple)"
   ]
  },
  {
   "cell_type": "markdown",
   "id": "479815d2-6ce1-492a-97a3-72fe415b83ef",
   "metadata": {},
   "source": [
    "# Tuple Items are "
   ]
  },
  {
   "cell_type": "markdown",
   "id": "758c2ef3-88b7-49a4-aa0d-3b899704e540",
   "metadata": {},
   "source": [
    "## Ordered\n",
    "## Unchangeable\n",
    "## Allow Duplicates"
   ]
  },
  {
   "cell_type": "code",
   "execution_count": 7,
   "id": "c258930e-094a-4825-a8b4-568ce03230a9",
   "metadata": {},
   "outputs": [
    {
     "name": "stdout",
     "output_type": "stream",
     "text": [
      "('apple', 'banana', 'cherry', 'apple', 'cherry', True, 1990, 3.14)\n"
     ]
    }
   ],
   "source": [
    "my_tuple1 = (\"apple\", \"banana\", \"cherry\", \"apple\", \"cherry\", True, 1990, 3.14)\n",
    "print(my_tuple1)"
   ]
  },
  {
   "cell_type": "markdown",
   "id": "d1359b1c-a28a-4802-a737-291d27976ee4",
   "metadata": {},
   "source": [
    "# Tuple Length"
   ]
  },
  {
   "cell_type": "code",
   "execution_count": 4,
   "id": "00cc05e6-ddc2-41e0-9188-bc6c218f07a1",
   "metadata": {},
   "outputs": [
    {
     "name": "stdout",
     "output_type": "stream",
     "text": [
      "5\n"
     ]
    }
   ],
   "source": [
    "print(len(my_tuple1))"
   ]
  },
  {
   "cell_type": "markdown",
   "id": "c9097301-3a3c-40e9-b995-09da7ae3ab67",
   "metadata": {},
   "source": [
    "# How to Create Tuple With One Item"
   ]
  },
  {
   "cell_type": "code",
   "execution_count": 5,
   "id": "ebba1546-7a62-4483-bb5a-e25cfb9dea0b",
   "metadata": {},
   "outputs": [
    {
     "name": "stdout",
     "output_type": "stream",
     "text": [
      "<class 'tuple'>\n"
     ]
    }
   ],
   "source": [
    "demotuple = (\"apple\",)\n",
    "print(type(demotuple))\n"
   ]
  },
  {
   "cell_type": "markdown",
   "id": "134d8cc3-677f-4156-83c3-57df55f12e38",
   "metadata": {},
   "source": [
    "# NOT a Tuple\n"
   ]
  },
  {
   "cell_type": "code",
   "execution_count": 6,
   "id": "bd6d8f76-8140-44d5-8a37-53935620a97c",
   "metadata": {},
   "outputs": [
    {
     "name": "stdout",
     "output_type": "stream",
     "text": [
      "<class 'str'>\n"
     ]
    }
   ],
   "source": [
    "newtuple = (\"apple\")\n",
    "print(type(newtuple))"
   ]
  },
  {
   "cell_type": "markdown",
   "id": "b842c5db-055c-4484-97c9-1b3e1b2369ff",
   "metadata": {},
   "source": [
    "# Access Tuple Items"
   ]
  },
  {
   "cell_type": "code",
   "execution_count": 10,
   "id": "03ec711d-00a5-43d8-9f71-84edc57ca9b2",
   "metadata": {},
   "outputs": [
    {
     "name": "stdout",
     "output_type": "stream",
     "text": [
      "kumar\n",
      "Python\n",
      "ML\n",
      "('Redhill', 2024, 'Python')\n",
      "('pritam', 'kumar', 'dey', 1990, 'Redhill')\n"
     ]
    }
   ],
   "source": [
    "thistuple = (\"pritam\", \"kumar\", \"dey\", 1990, \"Redhill\", 2024, \"Python\", \"ML\")\n",
    "print(thistuple[1])\n",
    "print(thistuple[6])\n",
    "print(thistuple[-1])\n",
    "print(thistuple[-4:-1])\n",
    "print(thistuple[:5])"
   ]
  },
  {
   "cell_type": "code",
   "execution_count": 9,
   "id": "3ff6e25a-25ea-4fac-b902-7c444a2355f4",
   "metadata": {},
   "outputs": [
    {
     "name": "stdout",
     "output_type": "stream",
     "text": [
      "The 0th item is pritam\n",
      "The 1th item is kumar\n",
      "The 2th item is dey\n",
      "The 3th item is 1990\n",
      "The 4th item is Redhill\n",
      "The 5th item is 2024\n",
      "The 6th item is Python\n",
      "The 7th item is ML\n"
     ]
    }
   ],
   "source": [
    "for i in range(len(thistuple)):\n",
    "    print('The {}th item is {}'.format(i,thistuple[i]))"
   ]
  },
  {
   "cell_type": "code",
   "execution_count": 11,
   "id": "26971ee3-9d0f-4e05-9709-ef7000800c1b",
   "metadata": {},
   "outputs": [
    {
     "name": "stdout",
     "output_type": "stream",
     "text": [
      "Yes, 'pritam' is in the fruits tuple\n"
     ]
    }
   ],
   "source": [
    "if \"pritam\" in thistuple:\n",
    "  print(\"Yes, 'pritam' is in the tuple\")"
   ]
  },
  {
   "cell_type": "code",
   "execution_count": 12,
   "id": "78bd1ef7-48c3-4f0d-a739-57405d3d1cb5",
   "metadata": {},
   "outputs": [
    {
     "name": "stdout",
     "output_type": "stream",
     "text": [
      "No, 'Pritam' is not in the tuple\n"
     ]
    }
   ],
   "source": [
    "if \"Pritam\" in thistuple:\n",
    "  print(\"Yes, 'Pritam' is in the tuple\")\n",
    "else: print(\"No, 'Pritam' is not in the tuple\")"
   ]
  },
  {
   "cell_type": "markdown",
   "id": "98b0a961-4714-4e54-880b-554d13804332",
   "metadata": {},
   "source": [
    "# Change Tuple Values"
   ]
  },
  {
   "cell_type": "markdown",
   "id": "d0e73d59-6834-4627-a382-5078f3c254ad",
   "metadata": {},
   "source": [
    "## Once a tuple is created, we cannot change its values. Tuples are unchangeable"
   ]
  },
  {
   "cell_type": "code",
   "execution_count": 15,
   "id": "c6eeaa12-78e4-4470-b160-7662f526307c",
   "metadata": {},
   "outputs": [
    {
     "name": "stdout",
     "output_type": "stream",
     "text": [
      "(1, 2, 3, 4, 5, 'pritam')\n"
     ]
    },
    {
     "ename": "TypeError",
     "evalue": "'tuple' object does not support item assignment",
     "output_type": "error",
     "traceback": [
      "\u001b[1;31m---------------------------------------------------------------------------\u001b[0m",
      "\u001b[1;31mTypeError\u001b[0m                                 Traceback (most recent call last)",
      "Cell \u001b[1;32mIn[15], line 3\u001b[0m\n\u001b[0;32m      1\u001b[0m my_tuple1 \u001b[38;5;241m=\u001b[39m (\u001b[38;5;241m1\u001b[39m,\u001b[38;5;241m2\u001b[39m,\u001b[38;5;241m3\u001b[39m,\u001b[38;5;241m4\u001b[39m,\u001b[38;5;241m5\u001b[39m,\u001b[38;5;124m\"\u001b[39m\u001b[38;5;124mpritam\u001b[39m\u001b[38;5;124m\"\u001b[39m)\n\u001b[0;32m      2\u001b[0m \u001b[38;5;28mprint\u001b[39m(my_tuple1)\n\u001b[1;32m----> 3\u001b[0m \u001b[43mmy_tuple1\u001b[49m\u001b[43m[\u001b[49m\u001b[38;5;241;43m0\u001b[39;49m\u001b[43m]\u001b[49m \u001b[38;5;241m=\u001b[39m \u001b[38;5;241m100\u001b[39m\n\u001b[0;32m      4\u001b[0m my_tuple1[\u001b[38;5;241m3\u001b[39m] \u001b[38;5;241m=\u001b[39m \u001b[38;5;241m1\u001b[39m\n\u001b[0;32m      5\u001b[0m \u001b[38;5;28mprint\u001b[39m(my_tuple1)\n",
      "\u001b[1;31mTypeError\u001b[0m: 'tuple' object does not support item assignment"
     ]
    }
   ],
   "source": [
    "my_tuple1 = (1,2,3,4,5,\"pritam\")\n",
    "print(my_tuple1)\n",
    "my_tuple1[0] = 100\n",
    "my_tuple1[3] = 1\n",
    "print(my_tuple1)"
   ]
  },
  {
   "cell_type": "markdown",
   "id": "42475122-a3a3-4487-bd3c-d32d4b038d60",
   "metadata": {},
   "source": [
    "# But there is a workaround. We can convert the tuple into a list, change the list, and convert the list back into a tuple."
   ]
  },
  {
   "cell_type": "code",
   "execution_count": 17,
   "id": "9698c6d2-5595-419f-8bed-71d468431189",
   "metadata": {},
   "outputs": [
    {
     "name": "stdout",
     "output_type": "stream",
     "text": [
      "[100, 2, 3, 1, 5, 'pritam']\n",
      "<class 'list'>\n",
      "(100, 2, 3, 1, 5, 'pritam')\n",
      "<class 'tuple'>\n"
     ]
    }
   ],
   "source": [
    "my_tuple1 = (1,2,3,4,5,\"pritam\")\n",
    "my_list = list(my_tuple1)\n",
    "my_list[0] = 100\n",
    "my_list[3] = 1\n",
    "print(my_list)\n",
    "print(type(my_list))\n",
    "thisTuple = tuple(my_list)\n",
    "print(thisTuple)\n",
    "print(type(thisTuple))"
   ]
  },
  {
   "cell_type": "markdown",
   "id": "8d42b907-1d51-4a94-9ff5-01f61c9f1a07",
   "metadata": {},
   "source": [
    "# Add Items"
   ]
  },
  {
   "cell_type": "code",
   "execution_count": 19,
   "id": "053047d4-30ad-464a-b8eb-0c61d1870ebd",
   "metadata": {},
   "outputs": [
    {
     "name": "stdout",
     "output_type": "stream",
     "text": [
      "(100, 2, 3, 1, 5, 'pritam')\n"
     ]
    },
    {
     "ename": "AttributeError",
     "evalue": "'tuple' object has no attribute 'append'",
     "output_type": "error",
     "traceback": [
      "\u001b[1;31m---------------------------------------------------------------------------\u001b[0m",
      "\u001b[1;31mAttributeError\u001b[0m                            Traceback (most recent call last)",
      "Cell \u001b[1;32mIn[19], line 2\u001b[0m\n\u001b[0;32m      1\u001b[0m \u001b[38;5;28mprint\u001b[39m(thisTuple)\n\u001b[1;32m----> 2\u001b[0m \u001b[43mthisTuple\u001b[49m\u001b[38;5;241;43m.\u001b[39;49m\u001b[43mappend\u001b[49m(\u001b[38;5;124m'\u001b[39m\u001b[38;5;124mDey\u001b[39m\u001b[38;5;124m'\u001b[39m)\n",
      "\u001b[1;31mAttributeError\u001b[0m: 'tuple' object has no attribute 'append'"
     ]
    }
   ],
   "source": [
    "print(thisTuple)\n",
    "thisTuple.append('Dey')"
   ]
  },
  {
   "cell_type": "code",
   "execution_count": 21,
   "id": "eb5d5920-8e31-4a32-ba33-35ca6b2f9976",
   "metadata": {},
   "outputs": [
    {
     "name": "stdout",
     "output_type": "stream",
     "text": [
      "(100, 2, 3, 1, 5, 'pritam')\n",
      "6\n",
      "(100, 2, 3, 1, 5, 'pritam', 'Dey')\n",
      "<class 'tuple'>\n",
      "7\n"
     ]
    }
   ],
   "source": [
    "print(thisTuple)\n",
    "print(len(thisTuple))\n",
    "my_list = list(thisTuple)\n",
    "my_list.append('Dey')\n",
    "newTuple = tuple(my_list)\n",
    "print(newTuple)\n",
    "print(type(newTuple))\n",
    "print(len(newTuple))"
   ]
  },
  {
   "cell_type": "markdown",
   "id": "c6dbd7ac-d418-4488-9a84-8b8ea562ad15",
   "metadata": {},
   "source": [
    "# Join Two Tuples"
   ]
  },
  {
   "cell_type": "code",
   "execution_count": 23,
   "id": "998362cb-0f90-4dcc-a19f-d2e030099b9e",
   "metadata": {},
   "outputs": [
    {
     "name": "stdout",
     "output_type": "stream",
     "text": [
      "('a', 'b', 'c', 'pritam', 1, 2, 3, 1, 'pritam')\n"
     ]
    }
   ],
   "source": [
    "tuple1 = (\"a\", \"b\" , \"c\", 'pritam')\n",
    "tuple2 = (1, 2, 3, 1, 'pritam')\n",
    "\n",
    "tuple3 = tuple1 + tuple2\n",
    "print(tuple3)"
   ]
  },
  {
   "cell_type": "code",
   "execution_count": 25,
   "id": "69696523-9b11-4f60-89be-83c50c727912",
   "metadata": {},
   "outputs": [
    {
     "data": {
      "text/plain": [
       "2"
      ]
     },
     "execution_count": 25,
     "metadata": {},
     "output_type": "execute_result"
    }
   ],
   "source": [
    "## Inbuilt function\n",
    "tuple3.count('pritam')"
   ]
  },
  {
   "cell_type": "code",
   "execution_count": null,
   "id": "605ad036-607f-4453-92a7-4e9505d73f23",
   "metadata": {},
   "outputs": [],
   "source": []
  }
 ],
 "metadata": {
  "kernelspec": {
   "display_name": "Python 3 (ipykernel)",
   "language": "python",
   "name": "python3"
  },
  "language_info": {
   "codemirror_mode": {
    "name": "ipython",
    "version": 3
   },
   "file_extension": ".py",
   "mimetype": "text/x-python",
   "name": "python",
   "nbconvert_exporter": "python",
   "pygments_lexer": "ipython3",
   "version": "3.10.6"
  }
 },
 "nbformat": 4,
 "nbformat_minor": 5
}
