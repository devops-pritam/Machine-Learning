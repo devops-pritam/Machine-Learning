{
 "cells": [
  {
   "cell_type": "markdown",
   "id": "9c4ad4db-329e-4e94-ad1b-e1d4a3c26d95",
   "metadata": {},
   "source": [
    "# Python Conditions and If statements"
   ]
  },
  {
   "cell_type": "markdown",
   "id": "3b6ffe37-2096-49eb-89e6-73025b2599c4",
   "metadata": {},
   "source": [
    "## Python supports the usual logical conditions from mathematics:\r\n",
    "Python supports the usual logical conditions from mathematics:\r\n",
    "\r\n",
    "Equals: a == b\r\n",
    "Not Equals: a != b\r\n",
    "Less than: a < b\r\n",
    "Less than or equal to: a <= b\r\n",
    "Greater than: a > b\r\n",
    "Greater than or equal to: a >= b\r\n",
    "These conditions can be used in several ways, most commonly in \"if statements\" and loops.d loops."
   ]
  },
  {
   "cell_type": "code",
   "execution_count": 1,
   "id": "71eab4a5-07e3-435e-89a9-00144dd45c70",
   "metadata": {},
   "outputs": [
    {
     "name": "stdout",
     "output_type": "stream",
     "text": [
      "b is greater than a\n"
     ]
    }
   ],
   "source": [
    "a = 33\n",
    "b = 200\n",
    "if b > a:\n",
    "  print(\"b is greater than a\")\n",
    "else: print(\"a is greater than b\")"
   ]
  },
  {
   "cell_type": "markdown",
   "id": "849989ac-8686-4019-b8c9-261f2791ab9f",
   "metadata": {},
   "source": [
    "# Take user input and check conditions\n"
   ]
  },
  {
   "cell_type": "code",
   "execution_count": 12,
   "id": "30f978a5-1c4e-4e6b-a5eb-832d456ab0ab",
   "metadata": {},
   "outputs": [
    {
     "name": "stdin",
     "output_type": "stream",
     "text": [
      "Enter First Number 30\n",
      "Enter Second Number 4\n"
     ]
    },
    {
     "name": "stdout",
     "output_type": "stream",
     "text": [
      "30\n",
      "4\n",
      "<class 'str'>\n",
      "<class 'str'>\n",
      "y is greater than x\n"
     ]
    }
   ],
   "source": [
    "x = input('Enter First Number')\n",
    "y = input('Enter Second Number')\n",
    "print(x)\n",
    "print(y)\n",
    "print(type(x))\n",
    "print(type(y))\n",
    "if x > y:\n",
    "    print('x is greater than y')\n",
    "elif x == y:\n",
    "    print('x is equal to y')\n",
    "elif x<y:\n",
    "    print('y is greater than x')\n"
   ]
  },
  {
   "cell_type": "code",
   "execution_count": 13,
   "id": "700089b7-baea-43bd-922f-b49e47edb0b6",
   "metadata": {},
   "outputs": [
    {
     "name": "stdin",
     "output_type": "stream",
     "text": [
      "Enter First Number 30\n",
      "Enter Second Number 4\n"
     ]
    },
    {
     "name": "stdout",
     "output_type": "stream",
     "text": [
      "30\n",
      "4\n",
      "<class 'int'>\n",
      "<class 'int'>\n",
      "x is greater than y\n"
     ]
    }
   ],
   "source": [
    "x = int(input('Enter First Number'))\n",
    "y = int(input('Enter Second Number'))\n",
    "print(x)\n",
    "print(y)\n",
    "print(type(x))\n",
    "print(type(y))\n",
    "if x > y:\n",
    "    print('x is greater than y')\n",
    "elif x == y:\n",
    "    print('x is equal to y')\n",
    "elif x<y:\n",
    "    print('y is greater than x')"
   ]
  },
  {
   "cell_type": "markdown",
   "id": "a01d9966-523d-41d3-91ff-bee9feebfda4",
   "metadata": {},
   "source": [
    "# And"
   ]
  },
  {
   "cell_type": "code",
   "execution_count": 14,
   "id": "5725d6d1-f82e-4f23-a543-9de0a796b49f",
   "metadata": {},
   "outputs": [
    {
     "name": "stdout",
     "output_type": "stream",
     "text": [
      "Both conditions are True\n"
     ]
    }
   ],
   "source": [
    "a = 200\n",
    "b = 33\n",
    "c = 500\n",
    "if a > b and c > a:\n",
    "  print(\"Both conditions are True\")"
   ]
  },
  {
   "cell_type": "markdown",
   "id": "8b87a310-548f-4df6-9a2f-ddf94faea11a",
   "metadata": {},
   "source": [
    "# OR"
   ]
  },
  {
   "cell_type": "code",
   "execution_count": 15,
   "id": "5d53730d-d434-44fa-ba17-376bb3b8ac54",
   "metadata": {},
   "outputs": [
    {
     "name": "stdout",
     "output_type": "stream",
     "text": [
      "At least one of the conditions is True\n"
     ]
    }
   ],
   "source": [
    "a = 200\n",
    "b = 33\n",
    "c = 500\n",
    "if a > b or a > c:\n",
    "  print(\"At least one of the conditions is True\")"
   ]
  },
  {
   "cell_type": "markdown",
   "id": "86e91e10-2e00-4ec1-9fee-59dddb616111",
   "metadata": {},
   "source": [
    "# NOT"
   ]
  },
  {
   "cell_type": "code",
   "execution_count": 16,
   "id": "3c2f665f-3e3d-42ff-b795-3af0ff1049c4",
   "metadata": {},
   "outputs": [
    {
     "name": "stdout",
     "output_type": "stream",
     "text": [
      "a is NOT greater than b\n"
     ]
    }
   ],
   "source": [
    "a = 33\n",
    "b = 200\n",
    "if not a > b:\n",
    "  print(\"a is NOT greater than b\")"
   ]
  },
  {
   "cell_type": "markdown",
   "id": "d2f17995-1e31-402f-a135-e7bf34e27552",
   "metadata": {},
   "source": [
    "# Nested If"
   ]
  },
  {
   "cell_type": "code",
   "execution_count": 17,
   "id": "6ede6263-c916-4058-a1cc-bb3413a7cb60",
   "metadata": {},
   "outputs": [
    {
     "name": "stdout",
     "output_type": "stream",
     "text": [
      "Above ten,\n",
      "and also above 20!\n"
     ]
    }
   ],
   "source": [
    "x = 41\n",
    "\n",
    "if x > 10:\n",
    "  print(\"Above ten,\")\n",
    "  if x > 20:\n",
    "    print(\"and also above 20!\")\n",
    "  else:\n",
    "    print(\"but not above 20.\")"
   ]
  },
  {
   "cell_type": "markdown",
   "id": "db270f83-7872-4ee9-9d30-ff00671da195",
   "metadata": {},
   "source": [
    "# The pass Statement"
   ]
  },
  {
   "cell_type": "code",
   "execution_count": 18,
   "id": "51402969-5e3a-46f1-a4d9-1f1ba76d39db",
   "metadata": {},
   "outputs": [],
   "source": [
    "a = 33\n",
    "b = 200\n",
    "\n",
    "if b > a:\n",
    "  pass"
   ]
  }
 ],
 "metadata": {
  "kernelspec": {
   "display_name": "Python 3 (ipykernel)",
   "language": "python",
   "name": "python3"
  },
  "language_info": {
   "codemirror_mode": {
    "name": "ipython",
    "version": 3
   },
   "file_extension": ".py",
   "mimetype": "text/x-python",
   "name": "python",
   "nbconvert_exporter": "python",
   "pygments_lexer": "ipython3",
   "version": "3.10.6"
  }
 },
 "nbformat": 4,
 "nbformat_minor": 5
}
