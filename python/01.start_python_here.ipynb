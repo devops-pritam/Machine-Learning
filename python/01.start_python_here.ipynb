{
 "cells": [
  {
   "cell_type": "markdown",
   "id": "06f73d4c-9685-4dbb-9f66-07c44ad086f6",
   "metadata": {},
   "source": [
    "# This is Python Tutorial"
   ]
  },
  {
   "cell_type": "markdown",
   "id": "7572268c-7447-41e1-a175-5320c0a59da3",
   "metadata": {},
   "source": [
    "## This is our first program in python: It is just started here"
   ]
  },
  {
   "cell_type": "code",
   "execution_count": 5,
   "id": "760e20ce-443c-4930-b527-986377581c07",
   "metadata": {},
   "outputs": [
    {
     "name": "stdout",
     "output_type": "stream",
     "text": [
      "Hello World\n"
     ]
    }
   ],
   "source": [
    "print(\"Hello World\")"
   ]
  },
  {
   "cell_type": "markdown",
   "id": "86f8de70-8d5a-4191-8ac2-cc95d2f9be0a",
   "metadata": {},
   "source": [
    "# Python Indentation"
   ]
  },
  {
   "cell_type": "markdown",
   "id": "aa89f419-81aa-4738-b1a2-569f4654e122",
   "metadata": {},
   "source": [
    "## Indentation refers to the spaces at the beginning of a code line.\r\n",
    "\r\n",
    "Where in other programming languages the indentation in code is for readability only, the indentation in Python is very important.\r\n",
    "\r\n",
    "Python uses indentation to indicate a block of code."
   ]
  },
  {
   "cell_type": "code",
   "execution_count": 6,
   "id": "e0208e81-0602-423f-b007-54dfa1094d32",
   "metadata": {},
   "outputs": [
    {
     "name": "stdout",
     "output_type": "stream",
     "text": [
      "First\n",
      "Second\n"
     ]
    }
   ],
   "source": [
    "print(\"First\")\n",
    "print(\"Second\")"
   ]
  },
  {
   "cell_type": "code",
   "execution_count": 7,
   "id": "37b12d10-9e6f-4a10-8584-a715b55424ab",
   "metadata": {},
   "outputs": [
    {
     "ename": "IndentationError",
     "evalue": "unexpected indent (138568039.py, line 2)",
     "output_type": "error",
     "traceback": [
      "\u001b[1;36m  Cell \u001b[1;32mIn[7], line 2\u001b[1;36m\u001b[0m\n\u001b[1;33m    print(\"Second\")\u001b[0m\n\u001b[1;37m    ^\u001b[0m\n\u001b[1;31mIndentationError\u001b[0m\u001b[1;31m:\u001b[0m unexpected indent\n"
     ]
    }
   ],
   "source": [
    "print(\"First\")\n",
    " print(\"Second\")"
   ]
  },
  {
   "cell_type": "markdown",
   "id": "ee6f6810-b4dd-4fe5-ae3b-c0e54f99bec2",
   "metadata": {},
   "source": [
    "# Python Variables"
   ]
  },
  {
   "cell_type": "markdown",
   "id": "76ac7776-a6a2-4265-b529-61eca0e6207a",
   "metadata": {},
   "source": [
    "## In Python, variables are created when we assign a value to it"
   ]
  },
  {
   "cell_type": "code",
   "execution_count": 10,
   "id": "720e5008-6c2b-4ee2-882a-e3eff8ba1cde",
   "metadata": {},
   "outputs": [
    {
     "name": "stdout",
     "output_type": "stream",
     "text": [
      "My name is Pritam Kumar Dey and my birth year is 1990\n"
     ]
    }
   ],
   "source": [
    "x = 1990\n",
    "y = \"Pritam Kumar Dey\"\n",
    "print('My name is {} and my birth year is {}'.format(y,x))"
   ]
  },
  {
   "cell_type": "markdown",
   "id": "a047bdfc-43dd-48d0-b671-8faa49cd2818",
   "metadata": {},
   "source": [
    "# Variable Types"
   ]
  },
  {
   "cell_type": "markdown",
   "id": "e49f9fc6-c282-4f90-b523-ffa2bbe170f1",
   "metadata": {},
   "source": [
    "### text Type:\tstr\n",
    "### Numeric Types:\tint, float, complex\n",
    "### Sequence Types:\tlist, tuple, range\n",
    "### Mapping Type:\tdict\n",
    "### Set Types:\tset, frozenset\n",
    "### Boolean Type:\tbool\n",
    "### Binary Types:\tbytes, bytearray, memoryview\n",
    "### None Type:\tNoneType"
   ]
  },
  {
   "cell_type": "code",
   "execution_count": 16,
   "id": "92b5d631-effc-4c87-808f-e437a27d77ee",
   "metadata": {},
   "outputs": [],
   "source": [
    "a = 'Pritam'\n",
    "b = 1990\n",
    "c = 71.5\n",
    "d = 2j\n",
    "e = [1,2,3]\n",
    "f = (1,2,3)\n",
    "g = {'name':'Pritam', 'Place': 'Kolkata'}\n",
    "h = {'pritam', 'kolkata'}\n",
    "i = range(3)\n",
    "j = False\n",
    "k = None"
   ]
  },
  {
   "cell_type": "code",
   "execution_count": 17,
   "id": "6545b13b-945c-4391-89fc-7f39c0d8b926",
   "metadata": {},
   "outputs": [
    {
     "name": "stdout",
     "output_type": "stream",
     "text": [
      "<class 'str'>\n",
      "<class 'int'>\n",
      "<class 'float'>\n",
      "<class 'complex'>\n",
      "<class 'list'>\n",
      "<class 'tuple'>\n",
      "<class 'dict'>\n",
      "<class 'set'>\n",
      "<class 'range'>\n",
      "<class 'bool'>\n",
      "<class 'NoneType'>\n"
     ]
    }
   ],
   "source": [
    "print(type(a))\n",
    "print(type(b))\n",
    "print(type(c))\n",
    "print(type(d))\n",
    "print(type(e))\n",
    "print(type(f))\n",
    "print(type(g))\n",
    "print(type(h))\n",
    "print(type(i))\n",
    "print(type(j))\n",
    "print(type(k))"
   ]
  },
  {
   "cell_type": "markdown",
   "id": "c979f599-85b2-4e44-88b0-08ae85ee7907",
   "metadata": {},
   "source": [
    "# Python Comments"
   ]
  },
  {
   "cell_type": "markdown",
   "id": "c30205b7-66b2-47fd-8815-2f6e823c97cf",
   "metadata": {},
   "source": [
    "### \n",
    "Comments can be used to explain Python code.\r\n",
    "\r\n",
    "Comments can be used to make the code more readable.\r\n",
    "\r\n",
    "Comments can be used to prevent execution when testing code."
   ]
  },
  {
   "cell_type": "markdown",
   "id": "39298c1c-b0db-4a6d-81cc-251b995aaaa4",
   "metadata": {},
   "source": [
    "# Creating a Comment\r",
    "## \n",
    "Comments starts with a #, and Python will ignore them:"
   ]
  },
  {
   "cell_type": "code",
   "execution_count": 18,
   "id": "d46fe730-2c3c-4241-8ed1-c17b27041f97",
   "metadata": {},
   "outputs": [
    {
     "name": "stdout",
     "output_type": "stream",
     "text": [
      "My name is Pritam Kumar Dey\n"
     ]
    }
   ],
   "source": [
    "#This line is for printing a statement\n",
    "print('My name is Pritam Kumar Dey')"
   ]
  },
  {
   "cell_type": "markdown",
   "id": "7eda7e12-2850-4df5-8e38-6a0c06935214",
   "metadata": {},
   "source": [
    "# Multiline Comments\r",
    "## \n",
    "Python does not really have a syntax for multiline comments.## \n",
    "\r\n",
    "To add a multiline comment you could insert a # for each line:"
   ]
  },
  {
   "cell_type": "code",
   "execution_count": 19,
   "id": "a2fe04d3-e513-4971-af5a-515ba71f24c7",
   "metadata": {},
   "outputs": [
    {
     "name": "stdout",
     "output_type": "stream",
     "text": [
      "My Name is Pritam Kumar Dey\n"
     ]
    }
   ],
   "source": [
    "#This is a comment\n",
    "#written in\n",
    "#more than just one line\n",
    "print(\"My Name is Pritam Kumar Dey\")"
   ]
  },
  {
   "cell_type": "markdown",
   "id": "62b740cd-d322-45b1-a53e-06fbedc31d4c",
   "metadata": {},
   "source": [
    "# OR"
   ]
  },
  {
   "cell_type": "code",
   "execution_count": 20,
   "id": "e957e1ed-7687-449e-991f-3c845ca85bdd",
   "metadata": {},
   "outputs": [
    {
     "name": "stdout",
     "output_type": "stream",
     "text": [
      "My Name is Pritam Kumar Dey\n"
     ]
    }
   ],
   "source": [
    "''' This is a comment\n",
    "written in\n",
    "more than just one line '''\n",
    "print(\"My Name is Pritam Kumar Dey\")"
   ]
  },
  {
   "cell_type": "markdown",
   "id": "c203c43d-1cf5-4a09-b2e9-6c6cc1a09cdb",
   "metadata": {},
   "source": [
    "# Python Casting\n",
    "## There may be times when we want to specify a type on to a variable. This can be done with casting"
   ]
  },
  {
   "cell_type": "code",
   "execution_count": 24,
   "id": "8930af4b-c8e0-4a77-bf32-2edda05f678c",
   "metadata": {},
   "outputs": [
    {
     "name": "stdout",
     "output_type": "stream",
     "text": [
      "the type of x is : <class 'int'>\n"
     ]
    }
   ],
   "source": [
    "x = int(1.0)\n",
    "print('the type of x is : {}'.format(type(x)))"
   ]
  },
  {
   "cell_type": "code",
   "execution_count": 25,
   "id": "9c4d6c09-bd6b-4310-9688-239b412374d1",
   "metadata": {},
   "outputs": [
    {
     "name": "stdout",
     "output_type": "stream",
     "text": [
      "the type of x is : <class 'str'>\n"
     ]
    }
   ],
   "source": [
    "x = str(1.0)\n",
    "print('the type of x is : {}'.format(type(x)))"
   ]
  },
  {
   "cell_type": "code",
   "execution_count": null,
   "id": "404f2bb9-0f50-46f7-8bf2-39033922f51c",
   "metadata": {},
   "outputs": [],
   "source": []
  }
 ],
 "metadata": {
  "kernelspec": {
   "display_name": "Python 3 (ipykernel)",
   "language": "python",
   "name": "python3"
  },
  "language_info": {
   "codemirror_mode": {
    "name": "ipython",
    "version": 3
   },
   "file_extension": ".py",
   "mimetype": "text/x-python",
   "name": "python",
   "nbconvert_exporter": "python",
   "pygments_lexer": "ipython3",
   "version": "3.10.6"
  }
 },
 "nbformat": 4,
 "nbformat_minor": 5
}
