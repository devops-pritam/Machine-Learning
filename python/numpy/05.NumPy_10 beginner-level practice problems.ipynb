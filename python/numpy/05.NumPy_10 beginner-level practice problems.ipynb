{
 "cells": [
  {
   "cell_type": "markdown",
   "id": "40ec96e7-09c7-4dde-828f-336e9f3b4fbf",
   "metadata": {},
   "source": [
    "## This notebook provides a collection of 10 beginner-level practice problems for learning NumPy, accompanied by solutions. Import the NumPy library before starting the exercises."
   ]
  },
  {
   "cell_type": "markdown",
   "id": "d8fbf47c-d785-491b-844a-a825078d366e",
   "metadata": {},
   "source": [
    "## # Importing NumPy"
   ]
  },
  {
   "cell_type": "code",
   "execution_count": 1,
   "id": "f638f3dd-5b8f-47bb-a6f8-7b2bf35745b5",
   "metadata": {},
   "outputs": [],
   "source": [
    "import numpy as np"
   ]
  },
  {
   "cell_type": "markdown",
   "id": "568b2931-4a94-4f6c-8704-dc080a417909",
   "metadata": {},
   "source": [
    "## Problem 1: Create an Array of Zeros\r",
    "### \n",
    "Create a NumPy array of size 10 filled with zeros.\r\n"
   ]
  },
  {
   "cell_type": "code",
   "execution_count": 2,
   "id": "d47e4456-e4a6-47ae-b91d-87bfdd0a33ec",
   "metadata": {},
   "outputs": [
    {
     "data": {
      "text/plain": [
       "array([0., 0., 0., 0., 0., 0., 0., 0., 0., 0.])"
      ]
     },
     "execution_count": 2,
     "metadata": {},
     "output_type": "execute_result"
    }
   ],
   "source": [
    "# Solution to Problem 1\n",
    "zero_array = np.zeros(10)\n",
    "zero_array\n"
   ]
  },
  {
   "cell_type": "markdown",
   "id": "34bcc36f-532a-469b-a5a8-d46dee3e60fa",
   "metadata": {},
   "source": [
    "## Problem 2: Array of Tens\r",
    "### \n",
    "Create a NumPy array of size 10 filled with the number ten.\r\n"
   ]
  },
  {
   "cell_type": "code",
   "execution_count": 3,
   "id": "e1631d12-bbcf-4848-9364-4a65d618c815",
   "metadata": {},
   "outputs": [
    {
     "data": {
      "text/plain": [
       "array([10, 10, 10, 10, 10, 10, 10, 10, 10, 10])"
      ]
     },
     "execution_count": 3,
     "metadata": {},
     "output_type": "execute_result"
    }
   ],
   "source": [
    "# Solution to Problem 2\n",
    "ten_array = np.full(10, 10)\n",
    "ten_array\n"
   ]
  },
  {
   "cell_type": "markdown",
   "id": "55fcab35-030f-4efc-a80b-263fc9807728",
   "metadata": {},
   "source": [
    "## Problem 3: Array of the First Ten Natural Numbers\r",
    "### \n",
    "Create an array containing the first ten natural numbers.\r\n"
   ]
  },
  {
   "cell_type": "code",
   "execution_count": 4,
   "id": "80e0f995-ae49-4bd0-9574-d53bd7df1c6f",
   "metadata": {},
   "outputs": [
    {
     "data": {
      "text/plain": [
       "array([ 1,  2,  3,  4,  5,  6,  7,  8,  9, 10])"
      ]
     },
     "execution_count": 4,
     "metadata": {},
     "output_type": "execute_result"
    }
   ],
   "source": [
    "# Solution to Problem 3\n",
    "natural_numbers = np.arange(1, 11)\n",
    "natural_numbers\n"
   ]
  },
  {
   "cell_type": "markdown",
   "id": "4d4cf411-37af-4a7a-9877-285cb6003d71",
   "metadata": {},
   "source": [
    "## Problem 4: 2D Zero Array\r",
    "### \n",
    "Create a 2x3 array filled with zeros.\r\n"
   ]
  },
  {
   "cell_type": "code",
   "execution_count": 5,
   "id": "becbd8d4-9d9e-451b-82a5-c8ef9070b873",
   "metadata": {},
   "outputs": [
    {
     "data": {
      "text/plain": [
       "array([[0., 0., 0.],\n",
       "       [0., 0., 0.]])"
      ]
     },
     "execution_count": 5,
     "metadata": {},
     "output_type": "execute_result"
    }
   ],
   "source": [
    "# Solution to Problem 4\n",
    "array_2d_zeros = np.zeros((2, 3))\n",
    "array_2d_zeros\n"
   ]
  },
  {
   "cell_type": "markdown",
   "id": "3c2bddff-f359-4ecb-90f3-fca6947484cc",
   "metadata": {},
   "source": [
    "## Problem 5: Identity Matrix\r",
    "### \n",
    "Generate a 5x5 identity matrix.\r\n"
   ]
  },
  {
   "cell_type": "code",
   "execution_count": 6,
   "id": "5964b953-7910-4b1d-a16c-964c7f502ae9",
   "metadata": {},
   "outputs": [
    {
     "data": {
      "text/plain": [
       "array([[1., 0., 0., 0., 0.],\n",
       "       [0., 1., 0., 0., 0.],\n",
       "       [0., 0., 1., 0., 0.],\n",
       "       [0., 0., 0., 1., 0.],\n",
       "       [0., 0., 0., 0., 1.]])"
      ]
     },
     "execution_count": 6,
     "metadata": {},
     "output_type": "execute_result"
    }
   ],
   "source": [
    "# Solution to Problem 5\n",
    "identity_matrix = np.eye(5)\n",
    "identity_matrix\n"
   ]
  },
  {
   "cell_type": "markdown",
   "id": "8e1eb169-f66e-4151-940e-cd48b180b16a",
   "metadata": {},
   "source": [
    "## Problem 6: Random Numbers Between 0 and 1\r",
    "### \n",
    "Create an array of 10 random numbers between 0 and 1.\r\n"
   ]
  },
  {
   "cell_type": "code",
   "execution_count": 7,
   "id": "1fdcf78d-a3b7-4737-bf2d-4edb3598fa15",
   "metadata": {},
   "outputs": [
    {
     "data": {
      "text/plain": [
       "array([0.98352152, 0.08000351, 0.24271592, 0.89514229, 0.75146809,\n",
       "       0.98647114, 0.40815668, 0.90674668, 0.75992026, 0.61525747])"
      ]
     },
     "execution_count": 7,
     "metadata": {},
     "output_type": "execute_result"
    }
   ],
   "source": [
    "# Solution to Problem 6\n",
    "random_numbers = np.random.rand(10)\n",
    "random_numbers\n"
   ]
  },
  {
   "cell_type": "markdown",
   "id": "611626b0-65e9-47dc-aad5-dca4a44e0e61",
   "metadata": {},
   "source": [
    "## Problem 7: Evenly Spaced Numbers\r",
    "### \n",
    "Generate an array of 20 linearly spaced points between 0 and 5.\r\n"
   ]
  },
  {
   "cell_type": "code",
   "execution_count": 8,
   "id": "f6a8a442-6dbe-4c0b-b309-642aa011224a",
   "metadata": {},
   "outputs": [
    {
     "data": {
      "text/plain": [
       "array([0.        , 0.26315789, 0.52631579, 0.78947368, 1.05263158,\n",
       "       1.31578947, 1.57894737, 1.84210526, 2.10526316, 2.36842105,\n",
       "       2.63157895, 2.89473684, 3.15789474, 3.42105263, 3.68421053,\n",
       "       3.94736842, 4.21052632, 4.47368421, 4.73684211, 5.        ])"
      ]
     },
     "execution_count": 8,
     "metadata": {},
     "output_type": "execute_result"
    }
   ],
   "source": [
    "# Solution to Problem 7\n",
    "linearly_spaced = np.linspace(0, 5, 20)\n",
    "linearly_spaced\n"
   ]
  },
  {
   "cell_type": "markdown",
   "id": "1d88a866-e95a-4af2-a688-81bb447c9349",
   "metadata": {},
   "source": [
    "## Problem 8: Set Random Seed\r",
    "### \n",
    "Set the seed for NumPy's random number generator to 0 and generate five random numbers.\r\n"
   ]
  },
  {
   "cell_type": "markdown",
   "id": "dafb811c-b209-4fc6-8df8-eaa0dfb8e0c8",
   "metadata": {},
   "source": [
    "## If you set the np.random.seed(a_fixed_number) every time you call the numpy's other random function, the result will be the same:"
   ]
  },
  {
   "cell_type": "code",
   "execution_count": 14,
   "id": "71396a00-91ee-4151-ba68-67ea6570f6dc",
   "metadata": {},
   "outputs": [
    {
     "data": {
      "text/plain": [
       "array([0.5488135 , 0.71518937, 0.60276338, 0.54488318, 0.4236548 ])"
      ]
     },
     "execution_count": 14,
     "metadata": {},
     "output_type": "execute_result"
    }
   ],
   "source": [
    "# Solution to Problem 8\n",
    "np.random.seed(0)\n",
    "random_numbers_seed = np.random.rand(5)\n",
    "random_numbers_seed\n"
   ]
  },
  {
   "cell_type": "markdown",
   "id": "d4441f4c-81e3-44b3-b3b9-ae309dac4e58",
   "metadata": {},
   "source": [
    "## Problem 9: 3x3 Array of Random Integers\r",
    "### \n",
    "Create a 3x3 NumPy array of random integers in the range from 10 to 50.\r\n"
   ]
  },
  {
   "cell_type": "code",
   "execution_count": 12,
   "id": "b5c20f0e-636f-4cc7-9d82-9376786de728",
   "metadata": {},
   "outputs": [
    {
     "data": {
      "text/plain": [
       "array([[31, 46, 33],\n",
       "       [16, 34, 34],\n",
       "       [22, 11, 48]])"
      ]
     },
     "execution_count": 12,
     "metadata": {},
     "output_type": "execute_result"
    }
   ],
   "source": [
    "# Solution to Problem 9\n",
    "random_integers = np.random.randint(10, 50, size=(3, 3))\n",
    "random_integers\n"
   ]
  },
  {
   "cell_type": "markdown",
   "id": "e64585c0-f251-4a00-bbda-49425f5ed776",
   "metadata": {},
   "source": [
    "## Problem 10: Array Mean\r",
    "### \n",
    "Find the mean of the array you created in Problem 9.\r\n"
   ]
  },
  {
   "cell_type": "code",
   "execution_count": 13,
   "id": "0a84057a-2329-47c7-8979-7441b4dc7858",
   "metadata": {},
   "outputs": [
    {
     "data": {
      "text/plain": [
       "30.555555555555557"
      ]
     },
     "execution_count": 13,
     "metadata": {},
     "output_type": "execute_result"
    }
   ],
   "source": [
    "# Solution to Problem 10\n",
    "mean_value = random_integers.mean()\n",
    "mean_value\n"
   ]
  },
  {
   "cell_type": "code",
   "execution_count": null,
   "id": "1bb5ab7c-cba1-42cb-af72-a8538bdefbf6",
   "metadata": {},
   "outputs": [],
   "source": []
  }
 ],
 "metadata": {
  "kernelspec": {
   "display_name": "Python 3 (ipykernel)",
   "language": "python",
   "name": "python3"
  },
  "language_info": {
   "codemirror_mode": {
    "name": "ipython",
    "version": 3
   },
   "file_extension": ".py",
   "mimetype": "text/x-python",
   "name": "python",
   "nbconvert_exporter": "python",
   "pygments_lexer": "ipython3",
   "version": "3.10.6"
  }
 },
 "nbformat": 4,
 "nbformat_minor": 5
}
