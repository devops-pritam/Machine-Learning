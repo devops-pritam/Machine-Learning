{
 "cells": [
  {
   "cell_type": "markdown",
   "id": "f6ab982b-b469-46b1-9aa5-514b2357da06",
   "metadata": {},
   "source": [
    "## Numpy Array Indexing"
   ]
  },
  {
   "cell_type": "code",
   "execution_count": 1,
   "id": "3cff3f17-b1d7-4dd4-9155-c812a04b038d",
   "metadata": {},
   "outputs": [],
   "source": [
    "import numpy as np"
   ]
  },
  {
   "cell_type": "code",
   "execution_count": 2,
   "id": "610c774a-212e-45bc-bf8f-552c93d29919",
   "metadata": {},
   "outputs": [],
   "source": [
    "a = np.arange(0,11)"
   ]
  },
  {
   "cell_type": "code",
   "execution_count": 3,
   "id": "9bfff6bb-d760-4f86-9e3f-66da8a50f603",
   "metadata": {},
   "outputs": [
    {
     "data": {
      "text/plain": [
       "array([ 0,  1,  2,  3,  4,  5,  6,  7,  8,  9, 10])"
      ]
     },
     "execution_count": 3,
     "metadata": {},
     "output_type": "execute_result"
    }
   ],
   "source": [
    "a"
   ]
  },
  {
   "cell_type": "code",
   "execution_count": 4,
   "id": "1d9c6df0-6666-410e-836a-a2201257741c",
   "metadata": {},
   "outputs": [
    {
     "data": {
      "text/plain": [
       "0"
      ]
     },
     "execution_count": 4,
     "metadata": {},
     "output_type": "execute_result"
    }
   ],
   "source": [
    "a[0]"
   ]
  },
  {
   "cell_type": "code",
   "execution_count": 5,
   "id": "9b828ea2-5904-4d4f-b19d-617298e37db9",
   "metadata": {},
   "outputs": [
    {
     "data": {
      "text/plain": [
       "3"
      ]
     },
     "execution_count": 5,
     "metadata": {},
     "output_type": "execute_result"
    }
   ],
   "source": [
    "a[3]"
   ]
  },
  {
   "cell_type": "code",
   "execution_count": 6,
   "id": "67cd9c88-5617-4c1a-9278-527f49b40528",
   "metadata": {},
   "outputs": [
    {
     "data": {
      "text/plain": [
       "array([1, 2, 3, 4])"
      ]
     },
     "execution_count": 6,
     "metadata": {},
     "output_type": "execute_result"
    }
   ],
   "source": [
    "a[1:5]"
   ]
  },
  {
   "cell_type": "code",
   "execution_count": 7,
   "id": "157fdeaa-7740-429c-ac7d-412c16a291d6",
   "metadata": {},
   "outputs": [
    {
     "data": {
      "text/plain": [
       "array([0, 1, 2, 3])"
      ]
     },
     "execution_count": 7,
     "metadata": {},
     "output_type": "execute_result"
    }
   ],
   "source": [
    "a[:4]"
   ]
  },
  {
   "cell_type": "code",
   "execution_count": 8,
   "id": "4cc90c6d-3f6b-4b2e-8d77-4d2b9db5e7c7",
   "metadata": {},
   "outputs": [
    {
     "data": {
      "text/plain": [
       "array([ 0,  1,  2,  3,  4,  5,  6,  7,  8,  9, 10])"
      ]
     },
     "execution_count": 8,
     "metadata": {},
     "output_type": "execute_result"
    }
   ],
   "source": [
    "a[::1]"
   ]
  },
  {
   "cell_type": "code",
   "execution_count": 10,
   "id": "9ab26d07-a16f-4c02-be50-373b7250189d",
   "metadata": {},
   "outputs": [],
   "source": [
    "slice_of_a = a[0:6]"
   ]
  },
  {
   "cell_type": "code",
   "execution_count": 11,
   "id": "42d0f651-6111-41f2-9cf3-cddff2bfed92",
   "metadata": {},
   "outputs": [
    {
     "data": {
      "text/plain": [
       "array([0, 1, 2, 3, 4, 5])"
      ]
     },
     "execution_count": 11,
     "metadata": {},
     "output_type": "execute_result"
    }
   ],
   "source": [
    "slice_of_a"
   ]
  },
  {
   "cell_type": "code",
   "execution_count": 12,
   "id": "5992322c-271c-459f-9916-07d2c3947d43",
   "metadata": {},
   "outputs": [
    {
     "data": {
      "text/plain": [
       "array([ 0,  1,  2,  3,  4,  5,  6,  7,  8,  9, 10])"
      ]
     },
     "execution_count": 12,
     "metadata": {},
     "output_type": "execute_result"
    }
   ],
   "source": [
    "a"
   ]
  },
  {
   "cell_type": "code",
   "execution_count": 13,
   "id": "ff46b684-297c-468a-9ce6-2d93ade7238a",
   "metadata": {},
   "outputs": [],
   "source": [
    "slice_of_a = 10"
   ]
  },
  {
   "cell_type": "code",
   "execution_count": 14,
   "id": "4fafa6ea-379e-4558-a5bb-b980bb44d33a",
   "metadata": {},
   "outputs": [
    {
     "data": {
      "text/plain": [
       "10"
      ]
     },
     "execution_count": 14,
     "metadata": {},
     "output_type": "execute_result"
    }
   ],
   "source": [
    "slice_of_a"
   ]
  },
  {
   "cell_type": "code",
   "execution_count": 15,
   "id": "b993276e-8559-4ba7-abc0-35c64d2816f6",
   "metadata": {},
   "outputs": [
    {
     "data": {
      "text/plain": [
       "array([ 0,  1,  2,  3,  4,  5,  6,  7,  8,  9, 10])"
      ]
     },
     "execution_count": 15,
     "metadata": {},
     "output_type": "execute_result"
    }
   ],
   "source": [
    "a"
   ]
  },
  {
   "cell_type": "code",
   "execution_count": 17,
   "id": "018bd9ae-c7be-4683-ad03-7f2483a559a9",
   "metadata": {},
   "outputs": [],
   "source": [
    "slice_of_a = a[0:5]"
   ]
  },
  {
   "cell_type": "code",
   "execution_count": 18,
   "id": "3b5b110a-82fc-4d06-b31c-f84a5246b1ab",
   "metadata": {},
   "outputs": [
    {
     "data": {
      "text/plain": [
       "array([0, 1, 2, 3, 4])"
      ]
     },
     "execution_count": 18,
     "metadata": {},
     "output_type": "execute_result"
    }
   ],
   "source": [
    "slice_of_a"
   ]
  },
  {
   "cell_type": "code",
   "execution_count": 19,
   "id": "30c1c5f8-d730-4ee0-a1cc-3e830748096d",
   "metadata": {},
   "outputs": [],
   "source": [
    "slice_of_a[:] = 9"
   ]
  },
  {
   "cell_type": "code",
   "execution_count": 20,
   "id": "69e6abc8-b201-45dd-b880-fd33e26ed7b1",
   "metadata": {},
   "outputs": [
    {
     "data": {
      "text/plain": [
       "array([9, 9, 9, 9, 9])"
      ]
     },
     "execution_count": 20,
     "metadata": {},
     "output_type": "execute_result"
    }
   ],
   "source": [
    "slice_of_a"
   ]
  },
  {
   "cell_type": "code",
   "execution_count": 21,
   "id": "9189aef9-ecaf-41fe-a7ca-ef7dfd3d8956",
   "metadata": {},
   "outputs": [
    {
     "data": {
      "text/plain": [
       "array([ 9,  9,  9,  9,  9,  5,  6,  7,  8,  9, 10])"
      ]
     },
     "execution_count": 21,
     "metadata": {},
     "output_type": "execute_result"
    }
   ],
   "source": [
    "a"
   ]
  },
  {
   "cell_type": "markdown",
   "id": "4e784702-c220-480c-a3d9-3d318ad2fef6",
   "metadata": {},
   "source": [
    "## It is called broadcasting of Array , due to memory numpy not only change the value of the slice of array but it also changed the original array"
   ]
  },
  {
   "cell_type": "markdown",
   "id": "9665d327-76ab-41aa-894e-0171045acce9",
   "metadata": {},
   "source": [
    "## If we need our original array should not be affected the we need to use copy method"
   ]
  },
  {
   "cell_type": "code",
   "execution_count": 22,
   "id": "86ec17e9-5ed2-4ecc-b269-bc2834975522",
   "metadata": {},
   "outputs": [
    {
     "data": {
      "text/plain": [
       "array([ 9,  9,  9,  9,  9,  5,  6,  7,  8,  9, 10])"
      ]
     },
     "execution_count": 22,
     "metadata": {},
     "output_type": "execute_result"
    }
   ],
   "source": [
    "a"
   ]
  },
  {
   "cell_type": "code",
   "execution_count": 23,
   "id": "ba8bb806-9530-4ec3-b371-966795d88340",
   "metadata": {},
   "outputs": [],
   "source": [
    "b = a.copy()"
   ]
  },
  {
   "cell_type": "code",
   "execution_count": 24,
   "id": "a33539ef-5b19-48ed-9527-a89bd8045bc1",
   "metadata": {},
   "outputs": [
    {
     "data": {
      "text/plain": [
       "array([ 9,  9,  9,  9,  9,  5,  6,  7,  8,  9, 10])"
      ]
     },
     "execution_count": 24,
     "metadata": {},
     "output_type": "execute_result"
    }
   ],
   "source": [
    "b"
   ]
  },
  {
   "cell_type": "code",
   "execution_count": 25,
   "id": "5d8e26e7-0000-436c-819b-97506a08fc29",
   "metadata": {},
   "outputs": [],
   "source": [
    "slice_of_b = b[0:5]"
   ]
  },
  {
   "cell_type": "code",
   "execution_count": 26,
   "id": "2555e37b-9465-4319-8699-4f3fccbe11ad",
   "metadata": {},
   "outputs": [
    {
     "data": {
      "text/plain": [
       "array([9, 9, 9, 9, 9])"
      ]
     },
     "execution_count": 26,
     "metadata": {},
     "output_type": "execute_result"
    }
   ],
   "source": [
    "slice_of_b"
   ]
  },
  {
   "cell_type": "code",
   "execution_count": 27,
   "id": "f74b1b68-d9c6-4019-90ff-c6e0fba839d7",
   "metadata": {},
   "outputs": [],
   "source": [
    "slice_of_b[:] = 24"
   ]
  },
  {
   "cell_type": "code",
   "execution_count": 28,
   "id": "afd3b326-029f-4fd0-b6dc-ee6d738a8965",
   "metadata": {},
   "outputs": [
    {
     "data": {
      "text/plain": [
       "array([24, 24, 24, 24, 24])"
      ]
     },
     "execution_count": 28,
     "metadata": {},
     "output_type": "execute_result"
    }
   ],
   "source": [
    "slice_of_b"
   ]
  },
  {
   "cell_type": "code",
   "execution_count": 29,
   "id": "d70c8805-790a-4e82-acbb-fb168a43fbbc",
   "metadata": {},
   "outputs": [
    {
     "data": {
      "text/plain": [
       "array([24, 24, 24, 24, 24,  5,  6,  7,  8,  9, 10])"
      ]
     },
     "execution_count": 29,
     "metadata": {},
     "output_type": "execute_result"
    }
   ],
   "source": [
    "b"
   ]
  },
  {
   "cell_type": "code",
   "execution_count": 30,
   "id": "005597dd-5f59-4d5e-b509-4d9739557dc6",
   "metadata": {},
   "outputs": [
    {
     "data": {
      "text/plain": [
       "array([ 9,  9,  9,  9,  9,  5,  6,  7,  8,  9, 10])"
      ]
     },
     "execution_count": 30,
     "metadata": {},
     "output_type": "execute_result"
    }
   ],
   "source": [
    "a"
   ]
  },
  {
   "cell_type": "markdown",
   "id": "3d7d68d6-22a5-425f-80ad-92581db6231b",
   "metadata": {},
   "source": [
    "## Here we can see the original array (a) is unchanged whereas the array (b) has changed"
   ]
  },
  {
   "cell_type": "markdown",
   "id": "c1633fc7-78ae-44c3-b1fe-5b9f3441eadb",
   "metadata": {},
   "source": [
    "## Creating a 2-D array"
   ]
  },
  {
   "cell_type": "code",
   "execution_count": 31,
   "id": "3703fcfe-086e-4634-a623-c3177c1b1e05",
   "metadata": {},
   "outputs": [],
   "source": [
    "a_2d = np.array([[5,10,15],[20,25,30],[35,40,45],[50,55,60]])"
   ]
  },
  {
   "cell_type": "code",
   "execution_count": 32,
   "id": "174c4e93-6f1d-4f62-8d91-d04d9bd2566e",
   "metadata": {},
   "outputs": [
    {
     "data": {
      "text/plain": [
       "array([[ 5, 10, 15],\n",
       "       [20, 25, 30],\n",
       "       [35, 40, 45],\n",
       "       [50, 55, 60]])"
      ]
     },
     "execution_count": 32,
     "metadata": {},
     "output_type": "execute_result"
    }
   ],
   "source": [
    "a_2d"
   ]
  },
  {
   "cell_type": "markdown",
   "id": "9f207dd0-6472-461b-9b06-fb549b417fd2",
   "metadata": {},
   "source": [
    "## Get the item from a 2-D Array"
   ]
  },
  {
   "cell_type": "code",
   "execution_count": 33,
   "id": "63bf689a-192b-481a-9c43-0257785c5102",
   "metadata": {},
   "outputs": [
    {
     "data": {
      "text/plain": [
       "25"
      ]
     },
     "execution_count": 33,
     "metadata": {},
     "output_type": "execute_result"
    }
   ],
   "source": [
    "a_2d[1,1]"
   ]
  },
  {
   "cell_type": "code",
   "execution_count": 34,
   "id": "9fb0497d-fe1d-4f90-a1f7-a39b5066dedc",
   "metadata": {},
   "outputs": [
    {
     "data": {
      "text/plain": [
       "60"
      ]
     },
     "execution_count": 34,
     "metadata": {},
     "output_type": "execute_result"
    }
   ],
   "source": [
    "a_2d[3,2]"
   ]
  },
  {
   "cell_type": "code",
   "execution_count": 35,
   "id": "608f2794-5695-4a27-a6c1-5255504a17c0",
   "metadata": {},
   "outputs": [],
   "source": [
    "a_2d[0,2] = 100"
   ]
  },
  {
   "cell_type": "code",
   "execution_count": 36,
   "id": "95970684-4d02-405e-b57d-cfeeab0885ef",
   "metadata": {},
   "outputs": [
    {
     "data": {
      "text/plain": [
       "array([[  5,  10, 100],\n",
       "       [ 20,  25,  30],\n",
       "       [ 35,  40,  45],\n",
       "       [ 50,  55,  60]])"
      ]
     },
     "execution_count": 36,
     "metadata": {},
     "output_type": "execute_result"
    }
   ],
   "source": [
    "a_2d"
   ]
  },
  {
   "cell_type": "markdown",
   "id": "854c84b3-738a-4f30-b9bb-e06d5f3ce397",
   "metadata": {},
   "source": [
    "## If we want to return the ROW"
   ]
  },
  {
   "cell_type": "code",
   "execution_count": 37,
   "id": "55ded2d5-c469-4e6e-8e18-d815fedf9af6",
   "metadata": {},
   "outputs": [
    {
     "data": {
      "text/plain": [
       "array([  5,  10, 100])"
      ]
     },
     "execution_count": 37,
     "metadata": {},
     "output_type": "execute_result"
    }
   ],
   "source": [
    "a_2d[0]"
   ]
  },
  {
   "cell_type": "code",
   "execution_count": 40,
   "id": "d7f0e50d-d94c-40b5-9f56-b739ff36c489",
   "metadata": {},
   "outputs": [
    {
     "data": {
      "text/plain": [
       "array([[  5,  10, 100],\n",
       "       [ 20,  25,  30]])"
      ]
     },
     "execution_count": 40,
     "metadata": {},
     "output_type": "execute_result"
    }
   ],
   "source": [
    "a_2d[:2]"
   ]
  },
  {
   "cell_type": "code",
   "execution_count": 41,
   "id": "72e3c788-4e7f-453e-b60e-acac067dde6e",
   "metadata": {},
   "outputs": [
    {
     "data": {
      "text/plain": [
       "array([[ 10, 100],\n",
       "       [ 25,  30]])"
      ]
     },
     "execution_count": 41,
     "metadata": {},
     "output_type": "execute_result"
    }
   ],
   "source": [
    "a_2d[:2,1:]"
   ]
  },
  {
   "cell_type": "markdown",
   "id": "d1fda625-9968-453f-a5a0-31a342144924",
   "metadata": {},
   "source": [
    "## Boolean in array"
   ]
  },
  {
   "cell_type": "code",
   "execution_count": 43,
   "id": "dda0b74c-8b4a-4545-ae9d-97ec30c757c3",
   "metadata": {},
   "outputs": [],
   "source": [
    "b = np.arange(10,20)"
   ]
  },
  {
   "cell_type": "code",
   "execution_count": 44,
   "id": "28f359c5-4cc5-434c-bba1-6420006faf02",
   "metadata": {},
   "outputs": [
    {
     "data": {
      "text/plain": [
       "array([10, 11, 12, 13, 14, 15, 16, 17, 18, 19])"
      ]
     },
     "execution_count": 44,
     "metadata": {},
     "output_type": "execute_result"
    }
   ],
   "source": [
    "b"
   ]
  },
  {
   "cell_type": "code",
   "execution_count": 45,
   "id": "8dbe5a84-fa49-40ec-bef2-29b0a700a783",
   "metadata": {},
   "outputs": [
    {
     "data": {
      "text/plain": [
       "array([False, False, False, False, False, False,  True,  True,  True,\n",
       "        True])"
      ]
     },
     "execution_count": 45,
     "metadata": {},
     "output_type": "execute_result"
    }
   ],
   "source": [
    "b > 15"
   ]
  },
  {
   "cell_type": "code",
   "execution_count": 46,
   "id": "3ad4b50d-4ae4-4d17-ac1d-48b441fb2a04",
   "metadata": {},
   "outputs": [
    {
     "data": {
      "text/plain": [
       "array([False, False, False, False, False,  True,  True,  True,  True,\n",
       "        True])"
      ]
     },
     "execution_count": 46,
     "metadata": {},
     "output_type": "execute_result"
    }
   ],
   "source": [
    "b >= 15"
   ]
  },
  {
   "cell_type": "code",
   "execution_count": 47,
   "id": "7ad2ffbc-6bba-479d-9fda-6c327f425b77",
   "metadata": {},
   "outputs": [
    {
     "data": {
      "text/plain": [
       "array([ True,  True,  True,  True,  True,  True,  True,  True,  True,\n",
       "        True])"
      ]
     },
     "execution_count": 47,
     "metadata": {},
     "output_type": "execute_result"
    }
   ],
   "source": [
    "b < 20"
   ]
  },
  {
   "cell_type": "markdown",
   "id": "32136d85-4ad5-4078-8832-690e56d585a0",
   "metadata": {},
   "source": [
    "## Array Collection"
   ]
  },
  {
   "cell_type": "code",
   "execution_count": 48,
   "id": "42c294a8-52d9-4672-8d5c-305854e92d46",
   "metadata": {},
   "outputs": [],
   "source": [
    "c = np.arange(0,11)"
   ]
  },
  {
   "cell_type": "code",
   "execution_count": 49,
   "id": "014aa454-76c3-481f-9956-7bd2747057df",
   "metadata": {},
   "outputs": [
    {
     "data": {
      "text/plain": [
       "array([ 0,  1,  2,  3,  4,  5,  6,  7,  8,  9, 10])"
      ]
     },
     "execution_count": 49,
     "metadata": {},
     "output_type": "execute_result"
    }
   ],
   "source": [
    "c"
   ]
  },
  {
   "cell_type": "code",
   "execution_count": 50,
   "id": "fbc498ce-5d1a-42d9-9b13-2595aed7fbb4",
   "metadata": {},
   "outputs": [],
   "source": [
    "bool_c = c > 5"
   ]
  },
  {
   "cell_type": "code",
   "execution_count": 51,
   "id": "82e2bc84-04b4-41bf-806b-034f5ecc30ed",
   "metadata": {},
   "outputs": [
    {
     "data": {
      "text/plain": [
       "array([False, False, False, False, False, False,  True,  True,  True,\n",
       "        True,  True])"
      ]
     },
     "execution_count": 51,
     "metadata": {},
     "output_type": "execute_result"
    }
   ],
   "source": [
    "bool_c"
   ]
  },
  {
   "cell_type": "code",
   "execution_count": 52,
   "id": "a9dd7ff7-929d-4887-892f-c7c0b589f81f",
   "metadata": {},
   "outputs": [
    {
     "data": {
      "text/plain": [
       "array([ 6,  7,  8,  9, 10])"
      ]
     },
     "execution_count": 52,
     "metadata": {},
     "output_type": "execute_result"
    }
   ],
   "source": [
    "c[bool_c]"
   ]
  },
  {
   "cell_type": "markdown",
   "id": "9bce4c54-914e-4a0c-a969-0a6cb157eb4f",
   "metadata": {},
   "source": [
    "## Here the array will return all the True Value"
   ]
  },
  {
   "cell_type": "code",
   "execution_count": 53,
   "id": "e6c65a42-cbd7-459c-afa1-218cf8b13de8",
   "metadata": {},
   "outputs": [
    {
     "data": {
      "text/plain": [
       "array([ 5,  6,  7,  8,  9, 10])"
      ]
     },
     "execution_count": 53,
     "metadata": {},
     "output_type": "execute_result"
    }
   ],
   "source": [
    "c[c>4]"
   ]
  },
  {
   "cell_type": "code",
   "execution_count": 54,
   "id": "12a89aaa-3597-4a8c-8675-8487f3b72275",
   "metadata": {},
   "outputs": [
    {
     "data": {
      "text/plain": [
       "array([0, 1, 2, 3, 4, 5])"
      ]
     },
     "execution_count": 54,
     "metadata": {},
     "output_type": "execute_result"
    }
   ],
   "source": [
    "c[c<6]"
   ]
  },
  {
   "cell_type": "markdown",
   "id": "74028efb-392f-40b1-96e5-9b31f9676547",
   "metadata": {},
   "source": [
    "## Creating a 2-D array from 1-D array"
   ]
  },
  {
   "cell_type": "code",
   "execution_count": 55,
   "id": "b3c1a0f9-2663-4389-b62a-0a9c8bd804be",
   "metadata": {},
   "outputs": [],
   "source": [
    "d = np.arange(0,50)"
   ]
  },
  {
   "cell_type": "code",
   "execution_count": 56,
   "id": "bf316ee1-5bff-47c1-a640-2301f7a973f7",
   "metadata": {},
   "outputs": [
    {
     "data": {
      "text/plain": [
       "array([ 0,  1,  2,  3,  4,  5,  6,  7,  8,  9, 10, 11, 12, 13, 14, 15, 16,\n",
       "       17, 18, 19, 20, 21, 22, 23, 24, 25, 26, 27, 28, 29, 30, 31, 32, 33,\n",
       "       34, 35, 36, 37, 38, 39, 40, 41, 42, 43, 44, 45, 46, 47, 48, 49])"
      ]
     },
     "execution_count": 56,
     "metadata": {},
     "output_type": "execute_result"
    }
   ],
   "source": [
    "d"
   ]
  },
  {
   "cell_type": "code",
   "execution_count": 57,
   "id": "64a86faf-ab20-4c2a-bae5-7f5ec6253d6c",
   "metadata": {},
   "outputs": [],
   "source": [
    "e = np.arange(0,50).reshape(5,10)"
   ]
  },
  {
   "cell_type": "code",
   "execution_count": 58,
   "id": "2dd0713f-5987-48cf-a7a1-a85b1d667c44",
   "metadata": {},
   "outputs": [
    {
     "data": {
      "text/plain": [
       "array([[ 0,  1,  2,  3,  4,  5,  6,  7,  8,  9],\n",
       "       [10, 11, 12, 13, 14, 15, 16, 17, 18, 19],\n",
       "       [20, 21, 22, 23, 24, 25, 26, 27, 28, 29],\n",
       "       [30, 31, 32, 33, 34, 35, 36, 37, 38, 39],\n",
       "       [40, 41, 42, 43, 44, 45, 46, 47, 48, 49]])"
      ]
     },
     "execution_count": 58,
     "metadata": {},
     "output_type": "execute_result"
    }
   ],
   "source": [
    "e"
   ]
  },
  {
   "cell_type": "markdown",
   "id": "fcd6aa64-646b-4a43-a44e-924ca964890c",
   "metadata": {},
   "source": [
    "## Lets say we need to get the value from 23,24 and 33,34"
   ]
  },
  {
   "cell_type": "code",
   "execution_count": 59,
   "id": "df3e025f-2939-450b-b6ba-d9c016c31ce1",
   "metadata": {},
   "outputs": [
    {
     "data": {
      "text/plain": [
       "array([[23, 24],\n",
       "       [33, 34]])"
      ]
     },
     "execution_count": 59,
     "metadata": {},
     "output_type": "execute_result"
    }
   ],
   "source": [
    "e[2:4,3:5]"
   ]
  }
 ],
 "metadata": {
  "kernelspec": {
   "display_name": "Python 3 (ipykernel)",
   "language": "python",
   "name": "python3"
  },
  "language_info": {
   "codemirror_mode": {
    "name": "ipython",
    "version": 3
   },
   "file_extension": ".py",
   "mimetype": "text/x-python",
   "name": "python",
   "nbconvert_exporter": "python",
   "pygments_lexer": "ipython3",
   "version": "3.10.6"
  }
 },
 "nbformat": 4,
 "nbformat_minor": 5
}
