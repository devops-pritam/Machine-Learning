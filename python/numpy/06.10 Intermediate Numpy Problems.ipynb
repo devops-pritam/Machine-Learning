{
 "cells": [
  {
   "cell_type": "markdown",
   "id": "68e7f8d8-9bae-4ad8-9b9a-d3e48fbea86b",
   "metadata": {},
   "source": [
    "# 10 Intermediate Numpy Problems with Solutions\r\n",
    "## \r\n",
    "This notebook contains a series of intermediate-level problems designed to increase your proficiency with NumPy, especially focusing on more complex array manipulations, statistics, linear algebra, and random data generation."
   ]
  },
  {
   "cell_type": "code",
   "execution_count": 1,
   "id": "a9fd5987-f696-47ef-8ded-8dc38d73ab67",
   "metadata": {},
   "outputs": [],
   "source": [
    "# Importing NumPy\n",
    "import numpy as np\n"
   ]
  },
  {
   "cell_type": "markdown",
   "id": "5d8ce754-694c-4de1-a4e9-9b3d24b60d5a",
   "metadata": {},
   "source": [
    "## Problem 1: Reshape Array\n",
    "### Reshape an array of shape (10,) into shape (2, 5).\n"
   ]
  },
  {
   "cell_type": "code",
   "execution_count": 2,
   "id": "398b1701-4162-4de5-936b-9b5665ec9019",
   "metadata": {},
   "outputs": [
    {
     "data": {
      "text/plain": [
       "array([[0, 1, 2, 3, 4],\n",
       "       [5, 6, 7, 8, 9]])"
      ]
     },
     "execution_count": 2,
     "metadata": {},
     "output_type": "execute_result"
    }
   ],
   "source": [
    "# Solution to Problem 1\n",
    "arr = np.arange(10)\n",
    "reshaped_arr = arr.reshape(2, 5)\n",
    "reshaped_arr\n"
   ]
  },
  {
   "cell_type": "markdown",
   "id": "f9a8400d-c20a-46ad-ba66-eca6c1922b3c",
   "metadata": {},
   "source": [
    "## Problem 2: Vertical Stack\r",
    "## \n",
    "Vertically stack the following two arrays: a = [1, 2, 3], b = [4, 5, 6].\r\n"
   ]
  },
  {
   "cell_type": "code",
   "execution_count": 3,
   "id": "349e24d7-9eb8-4b67-a75f-0f7890b62358",
   "metadata": {},
   "outputs": [
    {
     "data": {
      "text/plain": [
       "array([[1, 2, 3],\n",
       "       [4, 5, 6]])"
      ]
     },
     "execution_count": 3,
     "metadata": {},
     "output_type": "execute_result"
    }
   ],
   "source": [
    "# Solution to Problem 2\n",
    "a = np.array([1, 2, 3])\n",
    "b = np.array([4, 5, 6])\n",
    "vstacked = np.vstack((a, b))\n",
    "vstacked\n"
   ]
  },
  {
   "cell_type": "markdown",
   "id": "430cdb4f-8956-4635-8307-82b611416359",
   "metadata": {},
   "source": [
    "## Problem 3: Horizontal Stack\r",
    "### \n",
    "Horizontally stack two 2D arrays of shape (2, 3).\r\n"
   ]
  },
  {
   "cell_type": "code",
   "execution_count": 4,
   "id": "7f15c915-2eb6-4cda-93cc-1436722c2e61",
   "metadata": {},
   "outputs": [
    {
     "data": {
      "text/plain": [
       "array([[ 1,  2,  3,  7,  8,  9],\n",
       "       [ 4,  5,  6, 10, 11, 12]])"
      ]
     },
     "execution_count": 4,
     "metadata": {},
     "output_type": "execute_result"
    }
   ],
   "source": [
    "# Solution to Problem 3\n",
    "a = np.array([[1, 2, 3], [4, 5, 6]])\n",
    "b = np.array([[7, 8, 9], [10, 11, 12]])\n",
    "hstacked = np.hstack((a, b))\n",
    "hstacked\n"
   ]
  },
  {
   "cell_type": "markdown",
   "id": "db2f6ae4-ea51-48b0-82c4-76f16b5b0650",
   "metadata": {},
   "source": [
    "## Problem 4: Boolean Indexing\r",
    "### \n",
    "Create an array of shape (10,) of random integers in the range [1, 100] and replace all values greater than 50 with the number 50.\r\n"
   ]
  },
  {
   "cell_type": "code",
   "execution_count": 5,
   "id": "353a3e8c-0b9a-4846-9d95-80253996aba2",
   "metadata": {},
   "outputs": [
    {
     "data": {
      "text/plain": [
       "array([50, 50, 50,  8, 50, 50, 12, 11, 50, 50])"
      ]
     },
     "execution_count": 5,
     "metadata": {},
     "output_type": "execute_result"
    }
   ],
   "source": [
    "# Solution to Problem 4\n",
    "arr = np.random.randint(1, 100, size=10)\n",
    "arr[arr > 50] = 50\n",
    "arr\n"
   ]
  },
  {
   "cell_type": "markdown",
   "id": "b4c48997-043f-40f3-972f-90bd2947cecd",
   "metadata": {},
   "source": [
    "## Problem 5: Random Float Array Sum\r",
    "### \n",
    "Create a 4x4 array of random floats and calculate the sum of all the elements.\r\n"
   ]
  },
  {
   "cell_type": "code",
   "execution_count": 6,
   "id": "a2be300b-f6a7-40e5-b3cc-ccc71dffd7a1",
   "metadata": {},
   "outputs": [
    {
     "data": {
      "text/plain": [
       "8.947798977590566"
      ]
     },
     "execution_count": 6,
     "metadata": {},
     "output_type": "execute_result"
    }
   ],
   "source": [
    "# Solution to Problem 5\n",
    "arr = np.random.rand(4, 4)\n",
    "total_sum = arr.sum()\n",
    "total_sum\n"
   ]
  },
  {
   "cell_type": "markdown",
   "id": "5544980c-7f2f-4768-95db-73dba266bf2d",
   "metadata": {},
   "source": [
    "## Problem 6: Array Element-wise Multiplication\r\n",
    "Multiply two 3x3 matrices element-wise.\r\n"
   ]
  },
  {
   "cell_type": "code",
   "execution_count": 7,
   "id": "0b7d4e56-498f-4d9c-8ddd-79299c8d9f0d",
   "metadata": {},
   "outputs": [
    {
     "data": {
      "text/plain": [
       "array([[ 9, 16, 21],\n",
       "       [24, 25, 24],\n",
       "       [21, 16,  9]])"
      ]
     },
     "execution_count": 7,
     "metadata": {},
     "output_type": "execute_result"
    }
   ],
   "source": [
    "# Solution to Problem 6\n",
    "a = np.array([[1, 2, 3], [4, 5, 6], [7, 8, 9]])\n",
    "b = np.array([[9, 8, 7], [6, 5, 4], [3, 2, 1]])\n",
    "element_wise_product = np.multiply(a, b)\n",
    "element_wise_product\n"
   ]
  },
  {
   "cell_type": "markdown",
   "id": "c285cdca-3786-4007-8b78-1b5d4fd70f61",
   "metadata": {},
   "source": [
    "## Problem 7: Matrix Multiplication\r\n",
    "Perform a matrix multiplication between two 3x3 matrices.\r\n"
   ]
  },
  {
   "cell_type": "code",
   "execution_count": 8,
   "id": "6a786a73-e49a-47b2-87e0-e5b00b446d53",
   "metadata": {},
   "outputs": [
    {
     "data": {
      "text/plain": [
       "array([[ 30,  24,  18],\n",
       "       [ 84,  69,  54],\n",
       "       [138, 114,  90]])"
      ]
     },
     "execution_count": 8,
     "metadata": {},
     "output_type": "execute_result"
    }
   ],
   "source": [
    "# Solution to Problem 7\n",
    "a = np.array([[1, 2, 3], [4, 5, 6], [7, 8, 9]])\n",
    "b = np.array([[9, 8, 7], [6, 5, 4], [3, 2, 1]])\n",
    "matrix_product = np.dot(a, b)\n",
    "matrix_product\n"
   ]
  },
  {
   "cell_type": "markdown",
   "id": "9beb7cf6-ce0d-4ff4-ac2f-8742240953a3",
   "metadata": {},
   "source": [
    "## Problem 8: Extract Diagonal Elements\r\n",
    "Extract the diagonal elements of a 4x4 matrix.\r\n"
   ]
  },
  {
   "cell_type": "code",
   "execution_count": 9,
   "id": "d38d1226-edfe-44c2-b83b-7f3b247d03e9",
   "metadata": {},
   "outputs": [
    {
     "data": {
      "text/plain": [
       "array([ 0,  5, 10, 15])"
      ]
     },
     "execution_count": 9,
     "metadata": {},
     "output_type": "execute_result"
    }
   ],
   "source": [
    "# Solution to Problem 8\n",
    "matrix = np.arange(16).reshape(4, 4)\n",
    "diagonal = np.diag(matrix)\n",
    "diagonal\n"
   ]
  },
  {
   "cell_type": "markdown",
   "id": "9b6cd261-415e-41a6-8048-b1374588cac0",
   "metadata": {},
   "source": [
    "## Problem 9: Calculate Eigenvalues and Eigenvectors\r\n",
    "Calculate the eigenvalues and eigenvectors of a 3x3 matrix.\r\n"
   ]
  },
  {
   "cell_type": "code",
   "execution_count": 10,
   "id": "64118e29-2453-438e-8044-b26154869c9a",
   "metadata": {},
   "outputs": [
    {
     "data": {
      "text/plain": [
       "(array([14.4650316 ,  2.88883605,  0.64613234]),\n",
       " array([[-0.1610977 , -0.36195045,  0.32296783],\n",
       "        [-0.38954099, -0.24818321, -0.79687827],\n",
       "        [-0.90681053,  0.89855271,  0.51056518]]))"
      ]
     },
     "execution_count": 10,
     "metadata": {},
     "output_type": "execute_result"
    }
   ],
   "source": [
    "# Solution to Problem 9\n",
    "matrix = np.array([[4, 2, 1], [6, 5, 3], [9, 9, 9]])\n",
    "eigenvalues, eigenvectors = np.linalg.eig(matrix)\n",
    "eigenvalues, eigenvectors\n"
   ]
  },
  {
   "cell_type": "markdown",
   "id": "dd6dfad2-2742-49e2-a6c5-1fc90860591b",
   "metadata": {},
   "source": [
    "## Problem 10: Sort an Array\r\n",
    "Sort an array of random integers, size 10, in ascending order.\r\n"
   ]
  },
  {
   "cell_type": "code",
   "execution_count": 11,
   "id": "6e350ebc-e592-4feb-993b-e57e596a7cb6",
   "metadata": {},
   "outputs": [
    {
     "data": {
      "text/plain": [
       "array([25, 40, 47, 48, 55, 63, 64, 80, 80, 84])"
      ]
     },
     "execution_count": 11,
     "metadata": {},
     "output_type": "execute_result"
    }
   ],
   "source": [
    "# Solution to Problem 10\n",
    "arr = np.random.randint(1, 100, size=10)\n",
    "sorted_arr = np.sort(arr)\n",
    "sorted_arr\n"
   ]
  },
  {
   "cell_type": "code",
   "execution_count": null,
   "id": "85a99c5a-98f9-487e-ae70-5060525515e0",
   "metadata": {},
   "outputs": [],
   "source": []
  }
 ],
 "metadata": {
  "kernelspec": {
   "display_name": "Python 3 (ipykernel)",
   "language": "python",
   "name": "python3"
  },
  "language_info": {
   "codemirror_mode": {
    "name": "ipython",
    "version": 3
   },
   "file_extension": ".py",
   "mimetype": "text/x-python",
   "name": "python",
   "nbconvert_exporter": "python",
   "pygments_lexer": "ipython3",
   "version": "3.10.6"
  }
 },
 "nbformat": 4,
 "nbformat_minor": 5
}
