{
 "cells": [
  {
   "cell_type": "markdown",
   "id": "2dfb3a7b-a862-423f-a508-542ed047296b",
   "metadata": {},
   "source": [
    "## Numpy Operations"
   ]
  },
  {
   "cell_type": "markdown",
   "id": "077f58db-7a13-49a9-a8f3-e77478f0f0ec",
   "metadata": {},
   "source": [
    "### array with array"
   ]
  },
  {
   "cell_type": "code",
   "execution_count": 1,
   "id": "45fb02c3-0714-4099-b125-945741b79f81",
   "metadata": {},
   "outputs": [],
   "source": [
    "import numpy as np"
   ]
  },
  {
   "cell_type": "code",
   "execution_count": 2,
   "id": "82cd0aaa-4960-40db-a203-9a4db2bf9172",
   "metadata": {},
   "outputs": [],
   "source": [
    "a = np.arange(10,21)"
   ]
  },
  {
   "cell_type": "code",
   "execution_count": 3,
   "id": "1e3c17ba-a367-4001-8b7c-348c45b7ac8a",
   "metadata": {},
   "outputs": [
    {
     "data": {
      "text/plain": [
       "array([10, 11, 12, 13, 14, 15, 16, 17, 18, 19, 20])"
      ]
     },
     "execution_count": 3,
     "metadata": {},
     "output_type": "execute_result"
    }
   ],
   "source": [
    "a"
   ]
  },
  {
   "cell_type": "code",
   "execution_count": 4,
   "id": "72ee9358-2c34-4a80-b20b-da18c2c5eeb3",
   "metadata": {},
   "outputs": [],
   "source": [
    "b = a + a"
   ]
  },
  {
   "cell_type": "code",
   "execution_count": 5,
   "id": "16f84be9-a7da-4af2-8e06-99b79995799e",
   "metadata": {},
   "outputs": [
    {
     "data": {
      "text/plain": [
       "array([20, 22, 24, 26, 28, 30, 32, 34, 36, 38, 40])"
      ]
     },
     "execution_count": 5,
     "metadata": {},
     "output_type": "execute_result"
    }
   ],
   "source": [
    "b"
   ]
  },
  {
   "cell_type": "code",
   "execution_count": 6,
   "id": "d674110b-0168-4274-933c-838f03cddc41",
   "metadata": {},
   "outputs": [],
   "source": [
    "d = a - a"
   ]
  },
  {
   "cell_type": "code",
   "execution_count": 7,
   "id": "fda8eb3f-36f9-427b-9c99-90d6d7610e14",
   "metadata": {},
   "outputs": [
    {
     "data": {
      "text/plain": [
       "array([10, 11, 12, 13, 14, 15, 16, 17, 18, 19, 20])"
      ]
     },
     "execution_count": 7,
     "metadata": {},
     "output_type": "execute_result"
    }
   ],
   "source": [
    "a"
   ]
  },
  {
   "cell_type": "code",
   "execution_count": 8,
   "id": "80860d06-920f-4d6d-916d-047a5c31b778",
   "metadata": {},
   "outputs": [
    {
     "data": {
      "text/plain": [
       "array([0, 0, 0, 0, 0, 0, 0, 0, 0, 0, 0])"
      ]
     },
     "execution_count": 8,
     "metadata": {},
     "output_type": "execute_result"
    }
   ],
   "source": [
    "d"
   ]
  },
  {
   "cell_type": "code",
   "execution_count": 9,
   "id": "9e802dd1-514f-4ee0-a8b3-fdc23c78f4f9",
   "metadata": {},
   "outputs": [],
   "source": [
    "e = a * d"
   ]
  },
  {
   "cell_type": "code",
   "execution_count": 10,
   "id": "3d6b95a0-f7b5-4e1b-9352-3beedba81ce5",
   "metadata": {},
   "outputs": [
    {
     "data": {
      "text/plain": [
       "array([0, 0, 0, 0, 0, 0, 0, 0, 0, 0, 0])"
      ]
     },
     "execution_count": 10,
     "metadata": {},
     "output_type": "execute_result"
    }
   ],
   "source": [
    "e"
   ]
  },
  {
   "cell_type": "code",
   "execution_count": 11,
   "id": "3988a73c-e990-47ce-8936-f6003f45ed7d",
   "metadata": {},
   "outputs": [],
   "source": [
    "f = a * a"
   ]
  },
  {
   "cell_type": "code",
   "execution_count": 12,
   "id": "8851feb7-b0c4-44d7-9f4c-2fabc7f27259",
   "metadata": {},
   "outputs": [
    {
     "data": {
      "text/plain": [
       "array([100, 121, 144, 169, 196, 225, 256, 289, 324, 361, 400])"
      ]
     },
     "execution_count": 12,
     "metadata": {},
     "output_type": "execute_result"
    }
   ],
   "source": [
    "f"
   ]
  },
  {
   "cell_type": "code",
   "execution_count": 13,
   "id": "be6de544-8d14-41e8-ae11-cce4cdf8a73d",
   "metadata": {},
   "outputs": [],
   "source": [
    "g = f / a"
   ]
  },
  {
   "cell_type": "code",
   "execution_count": 14,
   "id": "08b8236c-e097-4e5e-bd92-07e2013b9697",
   "metadata": {},
   "outputs": [
    {
     "data": {
      "text/plain": [
       "array([10., 11., 12., 13., 14., 15., 16., 17., 18., 19., 20.])"
      ]
     },
     "execution_count": 14,
     "metadata": {},
     "output_type": "execute_result"
    }
   ],
   "source": [
    "g"
   ]
  },
  {
   "cell_type": "markdown",
   "id": "8f4ca9d6-5348-4a5c-8a1c-0db620d93bd6",
   "metadata": {},
   "source": [
    "## Array with scaler"
   ]
  },
  {
   "cell_type": "code",
   "execution_count": 15,
   "id": "c074a2b0-de4f-47fc-9f07-2f1e489b5412",
   "metadata": {},
   "outputs": [
    {
     "data": {
      "text/plain": [
       "array([10, 11, 12, 13, 14, 15, 16, 17, 18, 19, 20])"
      ]
     },
     "execution_count": 15,
     "metadata": {},
     "output_type": "execute_result"
    }
   ],
   "source": [
    "a"
   ]
  },
  {
   "cell_type": "code",
   "execution_count": 16,
   "id": "70476290-8fc7-42d4-bdb7-00a720f56d9a",
   "metadata": {},
   "outputs": [],
   "source": [
    "h = a - 5"
   ]
  },
  {
   "cell_type": "code",
   "execution_count": 17,
   "id": "df80e6f6-5dcc-4811-bfdb-f9d589ea3d6c",
   "metadata": {},
   "outputs": [
    {
     "data": {
      "text/plain": [
       "array([ 5,  6,  7,  8,  9, 10, 11, 12, 13, 14, 15])"
      ]
     },
     "execution_count": 17,
     "metadata": {},
     "output_type": "execute_result"
    }
   ],
   "source": [
    "h"
   ]
  },
  {
   "cell_type": "code",
   "execution_count": 25,
   "id": "b5b1c670-0ce0-43be-8e93-9b6b075faf88",
   "metadata": {},
   "outputs": [
    {
     "data": {
      "text/plain": [
       "array([1000, 1331, 1728, 2197, 2744, 3375, 4096, 4913, 5832, 6859, 8000],\n",
       "      dtype=int32)"
      ]
     },
     "execution_count": 25,
     "metadata": {},
     "output_type": "execute_result"
    }
   ],
   "source": [
    "a ** 3"
   ]
  },
  {
   "cell_type": "markdown",
   "id": "09dff9cc-ede2-465d-8267-25b8756fd5eb",
   "metadata": {},
   "source": [
    "## In mathematics if we divide any number with 0 we will get infinity but in programming we will get an ERROR"
   ]
  },
  {
   "cell_type": "code",
   "execution_count": 18,
   "id": "e210698f-2105-44d9-a49e-30d054715e47",
   "metadata": {},
   "outputs": [
    {
     "ename": "ZeroDivisionError",
     "evalue": "division by zero",
     "output_type": "error",
     "traceback": [
      "\u001b[1;31m---------------------------------------------------------------------------\u001b[0m",
      "\u001b[1;31mZeroDivisionError\u001b[0m                         Traceback (most recent call last)",
      "Cell \u001b[1;32mIn[18], line 1\u001b[0m\n\u001b[1;32m----> 1\u001b[0m \u001b[38;5;241;43m10\u001b[39;49m\u001b[38;5;241;43m/\u001b[39;49m\u001b[38;5;241;43m0\u001b[39;49m\n",
      "\u001b[1;31mZeroDivisionError\u001b[0m: division by zero"
     ]
    }
   ],
   "source": [
    "10/0"
   ]
  },
  {
   "cell_type": "markdown",
   "id": "c88934b0-947b-45ed-8cdf-e2a731c447d2",
   "metadata": {},
   "source": [
    "## But in numpy we will get the warning but there will not be any error"
   ]
  },
  {
   "cell_type": "code",
   "execution_count": 19,
   "id": "aa69a8eb-98fa-478a-ac9e-63e36a9fbe07",
   "metadata": {},
   "outputs": [
    {
     "data": {
      "text/plain": [
       "array([10, 11, 12, 13, 14, 15, 16, 17, 18, 19, 20])"
      ]
     },
     "execution_count": 19,
     "metadata": {},
     "output_type": "execute_result"
    }
   ],
   "source": [
    "a"
   ]
  },
  {
   "cell_type": "code",
   "execution_count": 22,
   "id": "fb26ef5e-7ac9-4dbb-83f9-d6d70fae48df",
   "metadata": {},
   "outputs": [
    {
     "data": {
      "text/plain": [
       "array([0, 0, 0, 0, 0, 0, 0, 0, 0, 0, 0])"
      ]
     },
     "execution_count": 22,
     "metadata": {},
     "output_type": "execute_result"
    }
   ],
   "source": [
    "d"
   ]
  },
  {
   "cell_type": "code",
   "execution_count": 23,
   "id": "361dca70-170e-4f4c-9b3e-ce3195fa56aa",
   "metadata": {},
   "outputs": [
    {
     "name": "stderr",
     "output_type": "stream",
     "text": [
      "C:\\Users\\ACER\\AppData\\Local\\Temp\\ipykernel_16560\\3201205449.py:1: RuntimeWarning: divide by zero encountered in divide\n",
      "  a/d\n"
     ]
    },
    {
     "data": {
      "text/plain": [
       "array([inf, inf, inf, inf, inf, inf, inf, inf, inf, inf, inf])"
      ]
     },
     "execution_count": 23,
     "metadata": {},
     "output_type": "execute_result"
    }
   ],
   "source": [
    "a/d"
   ]
  },
  {
   "cell_type": "code",
   "execution_count": 24,
   "id": "e90c33a1-5ae8-46b7-be1a-715166218184",
   "metadata": {},
   "outputs": [
    {
     "name": "stderr",
     "output_type": "stream",
     "text": [
      "C:\\Users\\ACER\\AppData\\Local\\Temp\\ipykernel_16560\\2337618042.py:1: RuntimeWarning: invalid value encountered in divide\n",
      "  d/d\n"
     ]
    },
    {
     "data": {
      "text/plain": [
       "array([nan, nan, nan, nan, nan, nan, nan, nan, nan, nan, nan])"
      ]
     },
     "execution_count": 24,
     "metadata": {},
     "output_type": "execute_result"
    }
   ],
   "source": [
    "d/d"
   ]
  },
  {
   "cell_type": "markdown",
   "id": "71c84863-42a3-409a-a557-8b29fab4cd6c",
   "metadata": {},
   "source": [
    "## Universal Array Function"
   ]
  },
  {
   "cell_type": "markdown",
   "id": "02f66a33-ae6b-422d-8e8c-4eee8107677a",
   "metadata": {},
   "source": [
    "## To get the square Root"
   ]
  },
  {
   "cell_type": "code",
   "execution_count": 26,
   "id": "defc808c-4d63-4dc6-95f4-7cce32d39f24",
   "metadata": {},
   "outputs": [],
   "source": [
    " arr = np.arange(0,11)"
   ]
  },
  {
   "cell_type": "code",
   "execution_count": 28,
   "id": "936b70e0-4437-44a7-ab82-02d35365d707",
   "metadata": {},
   "outputs": [
    {
     "data": {
      "text/plain": [
       "array([ 0,  1,  2,  3,  4,  5,  6,  7,  8,  9, 10])"
      ]
     },
     "execution_count": 28,
     "metadata": {},
     "output_type": "execute_result"
    }
   ],
   "source": [
    "arr"
   ]
  },
  {
   "cell_type": "code",
   "execution_count": 30,
   "id": "3382793d-b551-45ad-b990-199c26b8a4fd",
   "metadata": {},
   "outputs": [
    {
     "data": {
      "text/plain": [
       "array([0.        , 1.        , 1.41421356, 1.73205081, 2.        ,\n",
       "       2.23606798, 2.44948974, 2.64575131, 2.82842712, 3.        ,\n",
       "       3.16227766])"
      ]
     },
     "execution_count": 30,
     "metadata": {},
     "output_type": "execute_result"
    }
   ],
   "source": [
    "np.sqrt(arr)"
   ]
  },
  {
   "cell_type": "markdown",
   "id": "614405c8-e0a9-444f-83c4-64f58840bece",
   "metadata": {},
   "source": [
    "## For Max or Min"
   ]
  },
  {
   "cell_type": "code",
   "execution_count": 31,
   "id": "f70af3a0-10b5-4e55-b755-3f544f91ad76",
   "metadata": {},
   "outputs": [
    {
     "data": {
      "text/plain": [
       "10"
      ]
     },
     "execution_count": 31,
     "metadata": {},
     "output_type": "execute_result"
    }
   ],
   "source": [
    "np.max(arr)"
   ]
  },
  {
   "cell_type": "code",
   "execution_count": 32,
   "id": "cd6bd94f-4c4d-4426-85ef-47a27de5a8eb",
   "metadata": {},
   "outputs": [
    {
     "data": {
      "text/plain": [
       "0"
      ]
     },
     "execution_count": 32,
     "metadata": {},
     "output_type": "execute_result"
    }
   ],
   "source": [
    "np.min(arr)"
   ]
  },
  {
   "cell_type": "markdown",
   "id": "e8be61ed-265e-4759-a2be-a0c7333960c2",
   "metadata": {},
   "source": [
    "## For LOG"
   ]
  },
  {
   "cell_type": "code",
   "execution_count": 33,
   "id": "77444669-e448-4ab8-9c56-c28a9c55311e",
   "metadata": {},
   "outputs": [
    {
     "name": "stderr",
     "output_type": "stream",
     "text": [
      "C:\\Users\\ACER\\AppData\\Local\\Temp\\ipykernel_16560\\3120950136.py:1: RuntimeWarning: divide by zero encountered in log\n",
      "  np.log(arr)\n"
     ]
    },
    {
     "data": {
      "text/plain": [
       "array([      -inf, 0.        , 0.69314718, 1.09861229, 1.38629436,\n",
       "       1.60943791, 1.79175947, 1.94591015, 2.07944154, 2.19722458,\n",
       "       2.30258509])"
      ]
     },
     "execution_count": 33,
     "metadata": {},
     "output_type": "execute_result"
    }
   ],
   "source": [
    "np.log(arr)"
   ]
  },
  {
   "cell_type": "markdown",
   "id": "b7286261-6544-4044-a350-2eb1aa513444",
   "metadata": {},
   "source": [
    "## For Sin"
   ]
  },
  {
   "cell_type": "code",
   "execution_count": 34,
   "id": "ae07b154-d761-4df9-a5b1-23370e9cb6f2",
   "metadata": {},
   "outputs": [
    {
     "data": {
      "text/plain": [
       "array([ 0.        ,  0.84147098,  0.90929743,  0.14112001, -0.7568025 ,\n",
       "       -0.95892427, -0.2794155 ,  0.6569866 ,  0.98935825,  0.41211849,\n",
       "       -0.54402111])"
      ]
     },
     "execution_count": 34,
     "metadata": {},
     "output_type": "execute_result"
    }
   ],
   "source": [
    "np.sin(arr)"
   ]
  },
  {
   "cell_type": "markdown",
   "id": "c6ad08b0-ed88-4420-9131-ba30b457dfde",
   "metadata": {},
   "source": [
    "## For COS"
   ]
  },
  {
   "cell_type": "code",
   "execution_count": 35,
   "id": "5908d3e2-38ea-453d-95d4-9f66c25ba274",
   "metadata": {},
   "outputs": [
    {
     "data": {
      "text/plain": [
       "array([ 1.        ,  0.54030231, -0.41614684, -0.9899925 , -0.65364362,\n",
       "        0.28366219,  0.96017029,  0.75390225, -0.14550003, -0.91113026,\n",
       "       -0.83907153])"
      ]
     },
     "execution_count": 35,
     "metadata": {},
     "output_type": "execute_result"
    }
   ],
   "source": [
    "np.cos(arr)"
   ]
  },
  {
   "cell_type": "markdown",
   "id": "e86af471-2b43-47fa-a804-c6727d2f3f92",
   "metadata": {},
   "source": [
    "## For more ufunc check this official link\n",
    "https://numpy.org/doc/stable/reference/ufuncs.html"
   ]
  },
  {
   "cell_type": "code",
   "execution_count": null,
   "id": "ab7b7562-9e87-44a7-8ca5-ed23301efb6a",
   "metadata": {},
   "outputs": [],
   "source": []
  }
 ],
 "metadata": {
  "kernelspec": {
   "display_name": "Python 3 (ipykernel)",
   "language": "python",
   "name": "python3"
  },
  "language_info": {
   "codemirror_mode": {
    "name": "ipython",
    "version": 3
   },
   "file_extension": ".py",
   "mimetype": "text/x-python",
   "name": "python",
   "nbconvert_exporter": "python",
   "pygments_lexer": "ipython3",
   "version": "3.10.6"
  }
 },
 "nbformat": 4,
 "nbformat_minor": 5
}
